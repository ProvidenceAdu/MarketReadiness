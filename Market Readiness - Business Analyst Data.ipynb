{
 "cells": [
  {
   "cell_type": "markdown",
   "id": "3e2946f3",
   "metadata": {},
   "source": [
    "# Import Libraries"
   ]
  },
  {
   "cell_type": "code",
   "execution_count": 2,
   "id": "cad1d093",
   "metadata": {},
   "outputs": [],
   "source": [
    "import arcpy\n",
    "import pandas as pd\n",
    "import numpy as np\n",
    "import os\n",
    "import censusdata as cs\n",
    "from census import Census\n",
    "pd.set_option('display.max_rows',None, 'display.max_columns',None,'display.max_colwidth', None)"
   ]
  },
  {
   "cell_type": "markdown",
   "id": "830cde0f",
   "metadata": {},
   "source": [
    "## Set Directory"
   ]
  },
  {
   "cell_type": "code",
   "execution_count": 3,
   "id": "b968e307",
   "metadata": {},
   "outputs": [],
   "source": [
    "path = 'C:\\\\Users\\\\Thepr\\\\Documents\\\\Consulting\\\\Market Readiness'\n",
    "os.chdir(path)"
   ]
  },
  {
   "cell_type": "code",
   "execution_count": 4,
   "id": "6cf36233",
   "metadata": {},
   "outputs": [],
   "source": [
    "ProjectGDB =  r\"C:\\\\Users\\\\Thepr\\\\Documents\\\\Consulting\\\\Market Readiness\\\\Market Readiness.gdb\\\\\"\n",
    "arcpy.env.overwriteOutput = True\n",
    "arcpy.env.workspace = ProjectGDB"
   ]
  },
  {
   "cell_type": "code",
   "execution_count": 5,
   "id": "bdd46ba4",
   "metadata": {},
   "outputs": [
    {
     "data": {
      "text/html": [
       "<div class='gpresult'><h2>Messages</h2><div id='messages' data-messages='[\"Start Time: Saturday, August 9, 2025 7:07:12 PM\",\"Succeeded at Saturday, August 9, 2025 7:07:14 PM (Elapsed Time: 2.32 seconds)\"]' data-show='true'><div id = 'default' /></div></div>"
      ],
      "text/plain": [
       "<Result 'C:\\\\Users\\\\Thepr\\\\Documents\\\\Consulting\\\\Market Readiness\\\\Market Readiness.gdb\\\\ArlingtonMarketAssessmentAreasEnriched'>"
      ]
     },
     "execution_count": 5,
     "metadata": {},
     "output_type": "execute_result"
    }
   ],
   "source": [
    "arcpy.ba.EnrichLayer(\n",
    "    \"ArlingtonMarketAssessmentAreas\",\n",
    "    \"ArlingtonMarketAssessmentAreasEnriched\",\n",
    "    ############ Population Totals ################\n",
    "    \"populationtotals.TOTPOP_CY;populationtotals.POPDENS_CY;populationtotals.TOTPOP_FY;HistoricalHousing.TOTHU_CY; \"\\\n",
    "    #######  Vacancy #####\n",
    "    \"vacant.VACANT_CY;vacant.VACANT_FY;housingunittotals.TOTHU_CY;homevalue.MEDVAL_CY;homevalue.ACSMEDVAL; \"\\\n",
    "    ################# Retail ##################################\n",
    "    \"RetailDemandbyNAICS.INDRTFD_X;RetailDemandbyNAICS.INDRT_X;RetailDemandbyNAICS.IND722_X; \"\\\n",
    "    ###################  Employment ###############################\n",
    "    \"EmploymentUnemployment.UNEMPRT_CY;KeyUSFacts.MEDVAL_CY;KeyUSFacts.MEDVAL_FY\",\n",
    "    \"\",\n",
    "    1,\n",
    "    \"\"\n",
    ")\n"
   ]
  },
  {
   "cell_type": "code",
   "execution_count": null,
   "id": "34acc4b2",
   "metadata": {},
   "outputs": [],
   "source": []
  }
 ],
 "metadata": {
  "kernelspec": {
   "display_name": "Python 3 (ipykernel)",
   "language": "python",
   "name": "python3"
  },
  "language_info": {
   "codemirror_mode": {
    "name": "ipython",
    "version": 3
   },
   "file_extension": ".py",
   "mimetype": "text/x-python",
   "name": "python",
   "nbconvert_exporter": "python",
   "pygments_lexer": "ipython3",
   "version": "3.9.18"
  }
 },
 "nbformat": 4,
 "nbformat_minor": 5
}
