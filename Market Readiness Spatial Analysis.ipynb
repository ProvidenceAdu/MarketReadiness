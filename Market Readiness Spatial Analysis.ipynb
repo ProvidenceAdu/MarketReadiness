{
 "cells": [
  {
   "cell_type": "markdown",
   "id": "bf9bd7f2",
   "metadata": {},
   "source": [
    "### Import Libraries"
   ]
  },
  {
   "cell_type": "code",
   "execution_count": 1,
   "id": "840cab85",
   "metadata": {},
   "outputs": [],
   "source": [
    "import arcpy\n",
    "import pandas as pd\n",
    "import numpy as np\n",
    "import os\n",
    "import censusdata as cs\n",
    "from census import Census\n",
    "\n",
    "pd.set_option('display.max_rows',None, 'display.max_columns',None,'display.max_colwidth', None)"
   ]
  },
  {
   "cell_type": "markdown",
   "id": "ef983448",
   "metadata": {},
   "source": [
    "## Set Directory"
   ]
  },
  {
   "cell_type": "code",
   "execution_count": 2,
   "id": "da05de5b",
   "metadata": {},
   "outputs": [],
   "source": [
    "path = 'C:\\\\Users\\\\Thepr\\\\Documents\\\\Consulting\\\\Market Readiness'\n",
    "os.chdir(path)"
   ]
  },
  {
   "cell_type": "code",
   "execution_count": 3,
   "id": "319344ab",
   "metadata": {},
   "outputs": [],
   "source": [
    "ProjectGDB =  r\"C:\\\\Users\\\\Thepr\\\\Documents\\\\Consulting\\\\Market Readiness\\\\Market Readiness.gdb\\\\\"\n",
    "arcpy.env.overwriteOutput = True\n",
    "arcpy.env.workspace = ProjectGDB"
   ]
  },
  {
   "cell_type": "markdown",
   "id": "03fe648a",
   "metadata": {},
   "source": [
    "# Market Demand"
   ]
  },
  {
   "cell_type": "markdown",
   "id": "085eee07",
   "metadata": {},
   "source": [
    "- Business Analyst"
   ]
  },
  {
   "cell_type": "code",
   "execution_count": 4,
   "id": "35fa286d",
   "metadata": {},
   "outputs": [
    {
     "data": {
      "text/html": [
       "<div class='gpresult'><h2>Messages</h2><div id='messages' data-messages='[\"Start Time: Friday, August 22, 2025 11:43:17 PM\",\"Succeeded at Friday, August 22, 2025 11:43:27 PM (Elapsed Time: 9.27 seconds)\"]' data-show='true'><div id = 'default' /></div></div>"
      ],
      "text/plain": [
       "<Result 'C:\\\\Users\\\\Thepr\\\\Documents\\\\Consulting\\\\Market Readiness\\\\Market Readiness.gdb\\\\ArlingtonMarketAssessmentAreasEnrich'>"
      ]
     },
     "execution_count": 4,
     "metadata": {},
     "output_type": "execute_result"
    }
   ],
   "source": [
    "arcpy.ba.EnrichLayer(\n",
    "    \"ArlingtonMarketAssessmentAreasPT\",\n",
    "    \"ArlingtonMarketAssessmentAreasEnrich\",\n",
    "    ############ Population Totals ################\n",
    "    \"populationtotals.TOTPOP_CY;populationtotals.POPDENS_CY;populationtotals.TOTPOP_FY;HistoricalHousing.TOTHU_CY;\" \\\n",
    "    #######  Vacancy #####\n",
    "    \"vacant.VACANT_CY;vacant.VACANT_FY;housingunittotals.TOTHU_CY;homevalue.MEDVAL_CY;homevalue.ACSMEDVAL;\" \\\n",
    "    ################# Retail ##################################\n",
    "    \"RetailDemandbyNAICS.INDRTFD_X;RetailDemandbyNAICS.INDRT_X;RetailDemandbyNAICS.IND722_X;\" \\\n",
    "    ###################  Employment ###############################\n",
    "    \"EmploymentUnemployment.UNEMPRT_CY;KeyUSFacts.MEDVAL_CY;KeyUSFacts.MEDVAL_FY;\" \\\n",
    "    ################################## Crime#####################\n",
    "    \"crime.CRMCYTOTC;businesses.N01_BUS;housingcosts.MEDCRNT_CY\",\n",
    "    \"STRAIGHT_LINE\",\n",
    "    1,\n",
    "    \"Miles\"\n",
    ")"
   ]
  },
  {
   "cell_type": "code",
   "execution_count": null,
   "id": "a54a1884",
   "metadata": {},
   "outputs": [],
   "source": []
  },
  {
   "cell_type": "code",
   "execution_count": 6,
   "id": "08925f72",
   "metadata": {},
   "outputs": [
    {
     "name": "stdout",
     "output_type": "stream",
     "text": [
      "NAD_1983_StatePlane_Texas_North_Central_FIPS_4202_Feet\n"
     ]
    }
   ],
   "source": [
    "print(arcpy.Describe(\"ArlingtonMarketAssessmentAreas\").spatialReference.name)"
   ]
  },
  {
   "cell_type": "code",
   "execution_count": 7,
   "id": "2ce65ea7",
   "metadata": {},
   "outputs": [
    {
     "name": "stdout",
     "output_type": "stream",
     "text": [
      "C:\\Users\\Thepr\\Documents\\Consulting\\Market Readiness\\Market Readiness.gdb\\check_geom\n"
     ]
    }
   ],
   "source": [
    "print(arcpy.management.CheckGeometry(\"ArlingtonMarketAssessmentAreas\", \"check_geom\"))"
   ]
  },
  {
   "cell_type": "code",
   "execution_count": 8,
   "id": "f1dbec79",
   "metadata": {},
   "outputs": [
    {
     "data": {
      "text/html": [
       "<div class='gpresult'><h2>Messages</h2><div id='messages' data-messages='[\"Start Time: Friday, August 22, 2025 11:43:39 PM\",\"Succeeded at Friday, August 22, 2025 11:43:40 PM (Elapsed Time: 0.75 seconds)\"]' data-show='true'><div id = 'default' /></div></div>"
      ],
      "text/plain": [
       "<Result 'C:\\\\Users\\\\Thepr\\\\Documents\\\\Consulting\\\\Market Readiness\\\\Market Readiness.gdb\\\\ArlingtonMarketAssessmentAreas'>"
      ]
     },
     "execution_count": 8,
     "metadata": {},
     "output_type": "execute_result"
    }
   ],
   "source": [
    "fieldmapping = arcpy.FieldMappings()\n",
    "fieldmapping.addTable('ArlingtonMarketAssessmentAreasEnrich')\n",
    "\n",
    "AssessmentAreas = arcpy.management.AddJoin(\"ArlingtonMarket\",\"Ranking\",\"ArlingtonMarketAssessmentAreasEnrich\",\n",
    "                         \"Ranking\",\"KEEP_ALL\",\"NO_INDEX_JOIN_FIELDS\",\"NO_REBUILD_INDEX\")\n",
    "\n",
    "arcpy.conversion.ExportFeatures(AssessmentAreas,\"ArlingtonMarketAssessmentAreas\",\"\",\"NOT_USE_ALIAS\",fieldmapping,None)"
   ]
  },
  {
   "cell_type": "markdown",
   "id": "123bb257",
   "metadata": {},
   "source": [
    "- Residential Permits"
   ]
  },
  {
   "cell_type": "code",
   "execution_count": 10,
   "id": "fab19f86",
   "metadata": {},
   "outputs": [
    {
     "name": "stdout",
     "output_type": "stream",
     "text": [
      "10463\n"
     ]
    }
   ],
   "source": [
    "ResidentialPermits = arcpy.management.SelectLayerByAttribute(\n",
    "    \"Issued_Permits\",\n",
    "    \"NEW_SELECTION\",\n",
    "    \"\"\" SUBDESC IN ('Single-Family','Two-Family','Residential','Residential Pool Barrier','Residential Privacy',\n",
    "        'Residential Spa','Residential Swimming Pool','Garage Conversion','Detached Garage',\n",
    "        'Permanent Storage/Accy Building (over 320 sq ft)','Portable Storage/Accy Building (320 sq ft and under)',\n",
    "        'Patio Cover/Gazebo','Carport','Retaining Wall' )\n",
    "        \n",
    "    AND WORKDESC IN ('Addition','Demolition', 'Foundation','Interior Finish','Move','New','New Construction',\n",
    "    'New Construction - Shell','Remodel/Alterations/Repairs','Remove/Replace','Repair', 'Repair / Replacement','Reroof',\n",
    "    'Solar Panel', 'Window/Door Replacement')\n",
    "    \"\"\")\n",
    "\n",
    "ResidentialPermcount = int(arcpy.management.GetCount(ResidentialPermits)[0])\n",
    "print(ResidentialPermcount)"
   ]
  },
  {
   "cell_type": "code",
   "execution_count": 11,
   "id": "b16ca043",
   "metadata": {},
   "outputs": [
    {
     "data": {
      "text/html": [
       "<div class='gpresult'><h2>Messages</h2><div id='messages' data-messages='[\"Start Time: Friday, August 22, 2025 11:44:14 PM\",\"Succeeded at Friday, August 22, 2025 11:44:15 PM (Elapsed Time: 0.68 seconds)\"]' data-show='true'><div id = 'default' /></div></div>"
      ],
      "text/plain": [
       "<Result 'C:\\\\Users\\\\Thepr\\\\Documents\\\\Consulting\\\\Market Readiness\\\\Market Readiness.gdb\\\\ResidentialPermits'>"
      ]
     },
     "execution_count": 11,
     "metadata": {},
     "output_type": "execute_result"
    }
   ],
   "source": [
    "fieldmapping = arcpy.FieldMappings()\n",
    "fieldmapping.addTable(ResidentialPermits)\n",
    "\n",
    "analysisfields = ['FOLDERYEAR', 'STATUSDESC', 'ISSUEDATE', 'FINALDATE', 'SUBDESC', 'FOLDERNAME',\n",
    "                  'Constructi','MainUse','LandUseDes','Structure','Census','NameofBusi','SignConstr',\n",
    "                  'ServiceGri','FOLDERCOND','ImportDate']\n",
    "\n",
    "for field in fieldmapping.fields:\n",
    "    if field.name not in analysisfields:\n",
    "        fieldmapping.removeFieldMap(fieldmapping.findFieldMapIndex(field.name))\n",
    "        \n",
    "if arcpy.Exists('ResidentialPermits'):\n",
    "    arcpy.Delete_management('ResidentialPermits')\n",
    "\n",
    "arcpy.conversion.ExportFeatures(ResidentialPermits,\"ResidentialPermits\",\"\",\"NOT_USE_ALIAS\",fieldmapping,None)"
   ]
  },
  {
   "cell_type": "markdown",
   "id": "cf04620e",
   "metadata": {},
   "source": [
    "- Near Analysis Residential Development"
   ]
  },
  {
   "cell_type": "code",
   "execution_count": 12,
   "id": "f893bfac",
   "metadata": {},
   "outputs": [
    {
     "data": {
      "text/html": [
       "<div class='gpresult'><h2>Messages</h2><div id='messages' data-messages='[\"Start Time: Friday, August 22, 2025 11:44:18 PM\",\"Succeeded at Friday, August 22, 2025 11:44:18 PM (Elapsed Time: 0.21 seconds)\"]' data-show='true'><div id = 'default' /></div></div>"
      ],
      "text/plain": [
       "<Result 'C:\\\\Users\\\\Thepr\\\\Documents\\\\Consulting\\\\Market Readiness\\\\Market Readiness.gdb\\\\ArlingtonResNearby'>"
      ]
     },
     "execution_count": 12,
     "metadata": {},
     "output_type": "execute_result"
    }
   ],
   "source": [
    "fieldmapping = arcpy.FieldMappings()\n",
    "fieldmapping.addTable(\"ArlingtonMarketAssessmentAreas\")\n",
    "fieldmapping.addTable(\"ResidentialPermits\")\n",
    "\n",
    "analysisfields = [\"ImportDate\",\"FOLDERYEAR\",\"STATUSDESC\",\"ISSUEDATE\",\"FINALDATE\",\"SUBDESC\",\n",
    "                  \"FOLDERNAME\", \"Constructi\",\"MainUse\",\"LandUseDes\",\"Structure\",\"Census\",\"NameofBusi\",\n",
    "                  \"SignConstr\",\"ServiceGri\",\"FOLDERCOND\"]\n",
    "\n",
    "for field in fieldmapping.fields:\n",
    "    if field.name in analysisfields:\n",
    "        fieldmapping.removeFieldMap(fieldmapping.findFieldMapIndex(field.name))\n",
    "        \n",
    "\n",
    "arcpy.analysis.SpatialJoin(\"ArlingtonMarketAssessmentAreas\",\n",
    "                           \"ResidentialPermits\",\"ArlingtonResNearby\",\n",
    "                           \"JOIN_ONE_TO_ONE\",\n",
    "                           \"KEEP_ALL\",fieldmapping,\n",
    "                           \"WITHIN_A_DISTANCE\",\n",
    "                           \"1 Miles\",\n",
    "                           \"\",\n",
    "                           None)\n",
    "\n",
    "arcpy.management.AlterField(\"ArlingtonResNearby\",\"Join_Count\",\"NearbyResidentialDevelopment\",\"NearbyResidentialDevelopment\")"
   ]
  },
  {
   "cell_type": "markdown",
   "id": "8157aa3f",
   "metadata": {},
   "source": [
    "- Commercial Permits"
   ]
  },
  {
   "cell_type": "code",
   "execution_count": 13,
   "id": "5855950d",
   "metadata": {},
   "outputs": [
    {
     "name": "stdout",
     "output_type": "stream",
     "text": [
      "4595\n"
     ]
    }
   ],
   "source": [
    "CommercialPermits = arcpy.management.SelectLayerByAttribute(\n",
    " \"Issued_Permits\",\n",
    "    \"NEW_SELECTION\",\n",
    "    \"\"\"\n",
    "    SUBDESC IN ('Assembly','Awning', 'Billboard', 'Boat Dock', 'Building Identification Sign', 'Business',\n",
    "    'Canopy / Fascia Sign', 'Clean and Show', 'Commercial Privacy', 'Commercial Screening', 'Decks',\n",
    "    'Directional',  'Directory',  'Educational',  'Entryway Sign',  'Existing Business/New Owner',\n",
    "    'Expanding Lease Space',  'Factory',  'Ground',  'Institutional', 'Manufactured Housing',\n",
    "    'Marquee Sign','Menu Board', 'Mercantile',  'Multi Tenant Ground Sign', 'New Tenant',\n",
    "    'Onsite Development', 'Other Undefined Sign', 'Pole Sign','Projecting (Blade) Sign',\n",
    "    'Same Business Owner/New Business Name','Shell Building/House Lights', 'Storage',\n",
    "    'Subdivision Screening Wall', 'Temporary Construction Office', 'Temporary Sales Office',\n",
    "    'Utility & Miscellaneous', 'Wall Sign'\n",
    "    )\n",
    "    AND WORKDESC IN ( 'New','New Construction','New Construction - Shell','Interior Finish',\n",
    "    'Remodel/Alterations/Repairs', 'Repair', 'Repair / Replacement','Remove/Replace', 'Reroof',\n",
    "    'Face Change', 'Foundation', 'Solar Panel', 'Window/Door Replacement','Demolition' )\n",
    "    \"\"\"\n",
    ")\n",
    "\n",
    "CommercialPermcount = int(arcpy.management.GetCount(CommercialPermits)[0])\n",
    "print(CommercialPermcount)"
   ]
  },
  {
   "cell_type": "code",
   "execution_count": 14,
   "id": "aed2a059",
   "metadata": {},
   "outputs": [
    {
     "data": {
      "text/html": [
       "<div class='gpresult'><h2>Messages</h2><div id='messages' data-messages='[\"Start Time: Friday, August 22, 2025 11:44:23 PM\",\"Succeeded at Friday, August 22, 2025 11:44:23 PM (Elapsed Time: 0.48 seconds)\"]' data-show='true'><div id = 'default' /></div></div>"
      ],
      "text/plain": [
       "<Result 'C:\\\\Users\\\\Thepr\\\\Documents\\\\Consulting\\\\Market Readiness\\\\Market Readiness.gdb\\\\CommercialPermits'>"
      ]
     },
     "execution_count": 14,
     "metadata": {},
     "output_type": "execute_result"
    }
   ],
   "source": [
    "fieldmapping = arcpy.FieldMappings()\n",
    "fieldmapping.addTable(CommercialPermits)\n",
    "\n",
    "analysisfields = ['FOLDERYEAR', 'STATUSDESC', 'ISSUEDATE', 'FINALDATE', 'SUBDESC', 'FOLDERNAME',\n",
    "                  'Constructi','MainUse','LandUseDes','Structure','Census','NameofBusi','SignConstr',\n",
    "                  'ServiceGri','FOLDERCOND','ImportDate']\n",
    "\n",
    "for field in fieldmapping.fields:\n",
    "    if field.name not in analysisfields:\n",
    "        fieldmapping.removeFieldMap(fieldmapping.findFieldMapIndex(field.name))\n",
    "        \n",
    "if arcpy.Exists('CommercialPermits'):\n",
    "    arcpy.Delete_management('CommercialPermits')\n",
    "\n",
    "arcpy.conversion.ExportFeatures(CommercialPermits,\"CommercialPermits\",\"\",\"NOT_USE_ALIAS\",fieldmapping,None)"
   ]
  },
  {
   "cell_type": "markdown",
   "id": "61f3003c",
   "metadata": {},
   "source": [
    "- Near Analysis Commercial Development"
   ]
  },
  {
   "cell_type": "code",
   "execution_count": 15,
   "id": "5395eca0",
   "metadata": {},
   "outputs": [
    {
     "data": {
      "text/html": [
       "<div class='gpresult'><h2>Messages</h2><div id='messages' data-messages='[\"Start Time: Friday, August 22, 2025 11:44:26 PM\",\"Succeeded at Friday, August 22, 2025 11:44:27 PM (Elapsed Time: 0.22 seconds)\"]' data-show='true'><div id = 'default' /></div></div>"
      ],
      "text/plain": [
       "<Result 'C:\\\\Users\\\\Thepr\\\\Documents\\\\Consulting\\\\Market Readiness\\\\Market Readiness.gdb\\\\ArlingtonComNearby'>"
      ]
     },
     "execution_count": 15,
     "metadata": {},
     "output_type": "execute_result"
    }
   ],
   "source": [
    "fieldmapping = arcpy.FieldMappings()\n",
    "fieldmapping.addTable(\"ArlingtonResNearby\")\n",
    "fieldmapping.addTable(\"CommercialPermits\")\n",
    "\n",
    "analysisfields = [\"ImportDate\",\"FOLDERYEAR\",\"STATUSDESC\",\"ISSUEDATE\",\"FINALDATE\",\"SUBDESC\",\n",
    "                  \"FOLDERNAME\", \"Constructi\",\"MainUse\",\"LandUseDes\",\"Structure\",\"Census\",\"NameofBusi\",\n",
    "                  \"SignConstr\",\"ServiceGri\",\"FOLDERCOND\"]\n",
    "\n",
    "for field in fieldmapping.fields:\n",
    "    if field.name in analysisfields:\n",
    "        fieldmapping.removeFieldMap(fieldmapping.findFieldMapIndex(field.name))\n",
    "        \n",
    "\n",
    "arcpy.analysis.SpatialJoin(\"ArlingtonResNearby\",\n",
    "                           \"CommercialPermits\",\"ArlingtonComNearby\",\n",
    "                           \"JOIN_ONE_TO_ONE\",\n",
    "                           \"KEEP_ALL\",fieldmapping,\n",
    "                           \"WITHIN_A_DISTANCE\",\n",
    "                           \"1 Miles\",\n",
    "                           \"\",\n",
    "                           None)\n",
    "\n",
    "arcpy.management.AlterField(\"ArlingtonComNearby\",\"Join_Count\",\"NearbyCommercialDevelopment\",\"NearbyCommercialDevelopment\")"
   ]
  },
  {
   "cell_type": "code",
   "execution_count": 16,
   "id": "a1d1a948",
   "metadata": {},
   "outputs": [
    {
     "name": "stdout",
     "output_type": "stream",
     "text": [
      "3243\n"
     ]
    }
   ],
   "source": [
    "NewConstruction = arcpy.management.SelectLayerByAttribute(\n",
    " \"Issued_Permits\",\n",
    "    \"NEW_SELECTION\",\n",
    "    \"\"\"\n",
    "    WORKDESC IN ('New Construction - Shell', 'New Construction')\n",
    "    \"\"\"\n",
    ")\n",
    "\n",
    "NewConstructionCount = int(arcpy.management.GetCount(NewConstruction)[0])\n",
    "print(NewConstructionCount)"
   ]
  },
  {
   "cell_type": "code",
   "execution_count": 17,
   "id": "f76d7e45",
   "metadata": {},
   "outputs": [
    {
     "data": {
      "text/html": [
       "<div class='gpresult'><h2>Messages</h2><div id='messages' data-messages='[\"Start Time: Friday, August 22, 2025 11:44:30 PM\",\"Succeeded at Friday, August 22, 2025 11:44:31 PM (Elapsed Time: 0.46 seconds)\"]' data-show='true'><div id = 'default' /></div></div>"
      ],
      "text/plain": [
       "<Result 'C:\\\\Users\\\\Thepr\\\\Documents\\\\Consulting\\\\Market Readiness\\\\Market Readiness.gdb\\\\NewConstruction'>"
      ]
     },
     "execution_count": 17,
     "metadata": {},
     "output_type": "execute_result"
    }
   ],
   "source": [
    "fieldmapping = arcpy.FieldMappings()\n",
    "fieldmapping.addTable(NewConstruction)\n",
    "\n",
    "analysisfields = ['FOLDERYEAR', 'STATUSDESC', 'ISSUEDATE', 'FINALDATE', 'SUBDESC', 'FOLDERNAME',\n",
    "                  'Constructi','MainUse','LandUseDes','Structure','Census','NameofBusi','SignConstr',\n",
    "                  'ServiceGri','FOLDERCOND','ImportDate']\n",
    "\n",
    "for field in fieldmapping.fields:\n",
    "    if field.name not in analysisfields:\n",
    "        fieldmapping.removeFieldMap(fieldmapping.findFieldMapIndex(field.name))\n",
    "        \n",
    "if arcpy.Exists('NewConstruction'):\n",
    "    arcpy.Delete_management('NewConstruction')\n",
    "\n",
    "arcpy.conversion.ExportFeatures(NewConstruction,\"NewConstruction\",\"\",\"NOT_USE_ALIAS\",fieldmapping,None)"
   ]
  },
  {
   "cell_type": "markdown",
   "id": "65fe8a0a",
   "metadata": {},
   "source": [
    "- Near Analysis construction Activity"
   ]
  },
  {
   "cell_type": "code",
   "execution_count": 18,
   "id": "7e78882c",
   "metadata": {},
   "outputs": [
    {
     "data": {
      "text/html": [
       "<div class='gpresult'><h2>Messages</h2><div id='messages' data-messages='[\"Start Time: Friday, August 22, 2025 11:44:33 PM\",\"Succeeded at Friday, August 22, 2025 11:44:33 PM (Elapsed Time: 0.21 seconds)\"]' data-show='true'><div id = 'default' /></div></div>"
      ],
      "text/plain": [
       "<Result 'C:\\\\Users\\\\Thepr\\\\Documents\\\\Consulting\\\\Market Readiness\\\\Market Readiness.gdb\\\\ArlingtonMarketReadiness'>"
      ]
     },
     "execution_count": 18,
     "metadata": {},
     "output_type": "execute_result"
    }
   ],
   "source": [
    "fieldmapping = arcpy.FieldMappings()\n",
    "fieldmapping.addTable(\"ArlingtonComNearby\")\n",
    "fieldmapping.addTable(\"NewConstruction\")\n",
    "\n",
    "analysisfields = [\"ImportDate\",\"FOLDERYEAR\",\"STATUSDESC\",\"ISSUEDATE\",\"FINALDATE\",\"SUBDESC\",\n",
    "                  \"FOLDERNAME\", \"Constructi\",\"MainUse\",\"LandUseDes\",\"Structure\",\"Census\",\"NameofBusi\",\n",
    "                  \"SignConstr\",\"ServiceGri\",\"FOLDERCOND\"]\n",
    "\n",
    "for field in fieldmapping.fields:\n",
    "    if field.name in analysisfields:\n",
    "        fieldmapping.removeFieldMap(fieldmapping.findFieldMapIndex(field.name))\n",
    "        \n",
    "\n",
    "arcpy.analysis.SpatialJoin(\"ArlingtonComNearby\",\n",
    "                           \"NewConstruction\",\"ArlingtonMarketReadiness\",\n",
    "                           \"JOIN_ONE_TO_ONE\",\n",
    "                           \"KEEP_ALL\",fieldmapping,\n",
    "                           \"WITHIN_A_DISTANCE\",\n",
    "                           \"1 Miles\",\n",
    "                           \"\",\n",
    "                           None)\n",
    "\n",
    "arcpy.management.AlterField(\"ArlingtonMarketReadiness\",\"Join_Count\",\"NewConstructionActivity\",\"NewConstructionActivity\")"
   ]
  },
  {
   "cell_type": "markdown",
   "id": "e8360024",
   "metadata": {},
   "source": [
    "# Proximity to Amenity/Access"
   ]
  },
  {
   "cell_type": "markdown",
   "id": "273a3999",
   "metadata": {},
   "source": [
    " "
   ]
  },
  {
   "cell_type": "markdown",
   "id": "5cdc646c",
   "metadata": {},
   "source": [
    "### Proximity to Schools\n",
    "- Spatial join schools within 1 mile buffer to selected areas and count the number of schools"
   ]
  },
  {
   "cell_type": "code",
   "execution_count": 19,
   "id": "89073671",
   "metadata": {},
   "outputs": [
    {
     "data": {
      "text/plain": [
       "['OBJECTID',\n",
       " 'Shape',\n",
       " 'DISTNAME',\n",
       " 'CAMPNAME',\n",
       " 'STREET',\n",
       " 'CITY',\n",
       " 'ZIP',\n",
       " 'INSTR_TYPE',\n",
       " 'XCOORD',\n",
       " 'YCOORD',\n",
       " 'DOWNLOADDATE',\n",
       " 'GRADEGROUP',\n",
       " 'State']"
      ]
     },
     "execution_count": 19,
     "metadata": {},
     "output_type": "execute_result"
    }
   ],
   "source": [
    "cols = []\n",
    "for row in arcpy.ListFields('SchoolsPointsArlington'):\n",
    "    cols.append(row.name)\n",
    "cols  "
   ]
  },
  {
   "cell_type": "code",
   "execution_count": 20,
   "id": "79748855",
   "metadata": {},
   "outputs": [
    {
     "data": {
      "text/html": [
       "<div class='gpresult'><h2>Messages</h2><div id='messages' data-messages='[\"Start Time: Friday, August 22, 2025 11:44:39 PM\",\"Succeeded at Friday, August 22, 2025 11:44:39 PM (Elapsed Time: 0.22 seconds)\"]' data-show='true'><div id = 'default' /></div></div>"
      ],
      "text/plain": [
       "<Result 'C:\\\\Users\\\\Thepr\\\\Documents\\\\Consulting\\\\Market Readiness\\\\Market Readiness.gdb\\\\ArlingtonMarketReadinessSchools'>"
      ]
     },
     "execution_count": 20,
     "metadata": {},
     "output_type": "execute_result"
    }
   ],
   "source": [
    "fieldmapping = arcpy.FieldMappings()\n",
    "fieldmapping.addTable(\"ArlingtonMarketReadiness\")\n",
    "fieldmapping.addTable(\"SchoolsPointsArlington\")\n",
    "\n",
    "analysisfields = ['OBJECTID','Shape','DISTNAME','CAMPNAME','STREET','CITY','ZIP','INSTR_TYPE','XCOORD','YCOORD',\n",
    "                  'DOWNLOADDATE','GRADEGROUP','State','TARGET_FID','TARGET_FID_1','ObjectID_1']\n",
    "\n",
    "\n",
    "for field in fieldmapping.fields:\n",
    "    if field.name in analysisfields:\n",
    "        fieldmapping.removeFieldMap(fieldmapping.findFieldMapIndex(field.name))\n",
    "        \n",
    "\n",
    "arcpy.analysis.SpatialJoin(\"ArlingtonMarketReadiness\",\n",
    "                           \"SchoolsPointsArlington\",\"ArlingtonMarketReadinessSchools\",\n",
    "                           \"JOIN_ONE_TO_ONE\",\n",
    "                           \"KEEP_ALL\",fieldmapping,\n",
    "                           \"WITHIN_A_DISTANCE\",\n",
    "                           \"1 Miles\",\n",
    "                           \"\",\n",
    "                           None)\n",
    "\n",
    "arcpy.management.AlterField(\"ArlingtonMarketReadinessSchools\",\"Join_Count\",\"NearbySchools\",\"NearbySchools\")"
   ]
  },
  {
   "cell_type": "markdown",
   "id": "4c4eedb0",
   "metadata": {},
   "source": [
    "### Proximity to Hospitals\n",
    "- Spatial join hospitals within 1 mile buffer to selected areas and count the number of hospitals"
   ]
  },
  {
   "cell_type": "code",
   "execution_count": 21,
   "id": "7f5d19e6",
   "metadata": {},
   "outputs": [
    {
     "data": {
      "text/plain": [
       "['OBJECTID_1',\n",
       " 'Shape',\n",
       " 'OBJECTID',\n",
       " 'BUILDINGCO',\n",
       " 'ADDRESS',\n",
       " 'HOSPITALNA',\n",
       " 'Type']"
      ]
     },
     "execution_count": 21,
     "metadata": {},
     "output_type": "execute_result"
    }
   ],
   "source": [
    "cols = []\n",
    "for row in arcpy.ListFields('Healthcare_Facilities'):\n",
    "    cols.append(row.name)\n",
    "cols  "
   ]
  },
  {
   "cell_type": "code",
   "execution_count": 22,
   "id": "2b8b4540",
   "metadata": {},
   "outputs": [
    {
     "data": {
      "text/html": [
       "<div class='gpresult'><h2>Messages</h2><div id='messages' data-messages='[\"Start Time: Friday, August 22, 2025 11:44:44 PM\",\"Succeeded at Friday, August 22, 2025 11:44:44 PM (Elapsed Time: 0.24 seconds)\"]' data-show='true'><div id = 'default' /></div></div>"
      ],
      "text/plain": [
       "<Result 'C:\\\\Users\\\\Thepr\\\\Documents\\\\Consulting\\\\Market Readiness\\\\Market Readiness.gdb\\\\ArlingtonMarketReadinessHealthcare'>"
      ]
     },
     "execution_count": 22,
     "metadata": {},
     "output_type": "execute_result"
    }
   ],
   "source": [
    "fieldmapping = arcpy.FieldMappings()\n",
    "fieldmapping.addTable(\"ArlingtonMarketReadinessSchools\")\n",
    "fieldmapping.addTable(\"Healthcare_Facilities\")\n",
    "\n",
    "analysisfields = ['OBJECTID','Shape','DISTNAME','CAMPNAME','STREET','CITY','ZIP','INSTR_TYPE','XCOORD','YCOORD',\n",
    "                  'DOWNLOADDATE','GRADEGROUP','State','TARGET_FID','TARGET_FID_1','ObjectID_1','OBJECTID_1','Shape',\n",
    "                  'OBJECTID','BUILDINGCO','ADDRESS','HOSPITALNA','Type']\n",
    "\n",
    "\n",
    "for field in fieldmapping.fields:\n",
    "    if field.name in analysisfields:\n",
    "        fieldmapping.removeFieldMap(fieldmapping.findFieldMapIndex(field.name))\n",
    "        \n",
    "\n",
    "arcpy.analysis.SpatialJoin(\"ArlingtonMarketReadinessSchools\",\n",
    "                           \"Healthcare_Facilities\",\"ArlingtonMarketReadinessHealthcare\",\n",
    "                           \"JOIN_ONE_TO_ONE\",\n",
    "                           \"KEEP_ALL\",fieldmapping,\n",
    "                           \"WITHIN_A_DISTANCE\",\n",
    "                           \"1 Miles\",\n",
    "                           \"\",\n",
    "                           None)\n",
    "\n",
    "arcpy.management.AlterField(\"ArlingtonMarketReadinessHealthcare\",\"Join_Count\",\"Nearbyhealthcare\",\"Nearbyhealthcare\")"
   ]
  },
  {
   "cell_type": "markdown",
   "id": "b2daf310",
   "metadata": {},
   "source": [
    "### Proximity to Grocery"
   ]
  },
  {
   "cell_type": "code",
   "execution_count": 23,
   "id": "1e92d4f7",
   "metadata": {},
   "outputs": [
    {
     "data": {
      "text/plain": [
       "['OBJECTID_1',\n",
       " 'Shape',\n",
       " 'ObjectId',\n",
       " 'Store_Name',\n",
       " 'Address',\n",
       " 'City',\n",
       " 'State',\n",
       " 'County',\n",
       " 'Longitude',\n",
       " 'Latitude',\n",
       " 'StoreType',\n",
       " 'Produce']"
      ]
     },
     "execution_count": 23,
     "metadata": {},
     "output_type": "execute_result"
    }
   ],
   "source": [
    "cols = []\n",
    "for row in arcpy.ListFields('Grocery'):\n",
    "    cols.append(row.name)\n",
    "cols  "
   ]
  },
  {
   "cell_type": "code",
   "execution_count": 24,
   "id": "8a2f39f5",
   "metadata": {},
   "outputs": [
    {
     "data": {
      "text/html": [
       "<div class='gpresult'><h2>Messages</h2><div id='messages' data-messages='[\"Start Time: Friday, August 22, 2025 11:44:49 PM\",\"Succeeded at Friday, August 22, 2025 11:44:49 PM (Elapsed Time: 0.20 seconds)\"]' data-show='true'><div id = 'default' /></div></div>"
      ],
      "text/plain": [
       "<Result 'C:\\\\Users\\\\Thepr\\\\Documents\\\\Consulting\\\\Market Readiness\\\\Market Readiness.gdb\\\\ArlingtonMarketReadinessGrocery'>"
      ]
     },
     "execution_count": 24,
     "metadata": {},
     "output_type": "execute_result"
    }
   ],
   "source": [
    "fieldmapping = arcpy.FieldMappings()\n",
    "fieldmapping.addTable(\"ArlingtonMarketReadinessHealthcare\")\n",
    "fieldmapping.addTable(\"Grocery\")\n",
    "\n",
    "analysisfields = ['OBJECTID','Shape','DISTNAME','CAMPNAME','STREET','CITY','ZIP','INSTR_TYPE','XCOORD','YCOORD',\n",
    "                  'DOWNLOADDATE','GRADEGROUP','State','TARGET_FID','TARGET_FID_1','ObjectID_1','OBJECTID_1','Shape',\n",
    "                  'OBJECTID','BUILDINGCO','ADDRESS','HOSPITALNA','Type','OBJECTID_1','Shape','ObjectId','Store_Name',\n",
    "                  'Address','City','State','County','Longitude','Latitude','StoreType','Produce']\n",
    "\n",
    "\n",
    "for field in fieldmapping.fields:\n",
    "    if field.name in analysisfields:\n",
    "        fieldmapping.removeFieldMap(fieldmapping.findFieldMapIndex(field.name))\n",
    "        \n",
    "\n",
    "arcpy.analysis.SpatialJoin(\"ArlingtonMarketReadinessHealthcare\",\n",
    "                           \"Grocery\",\"ArlingtonMarketReadinessGrocery\",\n",
    "                           \"JOIN_ONE_TO_ONE\",\n",
    "                           \"KEEP_ALL\",fieldmapping,\n",
    "                           \"WITHIN_A_DISTANCE\",\n",
    "                           \"1 Miles\",\n",
    "                           \"\",\n",
    "                           None)\n",
    "\n",
    "arcpy.management.AlterField(\"ArlingtonMarketReadinessGrocery\",\"Join_Count\",\"NearbyGrocery\",\"NearbyGrocery\")"
   ]
  },
  {
   "cell_type": "markdown",
   "id": "65a489bd",
   "metadata": {},
   "source": [
    "### Proximity to Shopping Centers, Restaurants and Entertainment \n",
    "- This indicator only have data for Food estabishments and Downtown restuarants"
   ]
  },
  {
   "cell_type": "code",
   "execution_count": 25,
   "id": "7a612803",
   "metadata": {},
   "outputs": [
    {
     "data": {
      "text/plain": [
       "['OBJECTID',\n",
       " 'Shape',\n",
       " 'Type',\n",
       " 'Tags',\n",
       " 'ServesAlcohol',\n",
       " 'Name',\n",
       " 'Address',\n",
       " 'City',\n",
       " 'State',\n",
       " 'ZIP',\n",
       " 'Phone',\n",
       " 'OnlineReviewLink',\n",
       " 'NavigateToLink',\n",
       " 'CreationDate',\n",
       " 'Creator',\n",
       " 'EditDate',\n",
       " 'Editor']"
      ]
     },
     "execution_count": 25,
     "metadata": {},
     "output_type": "execute_result"
    }
   ],
   "source": [
    "cols = []\n",
    "for row in arcpy.ListFields('DowntownRestuarants'):\n",
    "    cols.append(row.name)\n",
    "cols  "
   ]
  },
  {
   "cell_type": "code",
   "execution_count": 26,
   "id": "33d7746e",
   "metadata": {},
   "outputs": [
    {
     "data": {
      "text/html": [
       "<div class='gpresult'><h2>Messages</h2><div id='messages' data-messages='[\"Start Time: Friday, August 22, 2025 11:44:55 PM\",\"Succeeded at Friday, August 22, 2025 11:44:55 PM (Elapsed Time: 0.26 seconds)\"]' data-show='true'><div id = 'default' /></div></div>"
      ],
      "text/plain": [
       "<Result 'C:\\\\Users\\\\Thepr\\\\Documents\\\\Consulting\\\\Market Readiness\\\\Market Readiness.gdb\\\\ArlingtonMarketReadinessFoodEstablishments'>"
      ]
     },
     "execution_count": 26,
     "metadata": {},
     "output_type": "execute_result"
    }
   ],
   "source": [
    "fieldmapping = arcpy.FieldMappings()\n",
    "fieldmapping.addTable(\"ArlingtonMarketReadinessGrocery\")\n",
    "fieldmapping.addTable(\"FoodEstablishmentDowntownRestaurants\")\n",
    "\n",
    "analysisfields = ['OBJECTID','Shape','DISTNAME','CAMPNAME','STREET','CITY','ZIP','INSTR_TYPE','XCOORD','YCOORD',\n",
    "                  'DOWNLOADDATE','GRADEGROUP','State','TARGET_FID','TARGET_FID_1','ObjectID_1','OBJECTID_1','Shape',\n",
    "                  'OBJECTID','BUILDINGCO','ADDRESS','HOSPITALNA','Type','OBJECTID_1','Shape','ObjectId','Store_Name',\n",
    "                  'Address','City','State','County','Longitude','Latitude','StoreType','Produce',\n",
    "                 'OBJECTID_1','Shape','ImportDate','OBJECTID','FacilityNa','Establishm','PropertyAd',\n",
    "                  'Inspection','Inspecti_1','Attempt','XCoord','YCoord','Inspecti_2', 'Type','Tags','ServesAlcohol',\n",
    "                  'Name','Address','City','State','ZIP','Phone','OnlineReviewLink','NavigateToLink','CreationDate',\n",
    "                  'Creator','EditDate','Editor']\n",
    "\n",
    "\n",
    "for field in fieldmapping.fields:\n",
    "    if field.name in analysisfields:\n",
    "        fieldmapping.removeFieldMap(fieldmapping.findFieldMapIndex(field.name))\n",
    "        \n",
    "\n",
    "arcpy.analysis.SpatialJoin(\"ArlingtonMarketReadinessGrocery\",\n",
    "                           \"FoodEstablishmentDowntownRestaurants\",\"ArlingtonMarketReadinessFoodEstablishments\",\n",
    "                           \"JOIN_ONE_TO_ONE\",\n",
    "                           \"KEEP_ALL\",fieldmapping,\n",
    "                           \"WITHIN_A_DISTANCE\",\n",
    "                           \"1 Miles\",\n",
    "                           \"\",\n",
    "                           None)\n",
    "\n",
    "arcpy.management.AlterField(\"ArlingtonMarketReadinessFoodEstablishments\",\"Join_Count\",\"NearbyRestuarants\",\n",
    "                            \"NearbyRestuarants\")"
   ]
  },
  {
   "cell_type": "markdown",
   "id": "f35ad057",
   "metadata": {},
   "source": [
    "### Proximity to Parks\n",
    "\n",
    "- Converted the Parks Polygon to point and counted the number of parks that are in proximity to the selected areas"
   ]
  },
  {
   "cell_type": "code",
   "execution_count": 27,
   "id": "b66d8b67",
   "metadata": {},
   "outputs": [
    {
     "data": {
      "text/html": [
       "<div class='gpresult'><h2>Messages</h2><div id='messages' data-messages='[\"Start Time: Friday, August 22, 2025 11:44:57 PM\",\"Succeeded at Friday, August 22, 2025 11:44:58 PM (Elapsed Time: 0.53 seconds)\"]' data-show='true'><div id = 'default' /></div></div>"
      ],
      "text/plain": [
       "<Result 'C:\\\\Users\\\\Thepr\\\\Documents\\\\Consulting\\\\Market Readiness\\\\Market Readiness.gdb\\\\ArlingtonParks2024'>"
      ]
     },
     "execution_count": 27,
     "metadata": {},
     "output_type": "execute_result"
    }
   ],
   "source": [
    "arcpy.management.FeatureToPoint(\"Park2024\",\"ArlingtonParks2024\",\"CENTROID\")"
   ]
  },
  {
   "cell_type": "code",
   "execution_count": 28,
   "id": "b1136fee",
   "metadata": {},
   "outputs": [
    {
     "data": {
      "text/plain": [
       "['OBJECTID_1',\n",
       " 'Shape',\n",
       " 'OBJECTID',\n",
       " 'NAME',\n",
       " 'OWNER',\n",
       " 'NOTES',\n",
       " 'CITY',\n",
       " 'FEATTYPE',\n",
       " 'STATUS',\n",
       " 'SOURCE',\n",
       " 'SOURCE_YEA',\n",
       " 'ShapeSTLen',\n",
       " 'ShapeSTAre',\n",
       " 'ORIG_FID']"
      ]
     },
     "execution_count": 28,
     "metadata": {},
     "output_type": "execute_result"
    }
   ],
   "source": [
    "cols = []\n",
    "for row in arcpy.ListFields('ArlingtonParks2024'):\n",
    "    cols.append(row.name)\n",
    "cols  "
   ]
  },
  {
   "cell_type": "code",
   "execution_count": 29,
   "id": "36999bcb",
   "metadata": {},
   "outputs": [
    {
     "data": {
      "text/html": [
       "<div class='gpresult'><h2>Messages</h2><div id='messages' data-messages='[\"Start Time: Friday, August 22, 2025 11:45:03 PM\",\"Succeeded at Friday, August 22, 2025 11:45:03 PM (Elapsed Time: 0.22 seconds)\"]' data-show='true'><div id = 'default' /></div></div>"
      ],
      "text/plain": [
       "<Result 'C:\\\\Users\\\\Thepr\\\\Documents\\\\Consulting\\\\Market Readiness\\\\Market Readiness.gdb\\\\ArlingtonMarketReadinessParks'>"
      ]
     },
     "execution_count": 29,
     "metadata": {},
     "output_type": "execute_result"
    }
   ],
   "source": [
    "fieldmapping = arcpy.FieldMappings()\n",
    "fieldmapping.addTable(\"ArlingtonMarketReadinessFoodEstablishments\")\n",
    "fieldmapping.addTable(\"ArlingtonParks2024\")\n",
    "\n",
    "analysisfields = ['OBJECTID','Shape','DISTNAME','CAMPNAME','STREET','CITY','ZIP','INSTR_TYPE','XCOORD','YCOORD',\n",
    "                  'DOWNLOADDATE','GRADEGROUP','State','TARGET_FID','TARGET_FID_1','ObjectID_1','OBJECTID_1','Shape',\n",
    "                  'OBJECTID','BUILDINGCO','ADDRESS','HOSPITALNA','Type','OBJECTID_1','Shape','ObjectId','Store_Name',\n",
    "                  'Address','City','State','County','Longitude','Latitude','StoreType','Produce',\n",
    "                 'OBJECTID_1','Shape','ImportDate','OBJECTID','FacilityNa','Establishm','PropertyAd',\n",
    "                  'Inspection','Inspecti_1','Attempt','XCoord','YCoord','Inspecti_2', 'Type','Tags','ServesAlcohol',\n",
    "                  'Name','Address','City','State','ZIP','Phone','OnlineReviewLink','NavigateToLink','CreationDate',\n",
    "                  'Creator','EditDate','Editor','OBJECTID_1','Shape','OBJECTID','NAME','OWNER','NOTES','CITY',\n",
    "                  'FEATTYPE','STATUS','SOURCE', 'SOURCE_YEA', 'ShapeSTLen', 'ShapeSTAre', 'ORIG_FID']\n",
    "\n",
    "\n",
    "for field in fieldmapping.fields:\n",
    "    if field.name in analysisfields:\n",
    "        fieldmapping.removeFieldMap(fieldmapping.findFieldMapIndex(field.name))\n",
    "        \n",
    "\n",
    "arcpy.analysis.SpatialJoin(\"ArlingtonMarketReadinessFoodEstablishments\",\n",
    "                           \"ArlingtonParks2024\",\"ArlingtonMarketReadinessParks\",\n",
    "                           \"JOIN_ONE_TO_ONE\",\n",
    "                           \"KEEP_ALL\",fieldmapping,\n",
    "                           \"WITHIN_A_DISTANCE\",\n",
    "                           \"1 Miles\",\n",
    "                           \"\",\n",
    "                           None)\n",
    "\n",
    "arcpy.management.AlterField(\"ArlingtonMarketReadinessParks\",\"Join_Count\",\"NearbyParks\",\"NearbyParks\")"
   ]
  },
  {
   "cell_type": "markdown",
   "id": "64356527",
   "metadata": {},
   "source": [
    "- Walkability"
   ]
  },
  {
   "cell_type": "code",
   "execution_count": 30,
   "id": "5461739e",
   "metadata": {},
   "outputs": [
    {
     "data": {
      "text/html": [
       "<div class='gpresult'><h2>Messages</h2><div id='messages' data-messages='[\"Start Time: Friday, August 22, 2025 11:45:09 PM\",\"Succeeded at Friday, August 22, 2025 11:45:09 PM (Elapsed Time: 0.08 seconds)\"]' data-show='true'><div id = 'default' /></div></div>"
      ],
      "text/plain": [
       "<Result 'C:\\\\Users\\\\Thepr\\\\Documents\\\\Consulting\\\\Market Readiness\\\\Market Readiness.gdb\\\\ArlingtonMarketReadinessEPAWI'>"
      ]
     },
     "execution_count": 30,
     "metadata": {},
     "output_type": "execute_result"
    }
   ],
   "source": [
    "# Intersect Selected Areas and EPA NWI\n",
    "\n",
    "arcpy.analysis.Intersect(\"ArlingtonMarketReadinessParks #;NationalWalkabilityIndex #\",\n",
    "                         \"ArlingtonMarketReadiness_Intersect\",\"ALL\",None,\"INPUT\")\n",
    "\n",
    "\n",
    "# Add Field to calculated weighted area\n",
    "\n",
    "arcpy.management.AddField(\"ArlingtonMarketReadiness_Intersect\",\"WeightedWalk\",\"DOUBLE\",None,None,None,\"WeightedWalk\",\n",
    "                          \"NULLABLE\",\"NON_REQUIRED\",\"\")\n",
    "\n",
    "# Compute the Weighted Walk\n",
    "\n",
    "arcpy.management.CalculateField(\"ArlingtonMarketReadiness_Intersect\",\"WeightedWalk\",\"!Acres! * !NatWalkInd!\",\n",
    "                                \"PYTHON3\",\"\",\"DOUBLE\",\"NO_ENFORCE_DOMAINS\")\n",
    "\n",
    "\n",
    "# Create summary statistics, the Ranking is the Id\n",
    "\n",
    "arcpy.analysis.Statistics(\"ArlingtonMarketReadiness_Intersect\",\"WalkabilityStatistics\",\n",
    "                          \"WeightedWalk SUM;Acres SUM\",\"Ranking\",\"\")\n",
    "\n",
    "# Join summary to Market Readiness data\n",
    "\n",
    "walkability = arcpy.management.AddJoin(\"ArlingtonMarketReadinessParks\",\"Ranking\",\"WalkabilityStatistics\",\n",
    "                         \"Ranking\",\"KEEP_ALL\",\"NO_INDEX_JOIN_FIELDS\",\"NO_REBUILD_INDEX\")\n",
    "\n",
    "arcpy.conversion.ExportFeatures(walkability,\"ArlingtonMarketReadinessEPAWI\",\n",
    "                                \"\",\"NOT_USE_ALIAS\",'',None)\n",
    "\n",
    "# Add Field to calculated weighted area\n",
    "\n",
    "arcpy.management.AddField(\"ArlingtonMarketReadinessEPAWI\",\"WalkabilityIndex\",\"DOUBLE\",None,None,None,\"WalkabilityIndex\",\n",
    "                          \"NULLABLE\",\"NON_REQUIRED\",\"\")\n",
    "\n",
    "# Compute the Weighted Walk\n",
    "\n",
    "arcpy.management.CalculateField(\"ArlingtonMarketReadinessEPAWI\",\"WalkabilityIndex\",\"!SUM_WeightedWalk! / !SUM_Acres!\",\n",
    "                                \"PYTHON3\",\"\",\"DOUBLE\",\"NO_ENFORCE_DOMAINS\")"
   ]
  },
  {
   "cell_type": "code",
   "execution_count": 32,
   "id": "9eb7f8a6",
   "metadata": {
    "scrolled": true
   },
   "outputs": [
    {
     "data": {
      "text/plain": [
       "['OBJECTID',\n",
       " 'Shape',\n",
       " 'NearbyParks',\n",
       " 'TARGET_FID',\n",
       " 'NearbyRestuarants',\n",
       " 'NearbyGrocery',\n",
       " 'Nearbyhealthcare',\n",
       " 'NearbySchools',\n",
       " 'NewConstructionActivity',\n",
       " 'NearbyCommercialDevelopment',\n",
       " 'NearbyResidentialDevelopment',\n",
       " 'TARGET_FID',\n",
       " 'Shape_Leng',\n",
       " 'Comments',\n",
       " 'Acres',\n",
       " 'Descriptio',\n",
       " 'Ranking',\n",
       " 'Location',\n",
       " 'Value',\n",
       " 'Override',\n",
       " 'Shape_Leng',\n",
       " 'Comments',\n",
       " 'Acres',\n",
       " 'Descriptio',\n",
       " 'Ranking',\n",
       " 'Location',\n",
       " 'Value',\n",
       " 'Override',\n",
       " 'aggregationMethod',\n",
       " 'HasData',\n",
       " 'ORIGINAL_OID',\n",
       " 'sourceCountry',\n",
       " 'apportionmentConfidence',\n",
       " 'populationToPolygonSizeRating',\n",
       " 'areaType',\n",
       " 'bufferUnits',\n",
       " 'bufferUnit',\n",
       " 'bufferRadii',\n",
       " '2025 Total Population',\n",
       " '2025 Population Density',\n",
       " '2030 Total Population',\n",
       " '2025 Total Housing Units',\n",
       " '2025 Vacant Housing Units',\n",
       " '2030 Vacant Housing Units',\n",
       " '2025 Total Housing Units',\n",
       " '2025 Median Home Value',\n",
       " '2023 Median Home Value (ACS 5-Yr)',\n",
       " '2025 NAICS 44-45,722 Expenditures',\n",
       " '2025 NAICS 44-45 Expenditures',\n",
       " '2025 NAICS 722 Expenditures',\n",
       " '2025 Unemployment Rate',\n",
       " '2025 Median Home Value',\n",
       " '2030 Median Home Value',\n",
       " '2024 Total Crime Index',\n",
       " '2025 Total Businesses (NAICS)',\n",
       " '2025 Median Monthly Contract Rent',\n",
       " 'OBJECTID',\n",
       " 'Ranking',\n",
       " 'FREQUENCY',\n",
       " 'SUM_WeightedWalk',\n",
       " 'SUM_Acres',\n",
       " 'Shape_Length',\n",
       " 'Shape_Area',\n",
       " 'WalkabilityIndex']"
      ]
     },
     "execution_count": 32,
     "metadata": {},
     "output_type": "execute_result"
    }
   ],
   "source": [
    "cols = []\n",
    "for row in arcpy.ListFields('ArlingtonMarketReadinessEPAWI'):\n",
    "    cols.append(row.aliasName)\n",
    "cols  "
   ]
  },
  {
   "cell_type": "markdown",
   "id": "b0f0d655",
   "metadata": {},
   "source": [
    "- Distance to Interstate/Major Highways"
   ]
  },
  {
   "cell_type": "code",
   "execution_count": 33,
   "id": "b1c42824",
   "metadata": {},
   "outputs": [
    {
     "data": {
      "text/html": [
       "<div class='gpresult'><h2>Messages</h2><div id='messages' data-messages='[\"Start Time: Friday, August 22, 2025 11:45:37 PM\",\"Succeeded at Friday, August 22, 2025 11:45:38 PM (Elapsed Time: 0.25 seconds)\"]' data-show='true'><div id = 'default' /></div></div>"
      ],
      "text/plain": [
       "<Result 'C:\\\\Users\\\\Thepr\\\\Documents\\\\Consulting\\\\Market Readiness\\\\Market Readiness.gdb\\\\ArlingtonMarketReadinessEPAWI'>"
      ]
     },
     "execution_count": 33,
     "metadata": {},
     "output_type": "execute_result"
    }
   ],
   "source": [
    "arcpy.analysis.Near(\"ArlingtonMarketReadinessEPAWI\",\"TxDOT_Roadway\",None,\"NO_LOCATION\",\"NO_ANGLE\",\"PLANAR\",\n",
    "                    \"NEAR_DIST NEAR_DIST\",\"Miles\")\n",
    "\n",
    "arcpy.management.AlterField(\"ArlingtonMarketReadinessEPAWI\",\"NEAR_DIST\",\"DistanceToHighway\",\"DistanceToHighway\")\n"
   ]
  },
  {
   "cell_type": "markdown",
   "id": "8d6f2e03",
   "metadata": {},
   "source": [
    "- Distance to Regional Rail"
   ]
  },
  {
   "cell_type": "code",
   "execution_count": 34,
   "id": "a5f7bb6b",
   "metadata": {},
   "outputs": [
    {
     "data": {
      "text/html": [
       "<div class='gpresult'><h2>Messages</h2><div id='messages' data-messages='[\"Start Time: Friday, August 22, 2025 11:45:40 PM\",\"Succeeded at Friday, August 22, 2025 11:45:40 PM (Elapsed Time: 0.19 seconds)\"]' data-show='true'><div id = 'default' /></div></div>"
      ],
      "text/plain": [
       "<Result 'C:\\\\Users\\\\Thepr\\\\Documents\\\\Consulting\\\\Market Readiness\\\\Market Readiness.gdb\\\\ArlingtonMarketReadinessEPAWI'>"
      ]
     },
     "execution_count": 34,
     "metadata": {},
     "output_type": "execute_result"
    }
   ],
   "source": [
    "arcpy.analysis.Near(\"ArlingtonMarketReadinessEPAWI\",\"Texas_Railroads\",None,\"NO_LOCATION\",\"NO_ANGLE\",\"PLANAR\",\n",
    "                    \"NEAR_DIST NEAR_DIST\",\"Miles\")\n",
    "\n",
    "arcpy.management.AlterField(\"ArlingtonMarketReadinessEPAWI\",\"NEAR_DIST\",\"DistanceToRegionalRail\",\"DistanceToRegionalRail\")"
   ]
  },
  {
   "cell_type": "markdown",
   "id": "e5281204",
   "metadata": {},
   "source": [
    "- Distance to DFW/Love Field/Grand Praire"
   ]
  },
  {
   "cell_type": "code",
   "execution_count": 35,
   "id": "0e2f7dfc",
   "metadata": {},
   "outputs": [
    {
     "data": {
      "text/html": [
       "<div class='gpresult'><h2>Messages</h2><div id='messages' data-messages='[\"Start Time: Friday, August 22, 2025 11:45:42 PM\",\"Succeeded at Friday, August 22, 2025 11:45:42 PM (Elapsed Time: 0.20 seconds)\"]' data-show='true'><div id = 'default' /></div></div>"
      ],
      "text/plain": [
       "<Result 'C:\\\\Users\\\\Thepr\\\\Documents\\\\Consulting\\\\Market Readiness\\\\Market Readiness.gdb\\\\ArlingtonMarketReadinessEPAWI'>"
      ]
     },
     "execution_count": 35,
     "metadata": {},
     "output_type": "execute_result"
    }
   ],
   "source": [
    "arcpy.analysis.Near(\"ArlingtonMarketReadinessEPAWI\",\"Airport_Boundary\",None,\"NO_LOCATION\",\"NO_ANGLE\",\"PLANAR\",\n",
    "                    \"NEAR_DIST NEAR_DIST\",\"Miles\")\n",
    "\n",
    "arcpy.management.AlterField(\"ArlingtonMarketReadinessEPAWI\",\"NEAR_DIST\",\"DistanceToAirport\",\"DistanceToAirport\")"
   ]
  },
  {
   "cell_type": "markdown",
   "id": "d23ea4d2",
   "metadata": {},
   "source": [
    "# Infrastructure Capacity"
   ]
  },
  {
   "cell_type": "markdown",
   "id": "a6023dd2",
   "metadata": {},
   "source": [
    "#### Fire and police station\n",
    "- merged the fire and police station points, then computed the count of each stations within the selected areas\n"
   ]
  },
  {
   "cell_type": "code",
   "execution_count": 36,
   "id": "c2a5f425",
   "metadata": {},
   "outputs": [
    {
     "data": {
      "text/plain": [
       "['OBJECTID_1',\n",
       " 'Shape',\n",
       " 'OBJECTID',\n",
       " 'STATIONNAM',\n",
       " 'PARCELADDR',\n",
       " 'STRUCTUREA',\n",
       " 'DISTRICTID',\n",
       " 'STATION']"
      ]
     },
     "execution_count": 36,
     "metadata": {},
     "output_type": "execute_result"
    }
   ],
   "source": [
    "cols = []\n",
    "for row in arcpy.ListFields('FireandPoliceStations'):\n",
    "    cols.append(row.name)\n",
    "cols  "
   ]
  },
  {
   "cell_type": "code",
   "execution_count": 37,
   "id": "5854e5ee",
   "metadata": {},
   "outputs": [
    {
     "data": {
      "text/html": [
       "<div class='gpresult'><h2>Messages</h2><div id='messages' data-messages='[\"Start Time: Friday, August 22, 2025 11:45:48 PM\",\"Succeeded at Friday, August 22, 2025 11:45:48 PM (Elapsed Time: 0.28 seconds)\"]' data-show='true'><div id = 'default' /></div></div>"
      ],
      "text/plain": [
       "<Result 'C:\\\\Users\\\\Thepr\\\\Documents\\\\Consulting\\\\Market Readiness\\\\Market Readiness.gdb\\\\ArlingtonMarketReadinessPoliceFireStations'>"
      ]
     },
     "execution_count": 37,
     "metadata": {},
     "output_type": "execute_result"
    }
   ],
   "source": [
    "fieldmapping = arcpy.FieldMappings()\n",
    "fieldmapping.addTable(\"ArlingtonMarketReadinessEPAWI\")\n",
    "fieldmapping.addTable(\"FireandPoliceStations\")\n",
    "\n",
    "analysisfields = ['OBJECTID','Shape','DISTNAME','CAMPNAME','STREET','CITY','ZIP','INSTR_TYPE','XCOORD','YCOORD',\n",
    "                  'DOWNLOADDATE','GRADEGROUP','State','TARGET_FID','TARGET_FID_1','ObjectID_1','OBJECTID_1','Shape',\n",
    "                  'OBJECTID','BUILDINGCO','ADDRESS','HOSPITALNA','Type','OBJECTID_1','Shape','ObjectId','Store_Name',\n",
    "                  'Address','City','State','County','Longitude','Latitude','StoreType','Produce',\n",
    "                 'OBJECTID_1','Shape','ImportDate','OBJECTID','FacilityNa','Establishm','PropertyAd',\n",
    "                  'Inspection','Inspecti_1','Attempt','XCoord','YCoord','Inspecti_2', 'Type','Tags','ServesAlcohol',\n",
    "                  'Name','Address','City','State','ZIP','Phone','OnlineReviewLink','NavigateToLink','CreationDate',\n",
    "                  'Creator','EditDate','Editor','OBJECTID_1','Shape','OBJECTID','NAME','OWNER','NOTES','CITY',\n",
    "                  'FEATTYPE','STATUS','SOURCE', 'SOURCE_YEA', 'ShapeSTLen', 'ShapeSTAre', 'ORIG_FID',\n",
    "                 'OBJECTID_1','Shape','OBJECTID','STATIONNAM','PARCELADDR','STRUCTUREA','DISTRICTID','STATION',\n",
    "                 'Walkscore','OBJECTID','Ranking_1','FREQUENCY','SUM_WeightedWalk','SUM_Acres','Shape_Length','Shape_Area',\n",
    "                 'NEAR_FID']\n",
    "\n",
    "\n",
    "for field in fieldmapping.fields:\n",
    "    if field.name in analysisfields:\n",
    "        fieldmapping.removeFieldMap(fieldmapping.findFieldMapIndex(field.name))\n",
    "        \n",
    "\n",
    "arcpy.analysis.SpatialJoin(\"ArlingtonMarketReadinessEPAWI\",\n",
    "                           \"FireandPoliceStations\",\"ArlingtonMarketReadinessPoliceFireStations\",\n",
    "                           \"JOIN_ONE_TO_ONE\",\n",
    "                           \"KEEP_ALL\",fieldmapping,\n",
    "                           \"WITHIN_A_DISTANCE\",\n",
    "                           \"1 Miles\",\n",
    "                           \"\",\n",
    "                           None)\n",
    "\n",
    "arcpy.management.AlterField(\"ArlingtonMarketReadinessPoliceFireStations\",\"Join_Count\",\"NearbyPolice\",\"NearbyPolice\")"
   ]
  },
  {
   "cell_type": "code",
   "execution_count": 39,
   "id": "c456746c",
   "metadata": {},
   "outputs": [
    {
     "data": {
      "text/plain": [
       "['OBJECTID',\n",
       " 'Shape',\n",
       " 'NearbyPolice',\n",
       " 'TARGET_FID',\n",
       " 'NearbyParks',\n",
       " 'NearbyRestuarants',\n",
       " 'NearbyGrocery',\n",
       " 'Nearbyhealthcare',\n",
       " 'NearbySchools',\n",
       " 'NewConstructionActivity',\n",
       " 'NearbyCommercialDevelopment',\n",
       " 'NearbyResidentialDevelopment',\n",
       " 'TARGET_FID',\n",
       " 'Shape_Leng',\n",
       " 'Comments',\n",
       " 'Acres',\n",
       " 'Descriptio',\n",
       " 'Ranking',\n",
       " 'Location',\n",
       " 'Value',\n",
       " 'Override',\n",
       " 'Shape_Leng',\n",
       " 'Comments',\n",
       " 'Acres',\n",
       " 'Descriptio',\n",
       " 'Location',\n",
       " 'Value',\n",
       " 'Override',\n",
       " 'aggregationMethod',\n",
       " 'HasData',\n",
       " 'ORIGINAL_OID',\n",
       " 'sourceCountry',\n",
       " 'apportionmentConfidence',\n",
       " 'populationToPolygonSizeRating',\n",
       " 'areaType',\n",
       " 'bufferUnits',\n",
       " 'bufferUnit',\n",
       " 'bufferRadii',\n",
       " '2025 Total Population',\n",
       " '2025 Population Density',\n",
       " '2030 Total Population',\n",
       " '2025 Total Housing Units',\n",
       " '2025 Vacant Housing Units',\n",
       " '2030 Vacant Housing Units',\n",
       " '2025 Total Housing Units',\n",
       " '2025 Median Home Value',\n",
       " '2023 Median Home Value (ACS 5-Yr)',\n",
       " '2025 NAICS 44-45,722 Expenditures',\n",
       " '2025 NAICS 44-45 Expenditures',\n",
       " '2025 NAICS 722 Expenditures',\n",
       " '2025 Unemployment Rate',\n",
       " '2025 Median Home Value',\n",
       " '2030 Median Home Value',\n",
       " '2024 Total Crime Index',\n",
       " '2025 Total Businesses (NAICS)',\n",
       " '2025 Median Monthly Contract Rent',\n",
       " 'Ranking',\n",
       " 'WalkabilityIndex',\n",
       " 'DistanceToHighway',\n",
       " 'DistanceToRegionalRail',\n",
       " 'DistanceToAirport',\n",
       " 'Shape_Length',\n",
       " 'Shape_Area']"
      ]
     },
     "execution_count": 39,
     "metadata": {},
     "output_type": "execute_result"
    }
   ],
   "source": [
    "cols = []\n",
    "for row in arcpy.ListFields('ArlingtonMarketReadinessPoliceFireStations'):\n",
    "    cols.append(row.aliasName)\n",
    "cols  "
   ]
  },
  {
   "cell_type": "markdown",
   "id": "b74b5b44",
   "metadata": {},
   "source": [
    "- Traffic Count"
   ]
  },
  {
   "cell_type": "code",
   "execution_count": 40,
   "id": "3274f9da",
   "metadata": {},
   "outputs": [
    {
     "data": {
      "text/plain": [
       "['OBJECTID',\n",
       " 'Shape',\n",
       " 'DIST_NM',\n",
       " 'CNTY_NM',\n",
       " 'TRFC_STATN',\n",
       " 'LATEST_AAD',\n",
       " 'AADT_RPT_Q',\n",
       " 'AADT_RPT_H',\n",
       " 'AADT_RPT_1',\n",
       " 'AADT_RPT_2',\n",
       " 'AADT_RPT_3']"
      ]
     },
     "execution_count": 40,
     "metadata": {},
     "output_type": "execute_result"
    }
   ],
   "source": [
    "cols = []\n",
    "for row in arcpy.ListFields('TrafficCountyHistoric5Year'):\n",
    "    cols.append(row.name)\n",
    "cols  "
   ]
  },
  {
   "cell_type": "code",
   "execution_count": 41,
   "id": "6d4b595e",
   "metadata": {},
   "outputs": [
    {
     "data": {
      "text/html": [
       "<div class='gpresult'><h2>Messages</h2><div id='messages' data-messages='[\"Start Time: Friday, August 22, 2025 11:46:12 PM\",\"Succeeded at Friday, August 22, 2025 11:46:12 PM (Elapsed Time: 0.40 seconds)\"]' data-show='true'><div id = 'default' /></div></div>"
      ],
      "text/plain": [
       "<Result 'C:\\\\Users\\\\Thepr\\\\Documents\\\\Consulting\\\\Market Readiness\\\\Market Readiness.gdb\\\\ArlingtonMarketReadinessTraffic'>"
      ]
     },
     "execution_count": 41,
     "metadata": {},
     "output_type": "execute_result"
    }
   ],
   "source": [
    "fieldmapping = arcpy.FieldMappings()\n",
    "fieldmapping.addTable(\"ArlingtonMarketReadinessPoliceFireStations\")\n",
    "fieldmapping.addTable(\"TrafficCountyHistoric5Year\")\n",
    "\n",
    "index = fieldmapping.findFieldMapIndex('AADT_RPT_Q')\n",
    "fmap = fieldmapping.getFieldMap(index)\n",
    "fmap.mergeRule = 'Mean'\n",
    "fieldmapping.replaceFieldMap(index, fmap)\n",
    "\n",
    "\n",
    "analysisfields = ['OBJECTID','Shape','DISTNAME','CAMPNAME','STREET','CITY','ZIP','INSTR_TYPE','XCOORD','YCOORD',\n",
    "                  'DOWNLOADDATE','GRADEGROUP','State','TARGET_FID','TARGET_FID_1','ObjectID_1','OBJECTID_1','Shape',\n",
    "                  'OBJECTID','BUILDINGCO','ADDRESS','HOSPITALNA','Type','OBJECTID_1','Shape','ObjectId','Store_Name',\n",
    "                  'Address','City','State','County','Longitude','Latitude','StoreType','Produce',\n",
    "                 'OBJECTID_1','Shape','ImportDate','OBJECTID','FacilityNa','Establishm','PropertyAd',\n",
    "                  'Inspection','Inspecti_1','Attempt','XCoord','YCoord','Inspecti_2', 'Type','Tags','ServesAlcohol',\n",
    "                  'Name','Address','City','State','ZIP','Phone','OnlineReviewLink','NavigateToLink','CreationDate',\n",
    "                  'Creator','EditDate','Editor','OBJECTID_1','Shape','OBJECTID','NAME','OWNER','NOTES','CITY',\n",
    "                  'FEATTYPE','STATUS','SOURCE', 'SOURCE_YEA', 'ShapeSTLen', 'ShapeSTAre', 'ORIG_FID',\n",
    "                 'OBJECTID_1','Shape','OBJECTID','STATIONNAM','PARCELADDR','STRUCTUREA','DISTRICTID','STATION',\n",
    "                 'Walkscore','OBJECTID','Ranking_1','FREQUENCY','SUM_WeightedWalk','SUM_Acres','Shape_Length','Shape_Area',\n",
    "                 'OBJECTID','Shape','DIST_NM','CNTY_NM','TRFC_STATN','LATEST_AAD', 'AADT_RPT_H','TARGET_FID_12',\n",
    "                  'AADT_RPT_1', 'AADT_RPT_2','AADT_RPT_3','Join_Count','TARGET_FID']\n",
    "\n",
    "\n",
    "for field in fieldmapping.fields:\n",
    "    if field.name in analysisfields:\n",
    "        fieldmapping.removeFieldMap(fieldmapping.findFieldMapIndex(field.name))\n",
    "        \n",
    "\n",
    "arcpy.analysis.SpatialJoin(\"ArlingtonMarketReadinessPoliceFireStations\",\n",
    "                           \"TrafficCountyHistoric5Year\",\"ArlingtonMarketReadinessTraffic\",\n",
    "                           \"JOIN_ONE_TO_ONE\",\n",
    "                           \"KEEP_ALL\",fieldmapping,\n",
    "                           \"WITHIN_A_DISTANCE\",\n",
    "                           \"1 Miles\",\n",
    "                           \"\",\n",
    "                           None)\n",
    "\n",
    "arcpy.management.AlterField(\"ArlingtonMarketReadinessTraffic\",\"AADT_RPT_Q\",\"Avg5yrTraffic\",\"Avg5yrTraffic\")\n",
    "arcpy.management.AlterField(\"ArlingtonMarketReadinessTraffic\",\"Join_Count\",\"NearbyTrafficSensors\",\"NearbyTrafficSensors\")"
   ]
  },
  {
   "cell_type": "code",
   "execution_count": 42,
   "id": "621a18ed",
   "metadata": {},
   "outputs": [
    {
     "data": {
      "text/plain": [
       "['OBJECTID',\n",
       " 'Shape',\n",
       " 'NearbyTrafficSensors',\n",
       " 'TARGET_FID',\n",
       " 'NearbyPolice',\n",
       " 'NearbyParks',\n",
       " 'NearbyRestuarants',\n",
       " 'NearbyGrocery',\n",
       " 'Nearbyhealthcare',\n",
       " 'NearbySchools',\n",
       " 'NewConstructionActivity',\n",
       " 'NearbyCommercialDevelopment',\n",
       " 'NearbyResidentialDevelopment',\n",
       " 'Shape_Leng',\n",
       " 'Comments',\n",
       " 'Acres',\n",
       " 'Descriptio',\n",
       " 'Ranking',\n",
       " 'Location',\n",
       " 'Value',\n",
       " 'Override',\n",
       " 'Shape_Leng',\n",
       " 'Comments',\n",
       " 'Acres',\n",
       " 'Descriptio',\n",
       " 'Location',\n",
       " 'Value',\n",
       " 'Override',\n",
       " 'aggregationMethod',\n",
       " 'HasData',\n",
       " 'ORIGINAL_OID',\n",
       " 'sourceCountry',\n",
       " 'apportionmentConfidence',\n",
       " 'populationToPolygonSizeRating',\n",
       " 'areaType',\n",
       " 'bufferUnits',\n",
       " 'bufferUnit',\n",
       " 'bufferRadii',\n",
       " '2025 Total Population',\n",
       " '2025 Population Density',\n",
       " '2030 Total Population',\n",
       " '2025 Total Housing Units',\n",
       " '2025 Vacant Housing Units',\n",
       " '2030 Vacant Housing Units',\n",
       " '2025 Total Housing Units',\n",
       " '2025 Median Home Value',\n",
       " '2023 Median Home Value (ACS 5-Yr)',\n",
       " '2025 NAICS 44-45,722 Expenditures',\n",
       " '2025 NAICS 44-45 Expenditures',\n",
       " '2025 NAICS 722 Expenditures',\n",
       " '2025 Unemployment Rate',\n",
       " '2025 Median Home Value',\n",
       " '2030 Median Home Value',\n",
       " '2024 Total Crime Index',\n",
       " '2025 Total Businesses (NAICS)',\n",
       " '2025 Median Monthly Contract Rent',\n",
       " 'Ranking',\n",
       " 'WalkabilityIndex',\n",
       " 'DistanceToHighway',\n",
       " 'DistanceToRegionalRail',\n",
       " 'DistanceToAirport',\n",
       " 'Avg5yrTraffic',\n",
       " 'Shape_Length',\n",
       " 'Shape_Area']"
      ]
     },
     "execution_count": 42,
     "metadata": {},
     "output_type": "execute_result"
    }
   ],
   "source": [
    "cols = []\n",
    "for row in arcpy.ListFields('ArlingtonMarketReadinessTraffic'):\n",
    "    cols.append(row.aliasName)\n",
    "cols "
   ]
  },
  {
   "cell_type": "markdown",
   "id": "ceb7a800",
   "metadata": {},
   "source": [
    "- **Environmental and Protected Areas**"
   ]
  },
  {
   "cell_type": "code",
   "execution_count": 43,
   "id": "f27f993e",
   "metadata": {},
   "outputs": [
    {
     "data": {
      "text/plain": [
       "['OBJECTID_1',\n",
       " 'Shape',\n",
       " 'OBJECTID',\n",
       " 'TaxParcelI',\n",
       " 'TaxParcelA',\n",
       " 'TaxLegalKe',\n",
       " 'MoreInform',\n",
       " 'ShapeSTAre',\n",
       " 'ShapeSTLen',\n",
       " 'Shape_Length',\n",
       " 'Shape_Area']"
      ]
     },
     "execution_count": 43,
     "metadata": {},
     "output_type": "execute_result"
    }
   ],
   "source": [
    "cols = []\n",
    "for row in arcpy.ListFields('Brownfields'):\n",
    "    cols.append(row.aliasName)\n",
    "cols "
   ]
  },
  {
   "cell_type": "code",
   "execution_count": 44,
   "id": "6b308fab",
   "metadata": {},
   "outputs": [
    {
     "data": {
      "text/html": [
       "<div class='gpresult'><h2>Messages</h2><div id='messages' data-messages='[\"Start Time: Friday, August 22, 2025 11:46:44 PM\",\"Succeeded at Friday, August 22, 2025 11:46:45 PM (Elapsed Time: 0.63 seconds)\"]' data-show='true'><div id = 'default' /></div></div>"
      ],
      "text/plain": [
       "<Result 'C:\\\\Users\\\\Thepr\\\\Documents\\\\Consulting\\\\Market Readiness\\\\Market Readiness.gdb\\\\Brownfields2024'>"
      ]
     },
     "execution_count": 44,
     "metadata": {},
     "output_type": "execute_result"
    }
   ],
   "source": [
    "arcpy.management.FeatureToPoint(\"Brownfields\",\"Brownfields2024\",\"CENTROID\")"
   ]
  },
  {
   "cell_type": "code",
   "execution_count": 45,
   "id": "bb37638f",
   "metadata": {},
   "outputs": [
    {
     "data": {
      "text/html": [
       "<div class='gpresult'><h2>Messages</h2><div id='messages' data-messages='[\"Start Time: Friday, August 22, 2025 11:46:47 PM\",\"Succeeded at Friday, August 22, 2025 11:46:48 PM (Elapsed Time: 0.23 seconds)\"]' data-show='true'><div id = 'default' /></div></div>"
      ],
      "text/plain": [
       "<Result 'C:\\\\Users\\\\Thepr\\\\Documents\\\\Consulting\\\\Market Readiness\\\\Market Readiness.gdb\\\\ArlingtonMarketReadinessBrownfields'>"
      ]
     },
     "execution_count": 45,
     "metadata": {},
     "output_type": "execute_result"
    }
   ],
   "source": [
    "fieldmapping = arcpy.FieldMappings()\n",
    "fieldmapping.addTable(\"ArlingtonMarketReadinessTraffic\")\n",
    "fieldmapping.addTable(\"Brownfields\")\n",
    "\n",
    "analysisfields = ['OBJECTID','Shape','DISTNAME','CAMPNAME','STREET','CITY','ZIP','INSTR_TYPE','XCOORD','YCOORD',\n",
    "                  'DOWNLOADDATE','GRADEGROUP','State','TARGET_FID','TARGET_FID_1','ObjectID_1','OBJECTID_1','Shape',\n",
    "                  'OBJECTID','BUILDINGCO','ADDRESS','HOSPITALNA','Type','OBJECTID_1','Shape','ObjectId','Store_Name',\n",
    "                  'Address','City','State','County','Longitude','Latitude','StoreType','Produce',\n",
    "                 'OBJECTID_1','Shape','ImportDate','OBJECTID','FacilityNa','Establishm','PropertyAd',\n",
    "                  'Inspection','Inspecti_1','Attempt','XCoord','YCoord','Inspecti_2', 'Type','Tags','ServesAlcohol',\n",
    "                  'Name','Address','City','State','ZIP','Phone','OnlineReviewLink','NavigateToLink','CreationDate',\n",
    "                  'Creator','EditDate','Editor','OBJECTID_1','Shape','OBJECTID','NAME','OWNER','NOTES','CITY',\n",
    "                  'FEATTYPE','STATUS','SOURCE', 'SOURCE_YEA', 'ShapeSTLen', 'ShapeSTAre', 'ORIG_FID',\n",
    "                 'OBJECTID_1','Shape','OBJECTID','STATIONNAM','PARCELADDR','STRUCTUREA','DISTRICTID','STATION',\n",
    "                 'Walkscore','OBJECTID','Ranking_1','FREQUENCY','SUM_WeightedWalk','SUM_Acres','Shape_Length','Shape_Area',\n",
    "                 'OBJECTID_1', 'Shape','OBJECTID', 'TaxParcelI', 'TaxParcelA', 'TaxLegalKe', 'MoreInform', 'ShapeSTAre',\n",
    "                  'ShapeSTLen']\n",
    "\n",
    "\n",
    "for field in fieldmapping.fields:\n",
    "    if field.name in analysisfields:\n",
    "        fieldmapping.removeFieldMap(fieldmapping.findFieldMapIndex(field.name))\n",
    "        \n",
    "\n",
    "arcpy.analysis.SpatialJoin(\"ArlingtonMarketReadinessTraffic\",\n",
    "                           \"Brownfields\",\"ArlingtonMarketReadinessBrownfields\",\n",
    "                           \"JOIN_ONE_TO_ONE\",\n",
    "                           \"KEEP_ALL\",fieldmapping,\n",
    "                           \"WITHIN_A_DISTANCE\",\n",
    "                           \"1 Miles\",\n",
    "                           \"\",\n",
    "                           None)\n",
    "\n",
    "arcpy.management.AlterField(\"ArlingtonMarketReadinessBrownfields\",\"Join_Count\",\"NearbyBrownfields\",\"NearbyBrownfields\")"
   ]
  },
  {
   "cell_type": "markdown",
   "id": "842eda5e",
   "metadata": {},
   "source": [
    "- **Road Conditions**"
   ]
  },
  {
   "cell_type": "code",
   "execution_count": 46,
   "id": "7e71a117",
   "metadata": {},
   "outputs": [
    {
     "ename": "TypeError",
     "evalue": "unsupported operand type(s) for *: 'NoneType' and 'float'",
     "output_type": "error",
     "traceback": [
      "\u001b[1;31m---------------------------------------------------------------------------\u001b[0m",
      "\u001b[1;31mTypeError\u001b[0m                                 Traceback (most recent call last)",
      "\u001b[1;32m<expression>\u001b[0m in \u001b[0;36m<module>\u001b[1;34m\u001b[0m\n",
      "\u001b[1;31mTypeError\u001b[0m: unsupported operand type(s) for *: 'NoneType' and 'float'"
     ]
    },
    {
     "ename": "TypeError",
     "evalue": "unsupported operand type(s) for *: 'NoneType' and 'float'",
     "output_type": "error",
     "traceback": [
      "\u001b[1;31m---------------------------------------------------------------------------\u001b[0m",
      "\u001b[1;31mTypeError\u001b[0m                                 Traceback (most recent call last)",
      "\u001b[1;32m<expression>\u001b[0m in \u001b[0;36m<module>\u001b[1;34m\u001b[0m\n",
      "\u001b[1;31mTypeError\u001b[0m: unsupported operand type(s) for *: 'NoneType' and 'float'"
     ]
    },
    {
     "ename": "TypeError",
     "evalue": "unsupported operand type(s) for *: 'NoneType' and 'float'",
     "output_type": "error",
     "traceback": [
      "\u001b[1;31m---------------------------------------------------------------------------\u001b[0m",
      "\u001b[1;31mTypeError\u001b[0m                                 Traceback (most recent call last)",
      "\u001b[1;32m<expression>\u001b[0m in \u001b[0;36m<module>\u001b[1;34m\u001b[0m\n",
      "\u001b[1;31mTypeError\u001b[0m: unsupported operand type(s) for *: 'NoneType' and 'float'"
     ]
    },
    {
     "ename": "TypeError",
     "evalue": "unsupported operand type(s) for *: 'NoneType' and 'float'",
     "output_type": "error",
     "traceback": [
      "\u001b[1;31m---------------------------------------------------------------------------\u001b[0m",
      "\u001b[1;31mTypeError\u001b[0m                                 Traceback (most recent call last)",
      "\u001b[1;32m<expression>\u001b[0m in \u001b[0;36m<module>\u001b[1;34m\u001b[0m\n",
      "\u001b[1;31mTypeError\u001b[0m: unsupported operand type(s) for *: 'NoneType' and 'float'"
     ]
    },
    {
     "ename": "TypeError",
     "evalue": "unsupported operand type(s) for *: 'NoneType' and 'float'",
     "output_type": "error",
     "traceback": [
      "\u001b[1;31m---------------------------------------------------------------------------\u001b[0m",
      "\u001b[1;31mTypeError\u001b[0m                                 Traceback (most recent call last)",
      "\u001b[1;32m<expression>\u001b[0m in \u001b[0;36m<module>\u001b[1;34m\u001b[0m\n",
      "\u001b[1;31mTypeError\u001b[0m: unsupported operand type(s) for *: 'NoneType' and 'float'"
     ]
    },
    {
     "ename": "TypeError",
     "evalue": "unsupported operand type(s) for *: 'NoneType' and 'float'",
     "output_type": "error",
     "traceback": [
      "\u001b[1;31m---------------------------------------------------------------------------\u001b[0m",
      "\u001b[1;31mTypeError\u001b[0m                                 Traceback (most recent call last)",
      "\u001b[1;32m<expression>\u001b[0m in \u001b[0;36m<module>\u001b[1;34m\u001b[0m\n",
      "\u001b[1;31mTypeError\u001b[0m: unsupported operand type(s) for *: 'NoneType' and 'float'"
     ]
    },
    {
     "ename": "TypeError",
     "evalue": "unsupported operand type(s) for *: 'NoneType' and 'float'",
     "output_type": "error",
     "traceback": [
      "\u001b[1;31m---------------------------------------------------------------------------\u001b[0m",
      "\u001b[1;31mTypeError\u001b[0m                                 Traceback (most recent call last)",
      "\u001b[1;32m<expression>\u001b[0m in \u001b[0;36m<module>\u001b[1;34m\u001b[0m\n",
      "\u001b[1;31mTypeError\u001b[0m: unsupported operand type(s) for *: 'NoneType' and 'float'"
     ]
    },
    {
     "ename": "TypeError",
     "evalue": "unsupported operand type(s) for *: 'NoneType' and 'float'",
     "output_type": "error",
     "traceback": [
      "\u001b[1;31m---------------------------------------------------------------------------\u001b[0m",
      "\u001b[1;31mTypeError\u001b[0m                                 Traceback (most recent call last)",
      "\u001b[1;32m<expression>\u001b[0m in \u001b[0;36m<module>\u001b[1;34m\u001b[0m\n",
      "\u001b[1;31mTypeError\u001b[0m: unsupported operand type(s) for *: 'NoneType' and 'float'"
     ]
    },
    {
     "ename": "TypeError",
     "evalue": "unsupported operand type(s) for *: 'NoneType' and 'float'",
     "output_type": "error",
     "traceback": [
      "\u001b[1;31m---------------------------------------------------------------------------\u001b[0m",
      "\u001b[1;31mTypeError\u001b[0m                                 Traceback (most recent call last)",
      "\u001b[1;32m<expression>\u001b[0m in \u001b[0;36m<module>\u001b[1;34m\u001b[0m\n",
      "\u001b[1;31mTypeError\u001b[0m: unsupported operand type(s) for *: 'NoneType' and 'float'"
     ]
    },
    {
     "ename": "TypeError",
     "evalue": "unsupported operand type(s) for *: 'NoneType' and 'float'",
     "output_type": "error",
     "traceback": [
      "\u001b[1;31m---------------------------------------------------------------------------\u001b[0m",
      "\u001b[1;31mTypeError\u001b[0m                                 Traceback (most recent call last)",
      "\u001b[1;32m<expression>\u001b[0m in \u001b[0;36m<module>\u001b[1;34m\u001b[0m\n",
      "\u001b[1;31mTypeError\u001b[0m: unsupported operand type(s) for *: 'NoneType' and 'float'"
     ]
    },
    {
     "ename": "TypeError",
     "evalue": "unsupported operand type(s) for *: 'NoneType' and 'float'",
     "output_type": "error",
     "traceback": [
      "\u001b[1;31m---------------------------------------------------------------------------\u001b[0m",
      "\u001b[1;31mTypeError\u001b[0m                                 Traceback (most recent call last)",
      "\u001b[1;32m<expression>\u001b[0m in \u001b[0;36m<module>\u001b[1;34m\u001b[0m\n",
      "\u001b[1;31mTypeError\u001b[0m: unsupported operand type(s) for *: 'NoneType' and 'float'"
     ]
    },
    {
     "ename": "TypeError",
     "evalue": "unsupported operand type(s) for *: 'NoneType' and 'float'",
     "output_type": "error",
     "traceback": [
      "\u001b[1;31m---------------------------------------------------------------------------\u001b[0m",
      "\u001b[1;31mTypeError\u001b[0m                                 Traceback (most recent call last)",
      "\u001b[1;32m<expression>\u001b[0m in \u001b[0;36m<module>\u001b[1;34m\u001b[0m\n",
      "\u001b[1;31mTypeError\u001b[0m: unsupported operand type(s) for *: 'NoneType' and 'float'"
     ]
    },
    {
     "ename": "TypeError",
     "evalue": "unsupported operand type(s) for *: 'NoneType' and 'float'",
     "output_type": "error",
     "traceback": [
      "\u001b[1;31m---------------------------------------------------------------------------\u001b[0m",
      "\u001b[1;31mTypeError\u001b[0m                                 Traceback (most recent call last)",
      "\u001b[1;32m<expression>\u001b[0m in \u001b[0;36m<module>\u001b[1;34m\u001b[0m\n",
      "\u001b[1;31mTypeError\u001b[0m: unsupported operand type(s) for *: 'NoneType' and 'float'"
     ]
    },
    {
     "ename": "TypeError",
     "evalue": "unsupported operand type(s) for *: 'NoneType' and 'float'",
     "output_type": "error",
     "traceback": [
      "\u001b[1;31m---------------------------------------------------------------------------\u001b[0m",
      "\u001b[1;31mTypeError\u001b[0m                                 Traceback (most recent call last)",
      "\u001b[1;32m<expression>\u001b[0m in \u001b[0;36m<module>\u001b[1;34m\u001b[0m\n",
      "\u001b[1;31mTypeError\u001b[0m: unsupported operand type(s) for *: 'NoneType' and 'float'"
     ]
    },
    {
     "ename": "TypeError",
     "evalue": "unsupported operand type(s) for *: 'NoneType' and 'float'",
     "output_type": "error",
     "traceback": [
      "\u001b[1;31m---------------------------------------------------------------------------\u001b[0m",
      "\u001b[1;31mTypeError\u001b[0m                                 Traceback (most recent call last)",
      "\u001b[1;32m<expression>\u001b[0m in \u001b[0;36m<module>\u001b[1;34m\u001b[0m\n",
      "\u001b[1;31mTypeError\u001b[0m: unsupported operand type(s) for *: 'NoneType' and 'float'"
     ]
    },
    {
     "ename": "TypeError",
     "evalue": "unsupported operand type(s) for *: 'NoneType' and 'float'",
     "output_type": "error",
     "traceback": [
      "\u001b[1;31m---------------------------------------------------------------------------\u001b[0m",
      "\u001b[1;31mTypeError\u001b[0m                                 Traceback (most recent call last)",
      "\u001b[1;32m<expression>\u001b[0m in \u001b[0;36m<module>\u001b[1;34m\u001b[0m\n",
      "\u001b[1;31mTypeError\u001b[0m: unsupported operand type(s) for *: 'NoneType' and 'float'"
     ]
    },
    {
     "ename": "TypeError",
     "evalue": "unsupported operand type(s) for *: 'NoneType' and 'float'",
     "output_type": "error",
     "traceback": [
      "\u001b[1;31m---------------------------------------------------------------------------\u001b[0m",
      "\u001b[1;31mTypeError\u001b[0m                                 Traceback (most recent call last)",
      "\u001b[1;32m<expression>\u001b[0m in \u001b[0;36m<module>\u001b[1;34m\u001b[0m\n",
      "\u001b[1;31mTypeError\u001b[0m: unsupported operand type(s) for *: 'NoneType' and 'float'"
     ]
    },
    {
     "ename": "TypeError",
     "evalue": "unsupported operand type(s) for *: 'NoneType' and 'float'",
     "output_type": "error",
     "traceback": [
      "\u001b[1;31m---------------------------------------------------------------------------\u001b[0m",
      "\u001b[1;31mTypeError\u001b[0m                                 Traceback (most recent call last)",
      "\u001b[1;32m<expression>\u001b[0m in \u001b[0;36m<module>\u001b[1;34m\u001b[0m\n",
      "\u001b[1;31mTypeError\u001b[0m: unsupported operand type(s) for *: 'NoneType' and 'float'"
     ]
    },
    {
     "ename": "TypeError",
     "evalue": "unsupported operand type(s) for *: 'NoneType' and 'float'",
     "output_type": "error",
     "traceback": [
      "\u001b[1;31m---------------------------------------------------------------------------\u001b[0m",
      "\u001b[1;31mTypeError\u001b[0m                                 Traceback (most recent call last)",
      "\u001b[1;32m<expression>\u001b[0m in \u001b[0;36m<module>\u001b[1;34m\u001b[0m\n",
      "\u001b[1;31mTypeError\u001b[0m: unsupported operand type(s) for *: 'NoneType' and 'float'"
     ]
    },
    {
     "ename": "TypeError",
     "evalue": "unsupported operand type(s) for *: 'NoneType' and 'float'",
     "output_type": "error",
     "traceback": [
      "\u001b[1;31m---------------------------------------------------------------------------\u001b[0m",
      "\u001b[1;31mTypeError\u001b[0m                                 Traceback (most recent call last)",
      "\u001b[1;32m<expression>\u001b[0m in \u001b[0;36m<module>\u001b[1;34m\u001b[0m\n",
      "\u001b[1;31mTypeError\u001b[0m: unsupported operand type(s) for *: 'NoneType' and 'float'"
     ]
    },
    {
     "ename": "TypeError",
     "evalue": "unsupported operand type(s) for *: 'NoneType' and 'float'",
     "output_type": "error",
     "traceback": [
      "\u001b[1;31m---------------------------------------------------------------------------\u001b[0m",
      "\u001b[1;31mTypeError\u001b[0m                                 Traceback (most recent call last)",
      "\u001b[1;32m<expression>\u001b[0m in \u001b[0;36m<module>\u001b[1;34m\u001b[0m\n",
      "\u001b[1;31mTypeError\u001b[0m: unsupported operand type(s) for *: 'NoneType' and 'float'"
     ]
    },
    {
     "ename": "TypeError",
     "evalue": "unsupported operand type(s) for *: 'NoneType' and 'float'",
     "output_type": "error",
     "traceback": [
      "\u001b[1;31m---------------------------------------------------------------------------\u001b[0m",
      "\u001b[1;31mTypeError\u001b[0m                                 Traceback (most recent call last)",
      "\u001b[1;32m<expression>\u001b[0m in \u001b[0;36m<module>\u001b[1;34m\u001b[0m\n",
      "\u001b[1;31mTypeError\u001b[0m: unsupported operand type(s) for *: 'NoneType' and 'float'"
     ]
    },
    {
     "ename": "TypeError",
     "evalue": "unsupported operand type(s) for *: 'NoneType' and 'float'",
     "output_type": "error",
     "traceback": [
      "\u001b[1;31m---------------------------------------------------------------------------\u001b[0m",
      "\u001b[1;31mTypeError\u001b[0m                                 Traceback (most recent call last)",
      "\u001b[1;32m<expression>\u001b[0m in \u001b[0;36m<module>\u001b[1;34m\u001b[0m\n",
      "\u001b[1;31mTypeError\u001b[0m: unsupported operand type(s) for *: 'NoneType' and 'float'"
     ]
    },
    {
     "ename": "TypeError",
     "evalue": "unsupported operand type(s) for *: 'NoneType' and 'float'",
     "output_type": "error",
     "traceback": [
      "\u001b[1;31m---------------------------------------------------------------------------\u001b[0m",
      "\u001b[1;31mTypeError\u001b[0m                                 Traceback (most recent call last)",
      "\u001b[1;32m<expression>\u001b[0m in \u001b[0;36m<module>\u001b[1;34m\u001b[0m\n",
      "\u001b[1;31mTypeError\u001b[0m: unsupported operand type(s) for *: 'NoneType' and 'float'"
     ]
    },
    {
     "ename": "TypeError",
     "evalue": "unsupported operand type(s) for *: 'NoneType' and 'float'",
     "output_type": "error",
     "traceback": [
      "\u001b[1;31m---------------------------------------------------------------------------\u001b[0m",
      "\u001b[1;31mTypeError\u001b[0m                                 Traceback (most recent call last)",
      "\u001b[1;32m<expression>\u001b[0m in \u001b[0;36m<module>\u001b[1;34m\u001b[0m\n",
      "\u001b[1;31mTypeError\u001b[0m: unsupported operand type(s) for *: 'NoneType' and 'float'"
     ]
    },
    {
     "ename": "TypeError",
     "evalue": "unsupported operand type(s) for *: 'NoneType' and 'float'",
     "output_type": "error",
     "traceback": [
      "\u001b[1;31m---------------------------------------------------------------------------\u001b[0m",
      "\u001b[1;31mTypeError\u001b[0m                                 Traceback (most recent call last)",
      "\u001b[1;32m<expression>\u001b[0m in \u001b[0;36m<module>\u001b[1;34m\u001b[0m\n",
      "\u001b[1;31mTypeError\u001b[0m: unsupported operand type(s) for *: 'NoneType' and 'float'"
     ]
    },
    {
     "ename": "TypeError",
     "evalue": "unsupported operand type(s) for *: 'NoneType' and 'float'",
     "output_type": "error",
     "traceback": [
      "\u001b[1;31m---------------------------------------------------------------------------\u001b[0m",
      "\u001b[1;31mTypeError\u001b[0m                                 Traceback (most recent call last)",
      "\u001b[1;32m<expression>\u001b[0m in \u001b[0;36m<module>\u001b[1;34m\u001b[0m\n",
      "\u001b[1;31mTypeError\u001b[0m: unsupported operand type(s) for *: 'NoneType' and 'float'"
     ]
    },
    {
     "ename": "TypeError",
     "evalue": "unsupported operand type(s) for *: 'NoneType' and 'float'",
     "output_type": "error",
     "traceback": [
      "\u001b[1;31m---------------------------------------------------------------------------\u001b[0m",
      "\u001b[1;31mTypeError\u001b[0m                                 Traceback (most recent call last)",
      "\u001b[1;32m<expression>\u001b[0m in \u001b[0;36m<module>\u001b[1;34m\u001b[0m\n",
      "\u001b[1;31mTypeError\u001b[0m: unsupported operand type(s) for *: 'NoneType' and 'float'"
     ]
    },
    {
     "ename": "TypeError",
     "evalue": "unsupported operand type(s) for *: 'NoneType' and 'float'",
     "output_type": "error",
     "traceback": [
      "\u001b[1;31m---------------------------------------------------------------------------\u001b[0m",
      "\u001b[1;31mTypeError\u001b[0m                                 Traceback (most recent call last)",
      "\u001b[1;32m<expression>\u001b[0m in \u001b[0;36m<module>\u001b[1;34m\u001b[0m\n",
      "\u001b[1;31mTypeError\u001b[0m: unsupported operand type(s) for *: 'NoneType' and 'float'"
     ]
    },
    {
     "ename": "TypeError",
     "evalue": "unsupported operand type(s) for *: 'NoneType' and 'float'",
     "output_type": "error",
     "traceback": [
      "\u001b[1;31m---------------------------------------------------------------------------\u001b[0m",
      "\u001b[1;31mTypeError\u001b[0m                                 Traceback (most recent call last)",
      "\u001b[1;32m<expression>\u001b[0m in \u001b[0;36m<module>\u001b[1;34m\u001b[0m\n",
      "\u001b[1;31mTypeError\u001b[0m: unsupported operand type(s) for *: 'NoneType' and 'float'"
     ]
    },
    {
     "ename": "TypeError",
     "evalue": "unsupported operand type(s) for *: 'NoneType' and 'float'",
     "output_type": "error",
     "traceback": [
      "\u001b[1;31m---------------------------------------------------------------------------\u001b[0m",
      "\u001b[1;31mTypeError\u001b[0m                                 Traceback (most recent call last)",
      "\u001b[1;32m<expression>\u001b[0m in \u001b[0;36m<module>\u001b[1;34m\u001b[0m\n",
      "\u001b[1;31mTypeError\u001b[0m: unsupported operand type(s) for *: 'NoneType' and 'float'"
     ]
    },
    {
     "ename": "TypeError",
     "evalue": "unsupported operand type(s) for *: 'NoneType' and 'float'",
     "output_type": "error",
     "traceback": [
      "\u001b[1;31m---------------------------------------------------------------------------\u001b[0m",
      "\u001b[1;31mTypeError\u001b[0m                                 Traceback (most recent call last)",
      "\u001b[1;32m<expression>\u001b[0m in \u001b[0;36m<module>\u001b[1;34m\u001b[0m\n",
      "\u001b[1;31mTypeError\u001b[0m: unsupported operand type(s) for *: 'NoneType' and 'float'"
     ]
    },
    {
     "ename": "TypeError",
     "evalue": "unsupported operand type(s) for *: 'NoneType' and 'float'",
     "output_type": "error",
     "traceback": [
      "\u001b[1;31m---------------------------------------------------------------------------\u001b[0m",
      "\u001b[1;31mTypeError\u001b[0m                                 Traceback (most recent call last)",
      "\u001b[1;32m<expression>\u001b[0m in \u001b[0;36m<module>\u001b[1;34m\u001b[0m\n",
      "\u001b[1;31mTypeError\u001b[0m: unsupported operand type(s) for *: 'NoneType' and 'float'"
     ]
    },
    {
     "ename": "TypeError",
     "evalue": "unsupported operand type(s) for *: 'NoneType' and 'float'",
     "output_type": "error",
     "traceback": [
      "\u001b[1;31m---------------------------------------------------------------------------\u001b[0m",
      "\u001b[1;31mTypeError\u001b[0m                                 Traceback (most recent call last)",
      "\u001b[1;32m<expression>\u001b[0m in \u001b[0;36m<module>\u001b[1;34m\u001b[0m\n",
      "\u001b[1;31mTypeError\u001b[0m: unsupported operand type(s) for *: 'NoneType' and 'float'"
     ]
    },
    {
     "ename": "TypeError",
     "evalue": "unsupported operand type(s) for *: 'NoneType' and 'float'",
     "output_type": "error",
     "traceback": [
      "\u001b[1;31m---------------------------------------------------------------------------\u001b[0m",
      "\u001b[1;31mTypeError\u001b[0m                                 Traceback (most recent call last)",
      "\u001b[1;32m<expression>\u001b[0m in \u001b[0;36m<module>\u001b[1;34m\u001b[0m\n",
      "\u001b[1;31mTypeError\u001b[0m: unsupported operand type(s) for *: 'NoneType' and 'float'"
     ]
    },
    {
     "ename": "TypeError",
     "evalue": "unsupported operand type(s) for *: 'NoneType' and 'float'",
     "output_type": "error",
     "traceback": [
      "\u001b[1;31m---------------------------------------------------------------------------\u001b[0m",
      "\u001b[1;31mTypeError\u001b[0m                                 Traceback (most recent call last)",
      "\u001b[1;32m<expression>\u001b[0m in \u001b[0;36m<module>\u001b[1;34m\u001b[0m\n",
      "\u001b[1;31mTypeError\u001b[0m: unsupported operand type(s) for *: 'NoneType' and 'float'"
     ]
    },
    {
     "ename": "TypeError",
     "evalue": "unsupported operand type(s) for *: 'NoneType' and 'float'",
     "output_type": "error",
     "traceback": [
      "\u001b[1;31m---------------------------------------------------------------------------\u001b[0m",
      "\u001b[1;31mTypeError\u001b[0m                                 Traceback (most recent call last)",
      "\u001b[1;32m<expression>\u001b[0m in \u001b[0;36m<module>\u001b[1;34m\u001b[0m\n",
      "\u001b[1;31mTypeError\u001b[0m: unsupported operand type(s) for *: 'NoneType' and 'float'"
     ]
    },
    {
     "ename": "TypeError",
     "evalue": "unsupported operand type(s) for *: 'NoneType' and 'float'",
     "output_type": "error",
     "traceback": [
      "\u001b[1;31m---------------------------------------------------------------------------\u001b[0m",
      "\u001b[1;31mTypeError\u001b[0m                                 Traceback (most recent call last)",
      "\u001b[1;32m<expression>\u001b[0m in \u001b[0;36m<module>\u001b[1;34m\u001b[0m\n",
      "\u001b[1;31mTypeError\u001b[0m: unsupported operand type(s) for *: 'NoneType' and 'float'"
     ]
    },
    {
     "ename": "TypeError",
     "evalue": "unsupported operand type(s) for *: 'NoneType' and 'float'",
     "output_type": "error",
     "traceback": [
      "\u001b[1;31m---------------------------------------------------------------------------\u001b[0m",
      "\u001b[1;31mTypeError\u001b[0m                                 Traceback (most recent call last)",
      "\u001b[1;32m<expression>\u001b[0m in \u001b[0;36m<module>\u001b[1;34m\u001b[0m\n",
      "\u001b[1;31mTypeError\u001b[0m: unsupported operand type(s) for *: 'NoneType' and 'float'"
     ]
    },
    {
     "ename": "TypeError",
     "evalue": "unsupported operand type(s) for *: 'NoneType' and 'float'",
     "output_type": "error",
     "traceback": [
      "\u001b[1;31m---------------------------------------------------------------------------\u001b[0m",
      "\u001b[1;31mTypeError\u001b[0m                                 Traceback (most recent call last)",
      "\u001b[1;32m<expression>\u001b[0m in \u001b[0;36m<module>\u001b[1;34m\u001b[0m\n",
      "\u001b[1;31mTypeError\u001b[0m: unsupported operand type(s) for *: 'NoneType' and 'float'"
     ]
    },
    {
     "ename": "TypeError",
     "evalue": "unsupported operand type(s) for *: 'NoneType' and 'float'",
     "output_type": "error",
     "traceback": [
      "\u001b[1;31m---------------------------------------------------------------------------\u001b[0m",
      "\u001b[1;31mTypeError\u001b[0m                                 Traceback (most recent call last)",
      "\u001b[1;32m<expression>\u001b[0m in \u001b[0;36m<module>\u001b[1;34m\u001b[0m\n",
      "\u001b[1;31mTypeError\u001b[0m: unsupported operand type(s) for *: 'NoneType' and 'float'"
     ]
    },
    {
     "ename": "TypeError",
     "evalue": "unsupported operand type(s) for *: 'NoneType' and 'float'",
     "output_type": "error",
     "traceback": [
      "\u001b[1;31m---------------------------------------------------------------------------\u001b[0m",
      "\u001b[1;31mTypeError\u001b[0m                                 Traceback (most recent call last)",
      "\u001b[1;32m<expression>\u001b[0m in \u001b[0;36m<module>\u001b[1;34m\u001b[0m\n",
      "\u001b[1;31mTypeError\u001b[0m: unsupported operand type(s) for *: 'NoneType' and 'float'"
     ]
    },
    {
     "ename": "TypeError",
     "evalue": "unsupported operand type(s) for *: 'NoneType' and 'float'",
     "output_type": "error",
     "traceback": [
      "\u001b[1;31m---------------------------------------------------------------------------\u001b[0m",
      "\u001b[1;31mTypeError\u001b[0m                                 Traceback (most recent call last)",
      "\u001b[1;32m<expression>\u001b[0m in \u001b[0;36m<module>\u001b[1;34m\u001b[0m\n",
      "\u001b[1;31mTypeError\u001b[0m: unsupported operand type(s) for *: 'NoneType' and 'float'"
     ]
    },
    {
     "data": {
      "text/html": [
       "<div class='gpresult'><h2>Messages</h2><div id='messages' data-messages='[\"Start Time: Friday, August 22, 2025 11:46:59 PM\",\"Succeeded at Friday, August 22, 2025 11:46:59 PM (Elapsed Time: 0.26 seconds)\"]' data-show='true'><div id = 'default' /></div></div>"
      ],
      "text/plain": [
       "<Result 'C:\\\\Users\\\\Thepr\\\\Documents\\\\Consulting\\\\Market Readiness\\\\Market Readiness.gdb\\\\ArlingtonMarketReadinessStreetCondition'>"
      ]
     },
     "execution_count": 46,
     "metadata": {},
     "output_type": "execute_result"
    }
   ],
   "source": [
    "## Add field to road segment \n",
    "\n",
    "arcpy.management.AddField(\"StreetCondition2024\",\"segmentlength\",\"DOUBLE\",None,None,None,\"segmentlength\",\n",
    "                          \"NULLABLE\",\"NON_REQUIRED\",\"\")\n",
    "\n",
    "\n",
    "arcpy.management.CalculateGeometryAttributes(\n",
    "    in_features=\"StreetCondition2024\",\n",
    "    geometry_property=[[\"segmentlength\", \"LENGTH_GEODESIC\"]],\n",
    "    length_unit=\"MILES_US\",\n",
    "    coordinate_system=arcpy.SpatialReference(32038)  # NAD 1983 StatePlane Texas North Central Feet\n",
    ")\n",
    "\n",
    "# Add fields for Weighted length\n",
    "\n",
    "arcpy.management.AddField(\"StreetCondition2024\", \"OCIxLen\", \"DOUBLE\")\n",
    "\n",
    "# Calculate field \n",
    "\n",
    "arcpy.management.CalculateField(\"StreetCondition2024\", \"OCIxLen\", \"!EstimatedOCI! * !segmentlength!\", \"PYTHON3\")\n",
    "\n",
    "#  Spatially join street condtion layer to last brownfields layer\n",
    "arcpy.analysis.SpatialJoin(\"ArlingtonMarketReadinessBrownfields\",\"StreetCondition2024\",\n",
    "                           \"ArlingtonMarketReadinessStreetcondt\",\"JOIN_ONE_TO_MANY\",\n",
    "                           \"KEEP_COMMON\",'',\"INTERSECT\",\"1 Miles\",\"\",None)\n",
    "\n",
    "# Grab summary statistics \n",
    "\n",
    "arcpy.analysis.Statistics(\"ArlingtonMarketReadinessStreetcondt\",\"ArlingtonMarketReadinessStreetConditionSummary\",\n",
    "                          [[\"OCIxLen\", \"SUM\"], [\"segmentlength\", \"SUM\"]],\n",
    "                          \"Ranking\"  )\n",
    "\n",
    "# Add field to for weighted OCI\n",
    "\n",
    "arcpy.management.AddField(\"ArlingtonMarketReadinessStreetConditionSummary\", \"WeightedOCI\", \"DOUBLE\")\n",
    "\n",
    "# Calculate field\n",
    "\n",
    "arcpy.management.CalculateField(\"ArlingtonMarketReadinessStreetConditionSummary\",\"WeightedOCI\",\n",
    "                                \"!SUM_OCIxLen! / !SUM_segmentlength!\",\"PYTHON3\")\n",
    "\n",
    "# Add street condition \n",
    "\n",
    "streetcondition = arcpy.management.AddJoin(\"ArlingtonMarketReadinessBrownfields\",\"Ranking\",\n",
    "                                           \"ArlingtonMarketReadinessStreetConditionSummary\",\"Ranking\",\n",
    "                                           \"KEEP_ALL\",\"NO_INDEX_JOIN_FIELDS\",\"NO_REBUILD_INDEX\")\n",
    "\n",
    "# export final out \n",
    "\n",
    "fieldmapping = arcpy.FieldMappings()\n",
    "fieldmapping.addTable(streetcondition)\n",
    "\n",
    "analysisfields = ['SUM_OCIxLen','SUM_segmentlength','FREQUENCY']\n",
    "\n",
    "for field in fieldmapping.fields:\n",
    "    if field.name in analysisfields:\n",
    "        fieldmapping.removeFieldMap(fieldmapping.findFieldMapIndex(field.name))\n",
    "        \n",
    "arcpy.conversion.ExportFeatures(streetcondition,\"ArlingtonMarketReadinessStreetCondition\",\n",
    "                                \"\",\"NOT_USE_ALIAS\",fieldmapping,None)\n",
    "\n",
    "# Alterfield name \n",
    "arcpy.management.AlterField(\"ArlingtonMarketReadinessStreetCondition\",\"WeightedOCI\",\n",
    "                            \"StreetCondition\",\"StreetCondition\")"
   ]
  },
  {
   "cell_type": "markdown",
   "id": "6d6d86f5",
   "metadata": {},
   "source": [
    "- **Zoning**"
   ]
  },
  {
   "cell_type": "code",
   "execution_count": 47,
   "id": "de5e3ab9",
   "metadata": {},
   "outputs": [],
   "source": [
    "zoningfields = ['Community_Commercial','Entertainment_District_Overlay___Community_Commercial',\n",
    "                'General_Commercial','Lamar_Collins_Mixed_Use_Overlay___Community_Commercial',\n",
    "                'Lamar_Collins_Mixed_Use_Overlay___General_Commercial',\n",
    "                'Lamar_Collins_Mixed_Use_Overlay___Planned_Development',\n",
    "                'Neighborhood_Commercial','Office_Commercial',\n",
    "                'Planned_Development___Residential_Medium_Density___Community_Com',\n",
    "                'Planned_Development___Residential_Multi_Family_22___Community_Co',\n",
    "                'Residential_Medium_Density','Residential_Multi_Family_22',\n",
    "                'Village_on_the_Green']\n"
   ]
  },
  {
   "cell_type": "code",
   "execution_count": 48,
   "id": "0f6533ad",
   "metadata": {},
   "outputs": [
    {
     "name": "stdout",
     "output_type": "stream",
     "text": [
      "Polygon\n"
     ]
    }
   ],
   "source": [
    "desc = arcpy.Describe(\"ZoningDesignation\")\n",
    "print(desc.shapeType)"
   ]
  },
  {
   "cell_type": "code",
   "execution_count": 50,
   "id": "e740eeba",
   "metadata": {
    "collapsed": true
   },
   "outputs": [
    {
     "data": {
      "text/plain": [
       "['OBJECTID',\n",
       " 'Shape',\n",
       " 'NearbyBrownfields',\n",
       " 'TARGET_FID',\n",
       " 'NearbyTrafficSensors',\n",
       " 'NearbyPolice',\n",
       " 'NearbyParks',\n",
       " 'NearbyRestuarants',\n",
       " 'NearbyGrocery',\n",
       " 'Nearbyhealthcare',\n",
       " 'NearbySchools',\n",
       " 'NewConstructionActivity',\n",
       " 'NearbyCommercialDevelopment',\n",
       " 'NearbyResidentialDevelopment',\n",
       " 'Shape_Leng',\n",
       " 'Comments',\n",
       " 'Acres',\n",
       " 'Descriptio',\n",
       " 'Ranking',\n",
       " 'Location',\n",
       " 'Value',\n",
       " 'Override',\n",
       " 'Shape_Leng',\n",
       " 'Comments',\n",
       " 'Acres',\n",
       " 'Descriptio',\n",
       " 'Location',\n",
       " 'Value',\n",
       " 'Override',\n",
       " 'aggregationMethod',\n",
       " 'HasData',\n",
       " 'ORIGINAL_OID',\n",
       " 'sourceCountry',\n",
       " 'apportionmentConfidence',\n",
       " 'populationToPolygonSizeRating',\n",
       " 'areaType',\n",
       " 'bufferUnits',\n",
       " 'bufferUnit',\n",
       " 'bufferRadii',\n",
       " '2025 Total Population',\n",
       " '2025 Population Density',\n",
       " '2030 Total Population',\n",
       " '2025 Total Housing Units',\n",
       " '2025 Vacant Housing Units',\n",
       " '2030 Vacant Housing Units',\n",
       " '2025 Total Housing Units',\n",
       " '2025 Median Home Value',\n",
       " '2023 Median Home Value (ACS 5-Yr)',\n",
       " '2025 NAICS 44-45,722 Expenditures',\n",
       " '2025 NAICS 44-45 Expenditures',\n",
       " '2025 NAICS 722 Expenditures',\n",
       " '2025 Unemployment Rate',\n",
       " '2025 Median Home Value',\n",
       " '2030 Median Home Value',\n",
       " '2024 Total Crime Index',\n",
       " '2025 Total Businesses (NAICS)',\n",
       " '2025 Median Monthly Contract Rent',\n",
       " 'Ranking',\n",
       " 'WalkabilityIndex',\n",
       " 'DistanceToHighway',\n",
       " 'DistanceToRegionalRail',\n",
       " 'DistanceToAirport',\n",
       " 'Avg5yrTraffic',\n",
       " 'Ranking',\n",
       " 'StreetCondition',\n",
       " 'Shape_Length',\n",
       " 'Shape_Area']"
      ]
     },
     "execution_count": 50,
     "metadata": {},
     "output_type": "execute_result"
    }
   ],
   "source": [
    "cols = []\n",
    "for row in arcpy.ListFields('ArlingtonMarketReadinessStreetCondition'):\n",
    "    cols.append(row.aliasName)\n",
    "cols"
   ]
  },
  {
   "cell_type": "code",
   "execution_count": 51,
   "id": "ba72c660",
   "metadata": {},
   "outputs": [
    {
     "ename": "TypeError",
     "evalue": "unsupported operand type(s) for /: 'NoneType' and 'float'",
     "output_type": "error",
     "traceback": [
      "\u001b[1;31m---------------------------------------------------------------------------\u001b[0m",
      "\u001b[1;31mTypeError\u001b[0m                                 Traceback (most recent call last)",
      "\u001b[1;32m<expression>\u001b[0m in \u001b[0;36m<module>\u001b[1;34m\u001b[0m\n",
      "\u001b[1;31mTypeError\u001b[0m: unsupported operand type(s) for /: 'NoneType' and 'float'"
     ]
    },
    {
     "ename": "TypeError",
     "evalue": "unsupported operand type(s) for /: 'NoneType' and 'float'",
     "output_type": "error",
     "traceback": [
      "\u001b[1;31m---------------------------------------------------------------------------\u001b[0m",
      "\u001b[1;31mTypeError\u001b[0m                                 Traceback (most recent call last)",
      "\u001b[1;32m<expression>\u001b[0m in \u001b[0;36m<module>\u001b[1;34m\u001b[0m\n",
      "\u001b[1;31mTypeError\u001b[0m: unsupported operand type(s) for /: 'NoneType' and 'float'"
     ]
    },
    {
     "ename": "TypeError",
     "evalue": "unsupported operand type(s) for /: 'NoneType' and 'float'",
     "output_type": "error",
     "traceback": [
      "\u001b[1;31m---------------------------------------------------------------------------\u001b[0m",
      "\u001b[1;31mTypeError\u001b[0m                                 Traceback (most recent call last)",
      "\u001b[1;32m<expression>\u001b[0m in \u001b[0;36m<module>\u001b[1;34m\u001b[0m\n",
      "\u001b[1;31mTypeError\u001b[0m: unsupported operand type(s) for /: 'NoneType' and 'float'"
     ]
    },
    {
     "ename": "TypeError",
     "evalue": "unsupported operand type(s) for /: 'NoneType' and 'float'",
     "output_type": "error",
     "traceback": [
      "\u001b[1;31m---------------------------------------------------------------------------\u001b[0m",
      "\u001b[1;31mTypeError\u001b[0m                                 Traceback (most recent call last)",
      "\u001b[1;32m<expression>\u001b[0m in \u001b[0;36m<module>\u001b[1;34m\u001b[0m\n",
      "\u001b[1;31mTypeError\u001b[0m: unsupported operand type(s) for /: 'NoneType' and 'float'"
     ]
    },
    {
     "ename": "TypeError",
     "evalue": "unsupported operand type(s) for /: 'NoneType' and 'float'",
     "output_type": "error",
     "traceback": [
      "\u001b[1;31m---------------------------------------------------------------------------\u001b[0m",
      "\u001b[1;31mTypeError\u001b[0m                                 Traceback (most recent call last)",
      "\u001b[1;32m<expression>\u001b[0m in \u001b[0;36m<module>\u001b[1;34m\u001b[0m\n",
      "\u001b[1;31mTypeError\u001b[0m: unsupported operand type(s) for /: 'NoneType' and 'float'"
     ]
    },
    {
     "ename": "TypeError",
     "evalue": "unsupported operand type(s) for /: 'NoneType' and 'float'",
     "output_type": "error",
     "traceback": [
      "\u001b[1;31m---------------------------------------------------------------------------\u001b[0m",
      "\u001b[1;31mTypeError\u001b[0m                                 Traceback (most recent call last)",
      "\u001b[1;32m<expression>\u001b[0m in \u001b[0;36m<module>\u001b[1;34m\u001b[0m\n",
      "\u001b[1;31mTypeError\u001b[0m: unsupported operand type(s) for /: 'NoneType' and 'float'"
     ]
    },
    {
     "ename": "TypeError",
     "evalue": "unsupported operand type(s) for /: 'NoneType' and 'float'",
     "output_type": "error",
     "traceback": [
      "\u001b[1;31m---------------------------------------------------------------------------\u001b[0m",
      "\u001b[1;31mTypeError\u001b[0m                                 Traceback (most recent call last)",
      "\u001b[1;32m<expression>\u001b[0m in \u001b[0;36m<module>\u001b[1;34m\u001b[0m\n",
      "\u001b[1;31mTypeError\u001b[0m: unsupported operand type(s) for /: 'NoneType' and 'float'"
     ]
    },
    {
     "ename": "TypeError",
     "evalue": "unsupported operand type(s) for /: 'NoneType' and 'float'",
     "output_type": "error",
     "traceback": [
      "\u001b[1;31m---------------------------------------------------------------------------\u001b[0m",
      "\u001b[1;31mTypeError\u001b[0m                                 Traceback (most recent call last)",
      "\u001b[1;32m<expression>\u001b[0m in \u001b[0;36m<module>\u001b[1;34m\u001b[0m\n",
      "\u001b[1;31mTypeError\u001b[0m: unsupported operand type(s) for /: 'NoneType' and 'float'"
     ]
    },
    {
     "ename": "TypeError",
     "evalue": "unsupported operand type(s) for /: 'NoneType' and 'float'",
     "output_type": "error",
     "traceback": [
      "\u001b[1;31m---------------------------------------------------------------------------\u001b[0m",
      "\u001b[1;31mTypeError\u001b[0m                                 Traceback (most recent call last)",
      "\u001b[1;32m<expression>\u001b[0m in \u001b[0;36m<module>\u001b[1;34m\u001b[0m\n",
      "\u001b[1;31mTypeError\u001b[0m: unsupported operand type(s) for /: 'NoneType' and 'float'"
     ]
    },
    {
     "ename": "TypeError",
     "evalue": "unsupported operand type(s) for /: 'NoneType' and 'float'",
     "output_type": "error",
     "traceback": [
      "\u001b[1;31m---------------------------------------------------------------------------\u001b[0m",
      "\u001b[1;31mTypeError\u001b[0m                                 Traceback (most recent call last)",
      "\u001b[1;32m<expression>\u001b[0m in \u001b[0;36m<module>\u001b[1;34m\u001b[0m\n",
      "\u001b[1;31mTypeError\u001b[0m: unsupported operand type(s) for /: 'NoneType' and 'float'"
     ]
    },
    {
     "ename": "TypeError",
     "evalue": "unsupported operand type(s) for /: 'NoneType' and 'float'",
     "output_type": "error",
     "traceback": [
      "\u001b[1;31m---------------------------------------------------------------------------\u001b[0m",
      "\u001b[1;31mTypeError\u001b[0m                                 Traceback (most recent call last)",
      "\u001b[1;32m<expression>\u001b[0m in \u001b[0;36m<module>\u001b[1;34m\u001b[0m\n",
      "\u001b[1;31mTypeError\u001b[0m: unsupported operand type(s) for /: 'NoneType' and 'float'"
     ]
    },
    {
     "ename": "TypeError",
     "evalue": "unsupported operand type(s) for /: 'NoneType' and 'float'",
     "output_type": "error",
     "traceback": [
      "\u001b[1;31m---------------------------------------------------------------------------\u001b[0m",
      "\u001b[1;31mTypeError\u001b[0m                                 Traceback (most recent call last)",
      "\u001b[1;32m<expression>\u001b[0m in \u001b[0;36m<module>\u001b[1;34m\u001b[0m\n",
      "\u001b[1;31mTypeError\u001b[0m: unsupported operand type(s) for /: 'NoneType' and 'float'"
     ]
    },
    {
     "ename": "TypeError",
     "evalue": "unsupported operand type(s) for /: 'NoneType' and 'float'",
     "output_type": "error",
     "traceback": [
      "\u001b[1;31m---------------------------------------------------------------------------\u001b[0m",
      "\u001b[1;31mTypeError\u001b[0m                                 Traceback (most recent call last)",
      "\u001b[1;32m<expression>\u001b[0m in \u001b[0;36m<module>\u001b[1;34m\u001b[0m\n",
      "\u001b[1;31mTypeError\u001b[0m: unsupported operand type(s) for /: 'NoneType' and 'float'"
     ]
    },
    {
     "ename": "TypeError",
     "evalue": "unsupported operand type(s) for /: 'NoneType' and 'float'",
     "output_type": "error",
     "traceback": [
      "\u001b[1;31m---------------------------------------------------------------------------\u001b[0m",
      "\u001b[1;31mTypeError\u001b[0m                                 Traceback (most recent call last)",
      "\u001b[1;32m<expression>\u001b[0m in \u001b[0;36m<module>\u001b[1;34m\u001b[0m\n",
      "\u001b[1;31mTypeError\u001b[0m: unsupported operand type(s) for /: 'NoneType' and 'float'"
     ]
    },
    {
     "ename": "TypeError",
     "evalue": "unsupported operand type(s) for /: 'NoneType' and 'float'",
     "output_type": "error",
     "traceback": [
      "\u001b[1;31m---------------------------------------------------------------------------\u001b[0m",
      "\u001b[1;31mTypeError\u001b[0m                                 Traceback (most recent call last)",
      "\u001b[1;32m<expression>\u001b[0m in \u001b[0;36m<module>\u001b[1;34m\u001b[0m\n",
      "\u001b[1;31mTypeError\u001b[0m: unsupported operand type(s) for /: 'NoneType' and 'float'"
     ]
    },
    {
     "ename": "TypeError",
     "evalue": "unsupported operand type(s) for /: 'NoneType' and 'float'",
     "output_type": "error",
     "traceback": [
      "\u001b[1;31m---------------------------------------------------------------------------\u001b[0m",
      "\u001b[1;31mTypeError\u001b[0m                                 Traceback (most recent call last)",
      "\u001b[1;32m<expression>\u001b[0m in \u001b[0;36m<module>\u001b[1;34m\u001b[0m\n",
      "\u001b[1;31mTypeError\u001b[0m: unsupported operand type(s) for /: 'NoneType' and 'float'"
     ]
    },
    {
     "ename": "TypeError",
     "evalue": "unsupported operand type(s) for /: 'NoneType' and 'float'",
     "output_type": "error",
     "traceback": [
      "\u001b[1;31m---------------------------------------------------------------------------\u001b[0m",
      "\u001b[1;31mTypeError\u001b[0m                                 Traceback (most recent call last)",
      "\u001b[1;32m<expression>\u001b[0m in \u001b[0;36m<module>\u001b[1;34m\u001b[0m\n",
      "\u001b[1;31mTypeError\u001b[0m: unsupported operand type(s) for /: 'NoneType' and 'float'"
     ]
    },
    {
     "ename": "TypeError",
     "evalue": "unsupported operand type(s) for /: 'NoneType' and 'float'",
     "output_type": "error",
     "traceback": [
      "\u001b[1;31m---------------------------------------------------------------------------\u001b[0m",
      "\u001b[1;31mTypeError\u001b[0m                                 Traceback (most recent call last)",
      "\u001b[1;32m<expression>\u001b[0m in \u001b[0;36m<module>\u001b[1;34m\u001b[0m\n",
      "\u001b[1;31mTypeError\u001b[0m: unsupported operand type(s) for /: 'NoneType' and 'float'"
     ]
    },
    {
     "ename": "TypeError",
     "evalue": "unsupported operand type(s) for /: 'NoneType' and 'float'",
     "output_type": "error",
     "traceback": [
      "\u001b[1;31m---------------------------------------------------------------------------\u001b[0m",
      "\u001b[1;31mTypeError\u001b[0m                                 Traceback (most recent call last)",
      "\u001b[1;32m<expression>\u001b[0m in \u001b[0;36m<module>\u001b[1;34m\u001b[0m\n",
      "\u001b[1;31mTypeError\u001b[0m: unsupported operand type(s) for /: 'NoneType' and 'float'"
     ]
    },
    {
     "ename": "TypeError",
     "evalue": "unsupported operand type(s) for /: 'NoneType' and 'float'",
     "output_type": "error",
     "traceback": [
      "\u001b[1;31m---------------------------------------------------------------------------\u001b[0m",
      "\u001b[1;31mTypeError\u001b[0m                                 Traceback (most recent call last)",
      "\u001b[1;32m<expression>\u001b[0m in \u001b[0;36m<module>\u001b[1;34m\u001b[0m\n",
      "\u001b[1;31mTypeError\u001b[0m: unsupported operand type(s) for /: 'NoneType' and 'float'"
     ]
    },
    {
     "ename": "TypeError",
     "evalue": "unsupported operand type(s) for /: 'NoneType' and 'float'",
     "output_type": "error",
     "traceback": [
      "\u001b[1;31m---------------------------------------------------------------------------\u001b[0m",
      "\u001b[1;31mTypeError\u001b[0m                                 Traceback (most recent call last)",
      "\u001b[1;32m<expression>\u001b[0m in \u001b[0;36m<module>\u001b[1;34m\u001b[0m\n",
      "\u001b[1;31mTypeError\u001b[0m: unsupported operand type(s) for /: 'NoneType' and 'float'"
     ]
    },
    {
     "ename": "TypeError",
     "evalue": "unsupported operand type(s) for /: 'NoneType' and 'float'",
     "output_type": "error",
     "traceback": [
      "\u001b[1;31m---------------------------------------------------------------------------\u001b[0m",
      "\u001b[1;31mTypeError\u001b[0m                                 Traceback (most recent call last)",
      "\u001b[1;32m<expression>\u001b[0m in \u001b[0;36m<module>\u001b[1;34m\u001b[0m\n",
      "\u001b[1;31mTypeError\u001b[0m: unsupported operand type(s) for /: 'NoneType' and 'float'"
     ]
    },
    {
     "ename": "TypeError",
     "evalue": "unsupported operand type(s) for /: 'NoneType' and 'float'",
     "output_type": "error",
     "traceback": [
      "\u001b[1;31m---------------------------------------------------------------------------\u001b[0m",
      "\u001b[1;31mTypeError\u001b[0m                                 Traceback (most recent call last)",
      "\u001b[1;32m<expression>\u001b[0m in \u001b[0;36m<module>\u001b[1;34m\u001b[0m\n",
      "\u001b[1;31mTypeError\u001b[0m: unsupported operand type(s) for /: 'NoneType' and 'float'"
     ]
    },
    {
     "ename": "TypeError",
     "evalue": "unsupported operand type(s) for /: 'NoneType' and 'float'",
     "output_type": "error",
     "traceback": [
      "\u001b[1;31m---------------------------------------------------------------------------\u001b[0m",
      "\u001b[1;31mTypeError\u001b[0m                                 Traceback (most recent call last)",
      "\u001b[1;32m<expression>\u001b[0m in \u001b[0;36m<module>\u001b[1;34m\u001b[0m\n",
      "\u001b[1;31mTypeError\u001b[0m: unsupported operand type(s) for /: 'NoneType' and 'float'"
     ]
    },
    {
     "ename": "TypeError",
     "evalue": "unsupported operand type(s) for /: 'NoneType' and 'float'",
     "output_type": "error",
     "traceback": [
      "\u001b[1;31m---------------------------------------------------------------------------\u001b[0m",
      "\u001b[1;31mTypeError\u001b[0m                                 Traceback (most recent call last)",
      "\u001b[1;32m<expression>\u001b[0m in \u001b[0;36m<module>\u001b[1;34m\u001b[0m\n",
      "\u001b[1;31mTypeError\u001b[0m: unsupported operand type(s) for /: 'NoneType' and 'float'"
     ]
    },
    {
     "ename": "TypeError",
     "evalue": "unsupported operand type(s) for /: 'NoneType' and 'float'",
     "output_type": "error",
     "traceback": [
      "\u001b[1;31m---------------------------------------------------------------------------\u001b[0m",
      "\u001b[1;31mTypeError\u001b[0m                                 Traceback (most recent call last)",
      "\u001b[1;32m<expression>\u001b[0m in \u001b[0;36m<module>\u001b[1;34m\u001b[0m\n",
      "\u001b[1;31mTypeError\u001b[0m: unsupported operand type(s) for /: 'NoneType' and 'float'"
     ]
    },
    {
     "ename": "TypeError",
     "evalue": "unsupported operand type(s) for /: 'NoneType' and 'float'",
     "output_type": "error",
     "traceback": [
      "\u001b[1;31m---------------------------------------------------------------------------\u001b[0m",
      "\u001b[1;31mTypeError\u001b[0m                                 Traceback (most recent call last)",
      "\u001b[1;32m<expression>\u001b[0m in \u001b[0;36m<module>\u001b[1;34m\u001b[0m\n",
      "\u001b[1;31mTypeError\u001b[0m: unsupported operand type(s) for /: 'NoneType' and 'float'"
     ]
    },
    {
     "ename": "TypeError",
     "evalue": "unsupported operand type(s) for /: 'NoneType' and 'float'",
     "output_type": "error",
     "traceback": [
      "\u001b[1;31m---------------------------------------------------------------------------\u001b[0m",
      "\u001b[1;31mTypeError\u001b[0m                                 Traceback (most recent call last)",
      "\u001b[1;32m<expression>\u001b[0m in \u001b[0;36m<module>\u001b[1;34m\u001b[0m\n",
      "\u001b[1;31mTypeError\u001b[0m: unsupported operand type(s) for /: 'NoneType' and 'float'"
     ]
    },
    {
     "ename": "TypeError",
     "evalue": "unsupported operand type(s) for /: 'NoneType' and 'float'",
     "output_type": "error",
     "traceback": [
      "\u001b[1;31m---------------------------------------------------------------------------\u001b[0m",
      "\u001b[1;31mTypeError\u001b[0m                                 Traceback (most recent call last)",
      "\u001b[1;32m<expression>\u001b[0m in \u001b[0;36m<module>\u001b[1;34m\u001b[0m\n",
      "\u001b[1;31mTypeError\u001b[0m: unsupported operand type(s) for /: 'NoneType' and 'float'"
     ]
    },
    {
     "ename": "TypeError",
     "evalue": "unsupported operand type(s) for /: 'NoneType' and 'float'",
     "output_type": "error",
     "traceback": [
      "\u001b[1;31m---------------------------------------------------------------------------\u001b[0m",
      "\u001b[1;31mTypeError\u001b[0m                                 Traceback (most recent call last)",
      "\u001b[1;32m<expression>\u001b[0m in \u001b[0;36m<module>\u001b[1;34m\u001b[0m\n",
      "\u001b[1;31mTypeError\u001b[0m: unsupported operand type(s) for /: 'NoneType' and 'float'"
     ]
    },
    {
     "ename": "TypeError",
     "evalue": "unsupported operand type(s) for /: 'NoneType' and 'float'",
     "output_type": "error",
     "traceback": [
      "\u001b[1;31m---------------------------------------------------------------------------\u001b[0m",
      "\u001b[1;31mTypeError\u001b[0m                                 Traceback (most recent call last)",
      "\u001b[1;32m<expression>\u001b[0m in \u001b[0;36m<module>\u001b[1;34m\u001b[0m\n",
      "\u001b[1;31mTypeError\u001b[0m: unsupported operand type(s) for /: 'NoneType' and 'float'"
     ]
    },
    {
     "ename": "TypeError",
     "evalue": "unsupported operand type(s) for /: 'NoneType' and 'float'",
     "output_type": "error",
     "traceback": [
      "\u001b[1;31m---------------------------------------------------------------------------\u001b[0m",
      "\u001b[1;31mTypeError\u001b[0m                                 Traceback (most recent call last)",
      "\u001b[1;32m<expression>\u001b[0m in \u001b[0;36m<module>\u001b[1;34m\u001b[0m\n",
      "\u001b[1;31mTypeError\u001b[0m: unsupported operand type(s) for /: 'NoneType' and 'float'"
     ]
    },
    {
     "ename": "TypeError",
     "evalue": "unsupported operand type(s) for /: 'NoneType' and 'float'",
     "output_type": "error",
     "traceback": [
      "\u001b[1;31m---------------------------------------------------------------------------\u001b[0m",
      "\u001b[1;31mTypeError\u001b[0m                                 Traceback (most recent call last)",
      "\u001b[1;32m<expression>\u001b[0m in \u001b[0;36m<module>\u001b[1;34m\u001b[0m\n",
      "\u001b[1;31mTypeError\u001b[0m: unsupported operand type(s) for /: 'NoneType' and 'float'"
     ]
    },
    {
     "ename": "TypeError",
     "evalue": "unsupported operand type(s) for /: 'NoneType' and 'float'",
     "output_type": "error",
     "traceback": [
      "\u001b[1;31m---------------------------------------------------------------------------\u001b[0m",
      "\u001b[1;31mTypeError\u001b[0m                                 Traceback (most recent call last)",
      "\u001b[1;32m<expression>\u001b[0m in \u001b[0;36m<module>\u001b[1;34m\u001b[0m\n",
      "\u001b[1;31mTypeError\u001b[0m: unsupported operand type(s) for /: 'NoneType' and 'float'"
     ]
    },
    {
     "ename": "TypeError",
     "evalue": "unsupported operand type(s) for /: 'NoneType' and 'float'",
     "output_type": "error",
     "traceback": [
      "\u001b[1;31m---------------------------------------------------------------------------\u001b[0m",
      "\u001b[1;31mTypeError\u001b[0m                                 Traceback (most recent call last)",
      "\u001b[1;32m<expression>\u001b[0m in \u001b[0;36m<module>\u001b[1;34m\u001b[0m\n",
      "\u001b[1;31mTypeError\u001b[0m: unsupported operand type(s) for /: 'NoneType' and 'float'"
     ]
    },
    {
     "ename": "TypeError",
     "evalue": "unsupported operand type(s) for /: 'NoneType' and 'float'",
     "output_type": "error",
     "traceback": [
      "\u001b[1;31m---------------------------------------------------------------------------\u001b[0m",
      "\u001b[1;31mTypeError\u001b[0m                                 Traceback (most recent call last)",
      "\u001b[1;32m<expression>\u001b[0m in \u001b[0;36m<module>\u001b[1;34m\u001b[0m\n",
      "\u001b[1;31mTypeError\u001b[0m: unsupported operand type(s) for /: 'NoneType' and 'float'"
     ]
    },
    {
     "ename": "TypeError",
     "evalue": "unsupported operand type(s) for /: 'NoneType' and 'float'",
     "output_type": "error",
     "traceback": [
      "\u001b[1;31m---------------------------------------------------------------------------\u001b[0m",
      "\u001b[1;31mTypeError\u001b[0m                                 Traceback (most recent call last)",
      "\u001b[1;32m<expression>\u001b[0m in \u001b[0;36m<module>\u001b[1;34m\u001b[0m\n",
      "\u001b[1;31mTypeError\u001b[0m: unsupported operand type(s) for /: 'NoneType' and 'float'"
     ]
    },
    {
     "ename": "TypeError",
     "evalue": "unsupported operand type(s) for /: 'NoneType' and 'float'",
     "output_type": "error",
     "traceback": [
      "\u001b[1;31m---------------------------------------------------------------------------\u001b[0m",
      "\u001b[1;31mTypeError\u001b[0m                                 Traceback (most recent call last)",
      "\u001b[1;32m<expression>\u001b[0m in \u001b[0;36m<module>\u001b[1;34m\u001b[0m\n",
      "\u001b[1;31mTypeError\u001b[0m: unsupported operand type(s) for /: 'NoneType' and 'float'"
     ]
    },
    {
     "ename": "TypeError",
     "evalue": "unsupported operand type(s) for /: 'NoneType' and 'float'",
     "output_type": "error",
     "traceback": [
      "\u001b[1;31m---------------------------------------------------------------------------\u001b[0m",
      "\u001b[1;31mTypeError\u001b[0m                                 Traceback (most recent call last)",
      "\u001b[1;32m<expression>\u001b[0m in \u001b[0;36m<module>\u001b[1;34m\u001b[0m\n",
      "\u001b[1;31mTypeError\u001b[0m: unsupported operand type(s) for /: 'NoneType' and 'float'"
     ]
    },
    {
     "ename": "TypeError",
     "evalue": "unsupported operand type(s) for /: 'NoneType' and 'float'",
     "output_type": "error",
     "traceback": [
      "\u001b[1;31m---------------------------------------------------------------------------\u001b[0m",
      "\u001b[1;31mTypeError\u001b[0m                                 Traceback (most recent call last)",
      "\u001b[1;32m<expression>\u001b[0m in \u001b[0;36m<module>\u001b[1;34m\u001b[0m\n",
      "\u001b[1;31mTypeError\u001b[0m: unsupported operand type(s) for /: 'NoneType' and 'float'"
     ]
    },
    {
     "ename": "TypeError",
     "evalue": "unsupported operand type(s) for /: 'NoneType' and 'float'",
     "output_type": "error",
     "traceback": [
      "\u001b[1;31m---------------------------------------------------------------------------\u001b[0m",
      "\u001b[1;31mTypeError\u001b[0m                                 Traceback (most recent call last)",
      "\u001b[1;32m<expression>\u001b[0m in \u001b[0;36m<module>\u001b[1;34m\u001b[0m\n",
      "\u001b[1;31mTypeError\u001b[0m: unsupported operand type(s) for /: 'NoneType' and 'float'"
     ]
    },
    {
     "ename": "TypeError",
     "evalue": "unsupported operand type(s) for /: 'NoneType' and 'float'",
     "output_type": "error",
     "traceback": [
      "\u001b[1;31m---------------------------------------------------------------------------\u001b[0m",
      "\u001b[1;31mTypeError\u001b[0m                                 Traceback (most recent call last)",
      "\u001b[1;32m<expression>\u001b[0m in \u001b[0;36m<module>\u001b[1;34m\u001b[0m\n",
      "\u001b[1;31mTypeError\u001b[0m: unsupported operand type(s) for /: 'NoneType' and 'float'"
     ]
    },
    {
     "ename": "TypeError",
     "evalue": "unsupported operand type(s) for /: 'NoneType' and 'float'",
     "output_type": "error",
     "traceback": [
      "\u001b[1;31m---------------------------------------------------------------------------\u001b[0m",
      "\u001b[1;31mTypeError\u001b[0m                                 Traceback (most recent call last)",
      "\u001b[1;32m<expression>\u001b[0m in \u001b[0;36m<module>\u001b[1;34m\u001b[0m\n",
      "\u001b[1;31mTypeError\u001b[0m: unsupported operand type(s) for /: 'NoneType' and 'float'"
     ]
    },
    {
     "ename": "TypeError",
     "evalue": "unsupported operand type(s) for /: 'NoneType' and 'float'",
     "output_type": "error",
     "traceback": [
      "\u001b[1;31m---------------------------------------------------------------------------\u001b[0m",
      "\u001b[1;31mTypeError\u001b[0m                                 Traceback (most recent call last)",
      "\u001b[1;32m<expression>\u001b[0m in \u001b[0;36m<module>\u001b[1;34m\u001b[0m\n",
      "\u001b[1;31mTypeError\u001b[0m: unsupported operand type(s) for /: 'NoneType' and 'float'"
     ]
    },
    {
     "ename": "TypeError",
     "evalue": "unsupported operand type(s) for /: 'NoneType' and 'float'",
     "output_type": "error",
     "traceback": [
      "\u001b[1;31m---------------------------------------------------------------------------\u001b[0m",
      "\u001b[1;31mTypeError\u001b[0m                                 Traceback (most recent call last)",
      "\u001b[1;32m<expression>\u001b[0m in \u001b[0;36m<module>\u001b[1;34m\u001b[0m\n",
      "\u001b[1;31mTypeError\u001b[0m: unsupported operand type(s) for /: 'NoneType' and 'float'"
     ]
    },
    {
     "ename": "TypeError",
     "evalue": "unsupported operand type(s) for /: 'NoneType' and 'float'",
     "output_type": "error",
     "traceback": [
      "\u001b[1;31m---------------------------------------------------------------------------\u001b[0m",
      "\u001b[1;31mTypeError\u001b[0m                                 Traceback (most recent call last)",
      "\u001b[1;32m<expression>\u001b[0m in \u001b[0;36m<module>\u001b[1;34m\u001b[0m\n",
      "\u001b[1;31mTypeError\u001b[0m: unsupported operand type(s) for /: 'NoneType' and 'float'"
     ]
    },
    {
     "ename": "TypeError",
     "evalue": "unsupported operand type(s) for /: 'NoneType' and 'float'",
     "output_type": "error",
     "traceback": [
      "\u001b[1;31m---------------------------------------------------------------------------\u001b[0m",
      "\u001b[1;31mTypeError\u001b[0m                                 Traceback (most recent call last)",
      "\u001b[1;32m<expression>\u001b[0m in \u001b[0;36m<module>\u001b[1;34m\u001b[0m\n",
      "\u001b[1;31mTypeError\u001b[0m: unsupported operand type(s) for /: 'NoneType' and 'float'"
     ]
    },
    {
     "ename": "TypeError",
     "evalue": "unsupported operand type(s) for /: 'NoneType' and 'float'",
     "output_type": "error",
     "traceback": [
      "\u001b[1;31m---------------------------------------------------------------------------\u001b[0m",
      "\u001b[1;31mTypeError\u001b[0m                                 Traceback (most recent call last)",
      "\u001b[1;32m<expression>\u001b[0m in \u001b[0;36m<module>\u001b[1;34m\u001b[0m\n",
      "\u001b[1;31mTypeError\u001b[0m: unsupported operand type(s) for /: 'NoneType' and 'float'"
     ]
    },
    {
     "ename": "TypeError",
     "evalue": "unsupported operand type(s) for /: 'NoneType' and 'float'",
     "output_type": "error",
     "traceback": [
      "\u001b[1;31m---------------------------------------------------------------------------\u001b[0m",
      "\u001b[1;31mTypeError\u001b[0m                                 Traceback (most recent call last)",
      "\u001b[1;32m<expression>\u001b[0m in \u001b[0;36m<module>\u001b[1;34m\u001b[0m\n",
      "\u001b[1;31mTypeError\u001b[0m: unsupported operand type(s) for /: 'NoneType' and 'float'"
     ]
    },
    {
     "ename": "TypeError",
     "evalue": "unsupported operand type(s) for /: 'NoneType' and 'float'",
     "output_type": "error",
     "traceback": [
      "\u001b[1;31m---------------------------------------------------------------------------\u001b[0m",
      "\u001b[1;31mTypeError\u001b[0m                                 Traceback (most recent call last)",
      "\u001b[1;32m<expression>\u001b[0m in \u001b[0;36m<module>\u001b[1;34m\u001b[0m\n",
      "\u001b[1;31mTypeError\u001b[0m: unsupported operand type(s) for /: 'NoneType' and 'float'"
     ]
    },
    {
     "ename": "TypeError",
     "evalue": "unsupported operand type(s) for /: 'NoneType' and 'float'",
     "output_type": "error",
     "traceback": [
      "\u001b[1;31m---------------------------------------------------------------------------\u001b[0m",
      "\u001b[1;31mTypeError\u001b[0m                                 Traceback (most recent call last)",
      "\u001b[1;32m<expression>\u001b[0m in \u001b[0;36m<module>\u001b[1;34m\u001b[0m\n",
      "\u001b[1;31mTypeError\u001b[0m: unsupported operand type(s) for /: 'NoneType' and 'float'"
     ]
    },
    {
     "ename": "TypeError",
     "evalue": "unsupported operand type(s) for /: 'NoneType' and 'float'",
     "output_type": "error",
     "traceback": [
      "\u001b[1;31m---------------------------------------------------------------------------\u001b[0m",
      "\u001b[1;31mTypeError\u001b[0m                                 Traceback (most recent call last)",
      "\u001b[1;32m<expression>\u001b[0m in \u001b[0;36m<module>\u001b[1;34m\u001b[0m\n",
      "\u001b[1;31mTypeError\u001b[0m: unsupported operand type(s) for /: 'NoneType' and 'float'"
     ]
    },
    {
     "ename": "TypeError",
     "evalue": "unsupported operand type(s) for /: 'NoneType' and 'float'",
     "output_type": "error",
     "traceback": [
      "\u001b[1;31m---------------------------------------------------------------------------\u001b[0m",
      "\u001b[1;31mTypeError\u001b[0m                                 Traceback (most recent call last)",
      "\u001b[1;32m<expression>\u001b[0m in \u001b[0;36m<module>\u001b[1;34m\u001b[0m\n",
      "\u001b[1;31mTypeError\u001b[0m: unsupported operand type(s) for /: 'NoneType' and 'float'"
     ]
    },
    {
     "ename": "TypeError",
     "evalue": "unsupported operand type(s) for /: 'NoneType' and 'float'",
     "output_type": "error",
     "traceback": [
      "\u001b[1;31m---------------------------------------------------------------------------\u001b[0m",
      "\u001b[1;31mTypeError\u001b[0m                                 Traceback (most recent call last)",
      "\u001b[1;32m<expression>\u001b[0m in \u001b[0;36m<module>\u001b[1;34m\u001b[0m\n",
      "\u001b[1;31mTypeError\u001b[0m: unsupported operand type(s) for /: 'NoneType' and 'float'"
     ]
    },
    {
     "ename": "TypeError",
     "evalue": "unsupported operand type(s) for /: 'NoneType' and 'float'",
     "output_type": "error",
     "traceback": [
      "\u001b[1;31m---------------------------------------------------------------------------\u001b[0m",
      "\u001b[1;31mTypeError\u001b[0m                                 Traceback (most recent call last)",
      "\u001b[1;32m<expression>\u001b[0m in \u001b[0;36m<module>\u001b[1;34m\u001b[0m\n",
      "\u001b[1;31mTypeError\u001b[0m: unsupported operand type(s) for /: 'NoneType' and 'float'"
     ]
    },
    {
     "ename": "TypeError",
     "evalue": "unsupported operand type(s) for /: 'NoneType' and 'float'",
     "output_type": "error",
     "traceback": [
      "\u001b[1;31m---------------------------------------------------------------------------\u001b[0m",
      "\u001b[1;31mTypeError\u001b[0m                                 Traceback (most recent call last)",
      "\u001b[1;32m<expression>\u001b[0m in \u001b[0;36m<module>\u001b[1;34m\u001b[0m\n",
      "\u001b[1;31mTypeError\u001b[0m: unsupported operand type(s) for /: 'NoneType' and 'float'"
     ]
    },
    {
     "ename": "TypeError",
     "evalue": "unsupported operand type(s) for /: 'NoneType' and 'float'",
     "output_type": "error",
     "traceback": [
      "\u001b[1;31m---------------------------------------------------------------------------\u001b[0m",
      "\u001b[1;31mTypeError\u001b[0m                                 Traceback (most recent call last)",
      "\u001b[1;32m<expression>\u001b[0m in \u001b[0;36m<module>\u001b[1;34m\u001b[0m\n",
      "\u001b[1;31mTypeError\u001b[0m: unsupported operand type(s) for /: 'NoneType' and 'float'"
     ]
    },
    {
     "ename": "TypeError",
     "evalue": "unsupported operand type(s) for /: 'NoneType' and 'float'",
     "output_type": "error",
     "traceback": [
      "\u001b[1;31m---------------------------------------------------------------------------\u001b[0m",
      "\u001b[1;31mTypeError\u001b[0m                                 Traceback (most recent call last)",
      "\u001b[1;32m<expression>\u001b[0m in \u001b[0;36m<module>\u001b[1;34m\u001b[0m\n",
      "\u001b[1;31mTypeError\u001b[0m: unsupported operand type(s) for /: 'NoneType' and 'float'"
     ]
    },
    {
     "ename": "TypeError",
     "evalue": "unsupported operand type(s) for /: 'NoneType' and 'float'",
     "output_type": "error",
     "traceback": [
      "\u001b[1;31m---------------------------------------------------------------------------\u001b[0m",
      "\u001b[1;31mTypeError\u001b[0m                                 Traceback (most recent call last)",
      "\u001b[1;32m<expression>\u001b[0m in \u001b[0;36m<module>\u001b[1;34m\u001b[0m\n",
      "\u001b[1;31mTypeError\u001b[0m: unsupported operand type(s) for /: 'NoneType' and 'float'"
     ]
    },
    {
     "ename": "TypeError",
     "evalue": "unsupported operand type(s) for /: 'NoneType' and 'float'",
     "output_type": "error",
     "traceback": [
      "\u001b[1;31m---------------------------------------------------------------------------\u001b[0m",
      "\u001b[1;31mTypeError\u001b[0m                                 Traceback (most recent call last)",
      "\u001b[1;32m<expression>\u001b[0m in \u001b[0;36m<module>\u001b[1;34m\u001b[0m\n",
      "\u001b[1;31mTypeError\u001b[0m: unsupported operand type(s) for /: 'NoneType' and 'float'"
     ]
    },
    {
     "ename": "TypeError",
     "evalue": "unsupported operand type(s) for /: 'NoneType' and 'float'",
     "output_type": "error",
     "traceback": [
      "\u001b[1;31m---------------------------------------------------------------------------\u001b[0m",
      "\u001b[1;31mTypeError\u001b[0m                                 Traceback (most recent call last)",
      "\u001b[1;32m<expression>\u001b[0m in \u001b[0;36m<module>\u001b[1;34m\u001b[0m\n",
      "\u001b[1;31mTypeError\u001b[0m: unsupported operand type(s) for /: 'NoneType' and 'float'"
     ]
    },
    {
     "ename": "TypeError",
     "evalue": "unsupported operand type(s) for /: 'NoneType' and 'float'",
     "output_type": "error",
     "traceback": [
      "\u001b[1;31m---------------------------------------------------------------------------\u001b[0m",
      "\u001b[1;31mTypeError\u001b[0m                                 Traceback (most recent call last)",
      "\u001b[1;32m<expression>\u001b[0m in \u001b[0;36m<module>\u001b[1;34m\u001b[0m\n",
      "\u001b[1;31mTypeError\u001b[0m: unsupported operand type(s) for /: 'NoneType' and 'float'"
     ]
    },
    {
     "ename": "TypeError",
     "evalue": "unsupported operand type(s) for /: 'NoneType' and 'float'",
     "output_type": "error",
     "traceback": [
      "\u001b[1;31m---------------------------------------------------------------------------\u001b[0m",
      "\u001b[1;31mTypeError\u001b[0m                                 Traceback (most recent call last)",
      "\u001b[1;32m<expression>\u001b[0m in \u001b[0;36m<module>\u001b[1;34m\u001b[0m\n",
      "\u001b[1;31mTypeError\u001b[0m: unsupported operand type(s) for /: 'NoneType' and 'float'"
     ]
    },
    {
     "ename": "TypeError",
     "evalue": "unsupported operand type(s) for /: 'NoneType' and 'float'",
     "output_type": "error",
     "traceback": [
      "\u001b[1;31m---------------------------------------------------------------------------\u001b[0m",
      "\u001b[1;31mTypeError\u001b[0m                                 Traceback (most recent call last)",
      "\u001b[1;32m<expression>\u001b[0m in \u001b[0;36m<module>\u001b[1;34m\u001b[0m\n",
      "\u001b[1;31mTypeError\u001b[0m: unsupported operand type(s) for /: 'NoneType' and 'float'"
     ]
    },
    {
     "ename": "TypeError",
     "evalue": "unsupported operand type(s) for /: 'NoneType' and 'float'",
     "output_type": "error",
     "traceback": [
      "\u001b[1;31m---------------------------------------------------------------------------\u001b[0m",
      "\u001b[1;31mTypeError\u001b[0m                                 Traceback (most recent call last)",
      "\u001b[1;32m<expression>\u001b[0m in \u001b[0;36m<module>\u001b[1;34m\u001b[0m\n",
      "\u001b[1;31mTypeError\u001b[0m: unsupported operand type(s) for /: 'NoneType' and 'float'"
     ]
    },
    {
     "ename": "TypeError",
     "evalue": "unsupported operand type(s) for /: 'NoneType' and 'float'",
     "output_type": "error",
     "traceback": [
      "\u001b[1;31m---------------------------------------------------------------------------\u001b[0m",
      "\u001b[1;31mTypeError\u001b[0m                                 Traceback (most recent call last)",
      "\u001b[1;32m<expression>\u001b[0m in \u001b[0;36m<module>\u001b[1;34m\u001b[0m\n",
      "\u001b[1;31mTypeError\u001b[0m: unsupported operand type(s) for /: 'NoneType' and 'float'"
     ]
    },
    {
     "ename": "TypeError",
     "evalue": "unsupported operand type(s) for /: 'NoneType' and 'float'",
     "output_type": "error",
     "traceback": [
      "\u001b[1;31m---------------------------------------------------------------------------\u001b[0m",
      "\u001b[1;31mTypeError\u001b[0m                                 Traceback (most recent call last)",
      "\u001b[1;32m<expression>\u001b[0m in \u001b[0;36m<module>\u001b[1;34m\u001b[0m\n",
      "\u001b[1;31mTypeError\u001b[0m: unsupported operand type(s) for /: 'NoneType' and 'float'"
     ]
    },
    {
     "ename": "TypeError",
     "evalue": "unsupported operand type(s) for /: 'NoneType' and 'float'",
     "output_type": "error",
     "traceback": [
      "\u001b[1;31m---------------------------------------------------------------------------\u001b[0m",
      "\u001b[1;31mTypeError\u001b[0m                                 Traceback (most recent call last)",
      "\u001b[1;32m<expression>\u001b[0m in \u001b[0;36m<module>\u001b[1;34m\u001b[0m\n",
      "\u001b[1;31mTypeError\u001b[0m: unsupported operand type(s) for /: 'NoneType' and 'float'"
     ]
    },
    {
     "ename": "TypeError",
     "evalue": "unsupported operand type(s) for /: 'NoneType' and 'float'",
     "output_type": "error",
     "traceback": [
      "\u001b[1;31m---------------------------------------------------------------------------\u001b[0m",
      "\u001b[1;31mTypeError\u001b[0m                                 Traceback (most recent call last)",
      "\u001b[1;32m<expression>\u001b[0m in \u001b[0;36m<module>\u001b[1;34m\u001b[0m\n",
      "\u001b[1;31mTypeError\u001b[0m: unsupported operand type(s) for /: 'NoneType' and 'float'"
     ]
    },
    {
     "ename": "TypeError",
     "evalue": "unsupported operand type(s) for /: 'NoneType' and 'float'",
     "output_type": "error",
     "traceback": [
      "\u001b[1;31m---------------------------------------------------------------------------\u001b[0m",
      "\u001b[1;31mTypeError\u001b[0m                                 Traceback (most recent call last)",
      "\u001b[1;32m<expression>\u001b[0m in \u001b[0;36m<module>\u001b[1;34m\u001b[0m\n",
      "\u001b[1;31mTypeError\u001b[0m: unsupported operand type(s) for /: 'NoneType' and 'float'"
     ]
    },
    {
     "ename": "TypeError",
     "evalue": "unsupported operand type(s) for /: 'NoneType' and 'float'",
     "output_type": "error",
     "traceback": [
      "\u001b[1;31m---------------------------------------------------------------------------\u001b[0m",
      "\u001b[1;31mTypeError\u001b[0m                                 Traceback (most recent call last)",
      "\u001b[1;32m<expression>\u001b[0m in \u001b[0;36m<module>\u001b[1;34m\u001b[0m\n",
      "\u001b[1;31mTypeError\u001b[0m: unsupported operand type(s) for /: 'NoneType' and 'float'"
     ]
    },
    {
     "ename": "TypeError",
     "evalue": "unsupported operand type(s) for /: 'NoneType' and 'float'",
     "output_type": "error",
     "traceback": [
      "\u001b[1;31m---------------------------------------------------------------------------\u001b[0m",
      "\u001b[1;31mTypeError\u001b[0m                                 Traceback (most recent call last)",
      "\u001b[1;32m<expression>\u001b[0m in \u001b[0;36m<module>\u001b[1;34m\u001b[0m\n",
      "\u001b[1;31mTypeError\u001b[0m: unsupported operand type(s) for /: 'NoneType' and 'float'"
     ]
    },
    {
     "ename": "TypeError",
     "evalue": "unsupported operand type(s) for /: 'NoneType' and 'float'",
     "output_type": "error",
     "traceback": [
      "\u001b[1;31m---------------------------------------------------------------------------\u001b[0m",
      "\u001b[1;31mTypeError\u001b[0m                                 Traceback (most recent call last)",
      "\u001b[1;32m<expression>\u001b[0m in \u001b[0;36m<module>\u001b[1;34m\u001b[0m\n",
      "\u001b[1;31mTypeError\u001b[0m: unsupported operand type(s) for /: 'NoneType' and 'float'"
     ]
    },
    {
     "ename": "TypeError",
     "evalue": "unsupported operand type(s) for /: 'NoneType' and 'float'",
     "output_type": "error",
     "traceback": [
      "\u001b[1;31m---------------------------------------------------------------------------\u001b[0m",
      "\u001b[1;31mTypeError\u001b[0m                                 Traceback (most recent call last)",
      "\u001b[1;32m<expression>\u001b[0m in \u001b[0;36m<module>\u001b[1;34m\u001b[0m\n",
      "\u001b[1;31mTypeError\u001b[0m: unsupported operand type(s) for /: 'NoneType' and 'float'"
     ]
    },
    {
     "ename": "TypeError",
     "evalue": "unsupported operand type(s) for /: 'NoneType' and 'float'",
     "output_type": "error",
     "traceback": [
      "\u001b[1;31m---------------------------------------------------------------------------\u001b[0m",
      "\u001b[1;31mTypeError\u001b[0m                                 Traceback (most recent call last)",
      "\u001b[1;32m<expression>\u001b[0m in \u001b[0;36m<module>\u001b[1;34m\u001b[0m\n",
      "\u001b[1;31mTypeError\u001b[0m: unsupported operand type(s) for /: 'NoneType' and 'float'"
     ]
    },
    {
     "ename": "TypeError",
     "evalue": "unsupported operand type(s) for /: 'NoneType' and 'float'",
     "output_type": "error",
     "traceback": [
      "\u001b[1;31m---------------------------------------------------------------------------\u001b[0m",
      "\u001b[1;31mTypeError\u001b[0m                                 Traceback (most recent call last)",
      "\u001b[1;32m<expression>\u001b[0m in \u001b[0;36m<module>\u001b[1;34m\u001b[0m\n",
      "\u001b[1;31mTypeError\u001b[0m: unsupported operand type(s) for /: 'NoneType' and 'float'"
     ]
    },
    {
     "ename": "TypeError",
     "evalue": "unsupported operand type(s) for /: 'NoneType' and 'float'",
     "output_type": "error",
     "traceback": [
      "\u001b[1;31m---------------------------------------------------------------------------\u001b[0m",
      "\u001b[1;31mTypeError\u001b[0m                                 Traceback (most recent call last)",
      "\u001b[1;32m<expression>\u001b[0m in \u001b[0;36m<module>\u001b[1;34m\u001b[0m\n",
      "\u001b[1;31mTypeError\u001b[0m: unsupported operand type(s) for /: 'NoneType' and 'float'"
     ]
    },
    {
     "ename": "TypeError",
     "evalue": "unsupported operand type(s) for /: 'NoneType' and 'float'",
     "output_type": "error",
     "traceback": [
      "\u001b[1;31m---------------------------------------------------------------------------\u001b[0m",
      "\u001b[1;31mTypeError\u001b[0m                                 Traceback (most recent call last)",
      "\u001b[1;32m<expression>\u001b[0m in \u001b[0;36m<module>\u001b[1;34m\u001b[0m\n",
      "\u001b[1;31mTypeError\u001b[0m: unsupported operand type(s) for /: 'NoneType' and 'float'"
     ]
    },
    {
     "ename": "TypeError",
     "evalue": "unsupported operand type(s) for /: 'NoneType' and 'float'",
     "output_type": "error",
     "traceback": [
      "\u001b[1;31m---------------------------------------------------------------------------\u001b[0m",
      "\u001b[1;31mTypeError\u001b[0m                                 Traceback (most recent call last)",
      "\u001b[1;32m<expression>\u001b[0m in \u001b[0;36m<module>\u001b[1;34m\u001b[0m\n",
      "\u001b[1;31mTypeError\u001b[0m: unsupported operand type(s) for /: 'NoneType' and 'float'"
     ]
    },
    {
     "ename": "TypeError",
     "evalue": "unsupported operand type(s) for /: 'NoneType' and 'float'",
     "output_type": "error",
     "traceback": [
      "\u001b[1;31m---------------------------------------------------------------------------\u001b[0m",
      "\u001b[1;31mTypeError\u001b[0m                                 Traceback (most recent call last)",
      "\u001b[1;32m<expression>\u001b[0m in \u001b[0;36m<module>\u001b[1;34m\u001b[0m\n",
      "\u001b[1;31mTypeError\u001b[0m: unsupported operand type(s) for /: 'NoneType' and 'float'"
     ]
    },
    {
     "ename": "TypeError",
     "evalue": "unsupported operand type(s) for /: 'NoneType' and 'float'",
     "output_type": "error",
     "traceback": [
      "\u001b[1;31m---------------------------------------------------------------------------\u001b[0m",
      "\u001b[1;31mTypeError\u001b[0m                                 Traceback (most recent call last)",
      "\u001b[1;32m<expression>\u001b[0m in \u001b[0;36m<module>\u001b[1;34m\u001b[0m\n",
      "\u001b[1;31mTypeError\u001b[0m: unsupported operand type(s) for /: 'NoneType' and 'float'"
     ]
    },
    {
     "ename": "TypeError",
     "evalue": "unsupported operand type(s) for /: 'NoneType' and 'float'",
     "output_type": "error",
     "traceback": [
      "\u001b[1;31m---------------------------------------------------------------------------\u001b[0m",
      "\u001b[1;31mTypeError\u001b[0m                                 Traceback (most recent call last)",
      "\u001b[1;32m<expression>\u001b[0m in \u001b[0;36m<module>\u001b[1;34m\u001b[0m\n",
      "\u001b[1;31mTypeError\u001b[0m: unsupported operand type(s) for /: 'NoneType' and 'float'"
     ]
    },
    {
     "ename": "TypeError",
     "evalue": "unsupported operand type(s) for /: 'NoneType' and 'float'",
     "output_type": "error",
     "traceback": [
      "\u001b[1;31m---------------------------------------------------------------------------\u001b[0m",
      "\u001b[1;31mTypeError\u001b[0m                                 Traceback (most recent call last)",
      "\u001b[1;32m<expression>\u001b[0m in \u001b[0;36m<module>\u001b[1;34m\u001b[0m\n",
      "\u001b[1;31mTypeError\u001b[0m: unsupported operand type(s) for /: 'NoneType' and 'float'"
     ]
    },
    {
     "ename": "TypeError",
     "evalue": "unsupported operand type(s) for /: 'NoneType' and 'float'",
     "output_type": "error",
     "traceback": [
      "\u001b[1;31m---------------------------------------------------------------------------\u001b[0m",
      "\u001b[1;31mTypeError\u001b[0m                                 Traceback (most recent call last)",
      "\u001b[1;32m<expression>\u001b[0m in \u001b[0;36m<module>\u001b[1;34m\u001b[0m\n",
      "\u001b[1;31mTypeError\u001b[0m: unsupported operand type(s) for /: 'NoneType' and 'float'"
     ]
    },
    {
     "ename": "TypeError",
     "evalue": "unsupported operand type(s) for /: 'NoneType' and 'float'",
     "output_type": "error",
     "traceback": [
      "\u001b[1;31m---------------------------------------------------------------------------\u001b[0m",
      "\u001b[1;31mTypeError\u001b[0m                                 Traceback (most recent call last)",
      "\u001b[1;32m<expression>\u001b[0m in \u001b[0;36m<module>\u001b[1;34m\u001b[0m\n",
      "\u001b[1;31mTypeError\u001b[0m: unsupported operand type(s) for /: 'NoneType' and 'float'"
     ]
    },
    {
     "ename": "TypeError",
     "evalue": "unsupported operand type(s) for /: 'NoneType' and 'float'",
     "output_type": "error",
     "traceback": [
      "\u001b[1;31m---------------------------------------------------------------------------\u001b[0m",
      "\u001b[1;31mTypeError\u001b[0m                                 Traceback (most recent call last)",
      "\u001b[1;32m<expression>\u001b[0m in \u001b[0;36m<module>\u001b[1;34m\u001b[0m\n",
      "\u001b[1;31mTypeError\u001b[0m: unsupported operand type(s) for /: 'NoneType' and 'float'"
     ]
    },
    {
     "ename": "TypeError",
     "evalue": "unsupported operand type(s) for /: 'NoneType' and 'float'",
     "output_type": "error",
     "traceback": [
      "\u001b[1;31m---------------------------------------------------------------------------\u001b[0m",
      "\u001b[1;31mTypeError\u001b[0m                                 Traceback (most recent call last)",
      "\u001b[1;32m<expression>\u001b[0m in \u001b[0;36m<module>\u001b[1;34m\u001b[0m\n",
      "\u001b[1;31mTypeError\u001b[0m: unsupported operand type(s) for /: 'NoneType' and 'float'"
     ]
    },
    {
     "ename": "TypeError",
     "evalue": "unsupported operand type(s) for /: 'NoneType' and 'float'",
     "output_type": "error",
     "traceback": [
      "\u001b[1;31m---------------------------------------------------------------------------\u001b[0m",
      "\u001b[1;31mTypeError\u001b[0m                                 Traceback (most recent call last)",
      "\u001b[1;32m<expression>\u001b[0m in \u001b[0;36m<module>\u001b[1;34m\u001b[0m\n",
      "\u001b[1;31mTypeError\u001b[0m: unsupported operand type(s) for /: 'NoneType' and 'float'"
     ]
    },
    {
     "ename": "TypeError",
     "evalue": "unsupported operand type(s) for /: 'NoneType' and 'float'",
     "output_type": "error",
     "traceback": [
      "\u001b[1;31m---------------------------------------------------------------------------\u001b[0m",
      "\u001b[1;31mTypeError\u001b[0m                                 Traceback (most recent call last)",
      "\u001b[1;32m<expression>\u001b[0m in \u001b[0;36m<module>\u001b[1;34m\u001b[0m\n",
      "\u001b[1;31mTypeError\u001b[0m: unsupported operand type(s) for /: 'NoneType' and 'float'"
     ]
    },
    {
     "ename": "TypeError",
     "evalue": "unsupported operand type(s) for /: 'NoneType' and 'float'",
     "output_type": "error",
     "traceback": [
      "\u001b[1;31m---------------------------------------------------------------------------\u001b[0m",
      "\u001b[1;31mTypeError\u001b[0m                                 Traceback (most recent call last)",
      "\u001b[1;32m<expression>\u001b[0m in \u001b[0;36m<module>\u001b[1;34m\u001b[0m\n",
      "\u001b[1;31mTypeError\u001b[0m: unsupported operand type(s) for /: 'NoneType' and 'float'"
     ]
    },
    {
     "ename": "TypeError",
     "evalue": "unsupported operand type(s) for /: 'NoneType' and 'float'",
     "output_type": "error",
     "traceback": [
      "\u001b[1;31m---------------------------------------------------------------------------\u001b[0m",
      "\u001b[1;31mTypeError\u001b[0m                                 Traceback (most recent call last)",
      "\u001b[1;32m<expression>\u001b[0m in \u001b[0;36m<module>\u001b[1;34m\u001b[0m\n",
      "\u001b[1;31mTypeError\u001b[0m: unsupported operand type(s) for /: 'NoneType' and 'float'"
     ]
    },
    {
     "ename": "TypeError",
     "evalue": "unsupported operand type(s) for /: 'NoneType' and 'float'",
     "output_type": "error",
     "traceback": [
      "\u001b[1;31m---------------------------------------------------------------------------\u001b[0m",
      "\u001b[1;31mTypeError\u001b[0m                                 Traceback (most recent call last)",
      "\u001b[1;32m<expression>\u001b[0m in \u001b[0;36m<module>\u001b[1;34m\u001b[0m\n",
      "\u001b[1;31mTypeError\u001b[0m: unsupported operand type(s) for /: 'NoneType' and 'float'"
     ]
    },
    {
     "ename": "TypeError",
     "evalue": "unsupported operand type(s) for /: 'NoneType' and 'float'",
     "output_type": "error",
     "traceback": [
      "\u001b[1;31m---------------------------------------------------------------------------\u001b[0m",
      "\u001b[1;31mTypeError\u001b[0m                                 Traceback (most recent call last)",
      "\u001b[1;32m<expression>\u001b[0m in \u001b[0;36m<module>\u001b[1;34m\u001b[0m\n",
      "\u001b[1;31mTypeError\u001b[0m: unsupported operand type(s) for /: 'NoneType' and 'float'"
     ]
    },
    {
     "ename": "TypeError",
     "evalue": "unsupported operand type(s) for /: 'NoneType' and 'float'",
     "output_type": "error",
     "traceback": [
      "\u001b[1;31m---------------------------------------------------------------------------\u001b[0m",
      "\u001b[1;31mTypeError\u001b[0m                                 Traceback (most recent call last)",
      "\u001b[1;32m<expression>\u001b[0m in \u001b[0;36m<module>\u001b[1;34m\u001b[0m\n",
      "\u001b[1;31mTypeError\u001b[0m: unsupported operand type(s) for /: 'NoneType' and 'float'"
     ]
    },
    {
     "ename": "TypeError",
     "evalue": "unsupported operand type(s) for /: 'NoneType' and 'float'",
     "output_type": "error",
     "traceback": [
      "\u001b[1;31m---------------------------------------------------------------------------\u001b[0m",
      "\u001b[1;31mTypeError\u001b[0m                                 Traceback (most recent call last)",
      "\u001b[1;32m<expression>\u001b[0m in \u001b[0;36m<module>\u001b[1;34m\u001b[0m\n",
      "\u001b[1;31mTypeError\u001b[0m: unsupported operand type(s) for /: 'NoneType' and 'float'"
     ]
    },
    {
     "ename": "TypeError",
     "evalue": "unsupported operand type(s) for /: 'NoneType' and 'float'",
     "output_type": "error",
     "traceback": [
      "\u001b[1;31m---------------------------------------------------------------------------\u001b[0m",
      "\u001b[1;31mTypeError\u001b[0m                                 Traceback (most recent call last)",
      "\u001b[1;32m<expression>\u001b[0m in \u001b[0;36m<module>\u001b[1;34m\u001b[0m\n",
      "\u001b[1;31mTypeError\u001b[0m: unsupported operand type(s) for /: 'NoneType' and 'float'"
     ]
    },
    {
     "ename": "TypeError",
     "evalue": "unsupported operand type(s) for /: 'NoneType' and 'float'",
     "output_type": "error",
     "traceback": [
      "\u001b[1;31m---------------------------------------------------------------------------\u001b[0m",
      "\u001b[1;31mTypeError\u001b[0m                                 Traceback (most recent call last)",
      "\u001b[1;32m<expression>\u001b[0m in \u001b[0;36m<module>\u001b[1;34m\u001b[0m\n",
      "\u001b[1;31mTypeError\u001b[0m: unsupported operand type(s) for /: 'NoneType' and 'float'"
     ]
    },
    {
     "ename": "TypeError",
     "evalue": "unsupported operand type(s) for /: 'NoneType' and 'float'",
     "output_type": "error",
     "traceback": [
      "\u001b[1;31m---------------------------------------------------------------------------\u001b[0m",
      "\u001b[1;31mTypeError\u001b[0m                                 Traceback (most recent call last)",
      "\u001b[1;32m<expression>\u001b[0m in \u001b[0;36m<module>\u001b[1;34m\u001b[0m\n",
      "\u001b[1;31mTypeError\u001b[0m: unsupported operand type(s) for /: 'NoneType' and 'float'"
     ]
    },
    {
     "ename": "TypeError",
     "evalue": "unsupported operand type(s) for /: 'NoneType' and 'float'",
     "output_type": "error",
     "traceback": [
      "\u001b[1;31m---------------------------------------------------------------------------\u001b[0m",
      "\u001b[1;31mTypeError\u001b[0m                                 Traceback (most recent call last)",
      "\u001b[1;32m<expression>\u001b[0m in \u001b[0;36m<module>\u001b[1;34m\u001b[0m\n",
      "\u001b[1;31mTypeError\u001b[0m: unsupported operand type(s) for /: 'NoneType' and 'float'"
     ]
    },
    {
     "ename": "TypeError",
     "evalue": "unsupported operand type(s) for /: 'NoneType' and 'float'",
     "output_type": "error",
     "traceback": [
      "\u001b[1;31m---------------------------------------------------------------------------\u001b[0m",
      "\u001b[1;31mTypeError\u001b[0m                                 Traceback (most recent call last)",
      "\u001b[1;32m<expression>\u001b[0m in \u001b[0;36m<module>\u001b[1;34m\u001b[0m\n",
      "\u001b[1;31mTypeError\u001b[0m: unsupported operand type(s) for /: 'NoneType' and 'float'"
     ]
    },
    {
     "ename": "TypeError",
     "evalue": "unsupported operand type(s) for /: 'NoneType' and 'float'",
     "output_type": "error",
     "traceback": [
      "\u001b[1;31m---------------------------------------------------------------------------\u001b[0m",
      "\u001b[1;31mTypeError\u001b[0m                                 Traceback (most recent call last)",
      "\u001b[1;32m<expression>\u001b[0m in \u001b[0;36m<module>\u001b[1;34m\u001b[0m\n",
      "\u001b[1;31mTypeError\u001b[0m: unsupported operand type(s) for /: 'NoneType' and 'float'"
     ]
    },
    {
     "ename": "TypeError",
     "evalue": "unsupported operand type(s) for /: 'NoneType' and 'float'",
     "output_type": "error",
     "traceback": [
      "\u001b[1;31m---------------------------------------------------------------------------\u001b[0m",
      "\u001b[1;31mTypeError\u001b[0m                                 Traceback (most recent call last)",
      "\u001b[1;32m<expression>\u001b[0m in \u001b[0;36m<module>\u001b[1;34m\u001b[0m\n",
      "\u001b[1;31mTypeError\u001b[0m: unsupported operand type(s) for /: 'NoneType' and 'float'"
     ]
    },
    {
     "ename": "TypeError",
     "evalue": "unsupported operand type(s) for /: 'NoneType' and 'float'",
     "output_type": "error",
     "traceback": [
      "\u001b[1;31m---------------------------------------------------------------------------\u001b[0m",
      "\u001b[1;31mTypeError\u001b[0m                                 Traceback (most recent call last)",
      "\u001b[1;32m<expression>\u001b[0m in \u001b[0;36m<module>\u001b[1;34m\u001b[0m\n",
      "\u001b[1;31mTypeError\u001b[0m: unsupported operand type(s) for /: 'NoneType' and 'float'"
     ]
    },
    {
     "ename": "TypeError",
     "evalue": "unsupported operand type(s) for /: 'NoneType' and 'float'",
     "output_type": "error",
     "traceback": [
      "\u001b[1;31m---------------------------------------------------------------------------\u001b[0m",
      "\u001b[1;31mTypeError\u001b[0m                                 Traceback (most recent call last)",
      "\u001b[1;32m<expression>\u001b[0m in \u001b[0;36m<module>\u001b[1;34m\u001b[0m\n",
      "\u001b[1;31mTypeError\u001b[0m: unsupported operand type(s) for /: 'NoneType' and 'float'"
     ]
    },
    {
     "ename": "TypeError",
     "evalue": "unsupported operand type(s) for /: 'NoneType' and 'float'",
     "output_type": "error",
     "traceback": [
      "\u001b[1;31m---------------------------------------------------------------------------\u001b[0m",
      "\u001b[1;31mTypeError\u001b[0m                                 Traceback (most recent call last)",
      "\u001b[1;32m<expression>\u001b[0m in \u001b[0;36m<module>\u001b[1;34m\u001b[0m\n",
      "\u001b[1;31mTypeError\u001b[0m: unsupported operand type(s) for /: 'NoneType' and 'float'"
     ]
    },
    {
     "ename": "TypeError",
     "evalue": "unsupported operand type(s) for /: 'NoneType' and 'float'",
     "output_type": "error",
     "traceback": [
      "\u001b[1;31m---------------------------------------------------------------------------\u001b[0m",
      "\u001b[1;31mTypeError\u001b[0m                                 Traceback (most recent call last)",
      "\u001b[1;32m<expression>\u001b[0m in \u001b[0;36m<module>\u001b[1;34m\u001b[0m\n",
      "\u001b[1;31mTypeError\u001b[0m: unsupported operand type(s) for /: 'NoneType' and 'float'"
     ]
    },
    {
     "ename": "TypeError",
     "evalue": "unsupported operand type(s) for /: 'NoneType' and 'float'",
     "output_type": "error",
     "traceback": [
      "\u001b[1;31m---------------------------------------------------------------------------\u001b[0m",
      "\u001b[1;31mTypeError\u001b[0m                                 Traceback (most recent call last)",
      "\u001b[1;32m<expression>\u001b[0m in \u001b[0;36m<module>\u001b[1;34m\u001b[0m\n",
      "\u001b[1;31mTypeError\u001b[0m: unsupported operand type(s) for /: 'NoneType' and 'float'"
     ]
    },
    {
     "ename": "TypeError",
     "evalue": "unsupported operand type(s) for /: 'NoneType' and 'float'",
     "output_type": "error",
     "traceback": [
      "\u001b[1;31m---------------------------------------------------------------------------\u001b[0m",
      "\u001b[1;31mTypeError\u001b[0m                                 Traceback (most recent call last)",
      "\u001b[1;32m<expression>\u001b[0m in \u001b[0;36m<module>\u001b[1;34m\u001b[0m\n",
      "\u001b[1;31mTypeError\u001b[0m: unsupported operand type(s) for /: 'NoneType' and 'float'"
     ]
    },
    {
     "ename": "TypeError",
     "evalue": "unsupported operand type(s) for /: 'NoneType' and 'float'",
     "output_type": "error",
     "traceback": [
      "\u001b[1;31m---------------------------------------------------------------------------\u001b[0m",
      "\u001b[1;31mTypeError\u001b[0m                                 Traceback (most recent call last)",
      "\u001b[1;32m<expression>\u001b[0m in \u001b[0;36m<module>\u001b[1;34m\u001b[0m\n",
      "\u001b[1;31mTypeError\u001b[0m: unsupported operand type(s) for /: 'NoneType' and 'float'"
     ]
    },
    {
     "ename": "TypeError",
     "evalue": "unsupported operand type(s) for /: 'NoneType' and 'float'",
     "output_type": "error",
     "traceback": [
      "\u001b[1;31m---------------------------------------------------------------------------\u001b[0m",
      "\u001b[1;31mTypeError\u001b[0m                                 Traceback (most recent call last)",
      "\u001b[1;32m<expression>\u001b[0m in \u001b[0;36m<module>\u001b[1;34m\u001b[0m\n",
      "\u001b[1;31mTypeError\u001b[0m: unsupported operand type(s) for /: 'NoneType' and 'float'"
     ]
    },
    {
     "ename": "TypeError",
     "evalue": "unsupported operand type(s) for /: 'NoneType' and 'float'",
     "output_type": "error",
     "traceback": [
      "\u001b[1;31m---------------------------------------------------------------------------\u001b[0m",
      "\u001b[1;31mTypeError\u001b[0m                                 Traceback (most recent call last)",
      "\u001b[1;32m<expression>\u001b[0m in \u001b[0;36m<module>\u001b[1;34m\u001b[0m\n",
      "\u001b[1;31mTypeError\u001b[0m: unsupported operand type(s) for /: 'NoneType' and 'float'"
     ]
    },
    {
     "ename": "TypeError",
     "evalue": "unsupported operand type(s) for /: 'NoneType' and 'float'",
     "output_type": "error",
     "traceback": [
      "\u001b[1;31m---------------------------------------------------------------------------\u001b[0m",
      "\u001b[1;31mTypeError\u001b[0m                                 Traceback (most recent call last)",
      "\u001b[1;32m<expression>\u001b[0m in \u001b[0;36m<module>\u001b[1;34m\u001b[0m\n",
      "\u001b[1;31mTypeError\u001b[0m: unsupported operand type(s) for /: 'NoneType' and 'float'"
     ]
    },
    {
     "ename": "TypeError",
     "evalue": "unsupported operand type(s) for /: 'NoneType' and 'float'",
     "output_type": "error",
     "traceback": [
      "\u001b[1;31m---------------------------------------------------------------------------\u001b[0m",
      "\u001b[1;31mTypeError\u001b[0m                                 Traceback (most recent call last)",
      "\u001b[1;32m<expression>\u001b[0m in \u001b[0;36m<module>\u001b[1;34m\u001b[0m\n",
      "\u001b[1;31mTypeError\u001b[0m: unsupported operand type(s) for /: 'NoneType' and 'float'"
     ]
    },
    {
     "ename": "TypeError",
     "evalue": "unsupported operand type(s) for /: 'NoneType' and 'float'",
     "output_type": "error",
     "traceback": [
      "\u001b[1;31m---------------------------------------------------------------------------\u001b[0m",
      "\u001b[1;31mTypeError\u001b[0m                                 Traceback (most recent call last)",
      "\u001b[1;32m<expression>\u001b[0m in \u001b[0;36m<module>\u001b[1;34m\u001b[0m\n",
      "\u001b[1;31mTypeError\u001b[0m: unsupported operand type(s) for /: 'NoneType' and 'float'"
     ]
    },
    {
     "ename": "TypeError",
     "evalue": "unsupported operand type(s) for /: 'NoneType' and 'float'",
     "output_type": "error",
     "traceback": [
      "\u001b[1;31m---------------------------------------------------------------------------\u001b[0m",
      "\u001b[1;31mTypeError\u001b[0m                                 Traceback (most recent call last)",
      "\u001b[1;32m<expression>\u001b[0m in \u001b[0;36m<module>\u001b[1;34m\u001b[0m\n",
      "\u001b[1;31mTypeError\u001b[0m: unsupported operand type(s) for /: 'NoneType' and 'float'"
     ]
    },
    {
     "ename": "TypeError",
     "evalue": "unsupported operand type(s) for /: 'NoneType' and 'float'",
     "output_type": "error",
     "traceback": [
      "\u001b[1;31m---------------------------------------------------------------------------\u001b[0m",
      "\u001b[1;31mTypeError\u001b[0m                                 Traceback (most recent call last)",
      "\u001b[1;32m<expression>\u001b[0m in \u001b[0;36m<module>\u001b[1;34m\u001b[0m\n",
      "\u001b[1;31mTypeError\u001b[0m: unsupported operand type(s) for /: 'NoneType' and 'float'"
     ]
    },
    {
     "ename": "TypeError",
     "evalue": "unsupported operand type(s) for /: 'NoneType' and 'float'",
     "output_type": "error",
     "traceback": [
      "\u001b[1;31m---------------------------------------------------------------------------\u001b[0m",
      "\u001b[1;31mTypeError\u001b[0m                                 Traceback (most recent call last)",
      "\u001b[1;32m<expression>\u001b[0m in \u001b[0;36m<module>\u001b[1;34m\u001b[0m\n",
      "\u001b[1;31mTypeError\u001b[0m: unsupported operand type(s) for /: 'NoneType' and 'float'"
     ]
    },
    {
     "ename": "TypeError",
     "evalue": "unsupported operand type(s) for /: 'NoneType' and 'float'",
     "output_type": "error",
     "traceback": [
      "\u001b[1;31m---------------------------------------------------------------------------\u001b[0m",
      "\u001b[1;31mTypeError\u001b[0m                                 Traceback (most recent call last)",
      "\u001b[1;32m<expression>\u001b[0m in \u001b[0;36m<module>\u001b[1;34m\u001b[0m\n",
      "\u001b[1;31mTypeError\u001b[0m: unsupported operand type(s) for /: 'NoneType' and 'float'"
     ]
    },
    {
     "ename": "TypeError",
     "evalue": "unsupported operand type(s) for /: 'NoneType' and 'float'",
     "output_type": "error",
     "traceback": [
      "\u001b[1;31m---------------------------------------------------------------------------\u001b[0m",
      "\u001b[1;31mTypeError\u001b[0m                                 Traceback (most recent call last)",
      "\u001b[1;32m<expression>\u001b[0m in \u001b[0;36m<module>\u001b[1;34m\u001b[0m\n",
      "\u001b[1;31mTypeError\u001b[0m: unsupported operand type(s) for /: 'NoneType' and 'float'"
     ]
    },
    {
     "ename": "TypeError",
     "evalue": "unsupported operand type(s) for /: 'NoneType' and 'float'",
     "output_type": "error",
     "traceback": [
      "\u001b[1;31m---------------------------------------------------------------------------\u001b[0m",
      "\u001b[1;31mTypeError\u001b[0m                                 Traceback (most recent call last)",
      "\u001b[1;32m<expression>\u001b[0m in \u001b[0;36m<module>\u001b[1;34m\u001b[0m\n",
      "\u001b[1;31mTypeError\u001b[0m: unsupported operand type(s) for /: 'NoneType' and 'float'"
     ]
    },
    {
     "ename": "TypeError",
     "evalue": "unsupported operand type(s) for /: 'NoneType' and 'float'",
     "output_type": "error",
     "traceback": [
      "\u001b[1;31m---------------------------------------------------------------------------\u001b[0m",
      "\u001b[1;31mTypeError\u001b[0m                                 Traceback (most recent call last)",
      "\u001b[1;32m<expression>\u001b[0m in \u001b[0;36m<module>\u001b[1;34m\u001b[0m\n",
      "\u001b[1;31mTypeError\u001b[0m: unsupported operand type(s) for /: 'NoneType' and 'float'"
     ]
    },
    {
     "ename": "TypeError",
     "evalue": "unsupported operand type(s) for /: 'NoneType' and 'float'",
     "output_type": "error",
     "traceback": [
      "\u001b[1;31m---------------------------------------------------------------------------\u001b[0m",
      "\u001b[1;31mTypeError\u001b[0m                                 Traceback (most recent call last)",
      "\u001b[1;32m<expression>\u001b[0m in \u001b[0;36m<module>\u001b[1;34m\u001b[0m\n",
      "\u001b[1;31mTypeError\u001b[0m: unsupported operand type(s) for /: 'NoneType' and 'float'"
     ]
    },
    {
     "ename": "TypeError",
     "evalue": "unsupported operand type(s) for /: 'NoneType' and 'float'",
     "output_type": "error",
     "traceback": [
      "\u001b[1;31m---------------------------------------------------------------------------\u001b[0m",
      "\u001b[1;31mTypeError\u001b[0m                                 Traceback (most recent call last)",
      "\u001b[1;32m<expression>\u001b[0m in \u001b[0;36m<module>\u001b[1;34m\u001b[0m\n",
      "\u001b[1;31mTypeError\u001b[0m: unsupported operand type(s) for /: 'NoneType' and 'float'"
     ]
    },
    {
     "ename": "TypeError",
     "evalue": "unsupported operand type(s) for /: 'NoneType' and 'float'",
     "output_type": "error",
     "traceback": [
      "\u001b[1;31m---------------------------------------------------------------------------\u001b[0m",
      "\u001b[1;31mTypeError\u001b[0m                                 Traceback (most recent call last)",
      "\u001b[1;32m<expression>\u001b[0m in \u001b[0;36m<module>\u001b[1;34m\u001b[0m\n",
      "\u001b[1;31mTypeError\u001b[0m: unsupported operand type(s) for /: 'NoneType' and 'float'"
     ]
    },
    {
     "ename": "TypeError",
     "evalue": "unsupported operand type(s) for /: 'NoneType' and 'float'",
     "output_type": "error",
     "traceback": [
      "\u001b[1;31m---------------------------------------------------------------------------\u001b[0m",
      "\u001b[1;31mTypeError\u001b[0m                                 Traceback (most recent call last)",
      "\u001b[1;32m<expression>\u001b[0m in \u001b[0;36m<module>\u001b[1;34m\u001b[0m\n",
      "\u001b[1;31mTypeError\u001b[0m: unsupported operand type(s) for /: 'NoneType' and 'float'"
     ]
    },
    {
     "ename": "TypeError",
     "evalue": "unsupported operand type(s) for /: 'NoneType' and 'float'",
     "output_type": "error",
     "traceback": [
      "\u001b[1;31m---------------------------------------------------------------------------\u001b[0m",
      "\u001b[1;31mTypeError\u001b[0m                                 Traceback (most recent call last)",
      "\u001b[1;32m<expression>\u001b[0m in \u001b[0;36m<module>\u001b[1;34m\u001b[0m\n",
      "\u001b[1;31mTypeError\u001b[0m: unsupported operand type(s) for /: 'NoneType' and 'float'"
     ]
    },
    {
     "ename": "TypeError",
     "evalue": "unsupported operand type(s) for /: 'NoneType' and 'float'",
     "output_type": "error",
     "traceback": [
      "\u001b[1;31m---------------------------------------------------------------------------\u001b[0m",
      "\u001b[1;31mTypeError\u001b[0m                                 Traceback (most recent call last)",
      "\u001b[1;32m<expression>\u001b[0m in \u001b[0;36m<module>\u001b[1;34m\u001b[0m\n",
      "\u001b[1;31mTypeError\u001b[0m: unsupported operand type(s) for /: 'NoneType' and 'float'"
     ]
    },
    {
     "ename": "TypeError",
     "evalue": "unsupported operand type(s) for /: 'NoneType' and 'float'",
     "output_type": "error",
     "traceback": [
      "\u001b[1;31m---------------------------------------------------------------------------\u001b[0m",
      "\u001b[1;31mTypeError\u001b[0m                                 Traceback (most recent call last)",
      "\u001b[1;32m<expression>\u001b[0m in \u001b[0;36m<module>\u001b[1;34m\u001b[0m\n",
      "\u001b[1;31mTypeError\u001b[0m: unsupported operand type(s) for /: 'NoneType' and 'float'"
     ]
    },
    {
     "ename": "TypeError",
     "evalue": "unsupported operand type(s) for /: 'NoneType' and 'float'",
     "output_type": "error",
     "traceback": [
      "\u001b[1;31m---------------------------------------------------------------------------\u001b[0m",
      "\u001b[1;31mTypeError\u001b[0m                                 Traceback (most recent call last)",
      "\u001b[1;32m<expression>\u001b[0m in \u001b[0;36m<module>\u001b[1;34m\u001b[0m\n",
      "\u001b[1;31mTypeError\u001b[0m: unsupported operand type(s) for /: 'NoneType' and 'float'"
     ]
    },
    {
     "ename": "TypeError",
     "evalue": "unsupported operand type(s) for /: 'NoneType' and 'float'",
     "output_type": "error",
     "traceback": [
      "\u001b[1;31m---------------------------------------------------------------------------\u001b[0m",
      "\u001b[1;31mTypeError\u001b[0m                                 Traceback (most recent call last)",
      "\u001b[1;32m<expression>\u001b[0m in \u001b[0;36m<module>\u001b[1;34m\u001b[0m\n",
      "\u001b[1;31mTypeError\u001b[0m: unsupported operand type(s) for /: 'NoneType' and 'float'"
     ]
    },
    {
     "ename": "TypeError",
     "evalue": "unsupported operand type(s) for /: 'NoneType' and 'float'",
     "output_type": "error",
     "traceback": [
      "\u001b[1;31m---------------------------------------------------------------------------\u001b[0m",
      "\u001b[1;31mTypeError\u001b[0m                                 Traceback (most recent call last)",
      "\u001b[1;32m<expression>\u001b[0m in \u001b[0;36m<module>\u001b[1;34m\u001b[0m\n",
      "\u001b[1;31mTypeError\u001b[0m: unsupported operand type(s) for /: 'NoneType' and 'float'"
     ]
    },
    {
     "ename": "TypeError",
     "evalue": "unsupported operand type(s) for /: 'NoneType' and 'float'",
     "output_type": "error",
     "traceback": [
      "\u001b[1;31m---------------------------------------------------------------------------\u001b[0m",
      "\u001b[1;31mTypeError\u001b[0m                                 Traceback (most recent call last)",
      "\u001b[1;32m<expression>\u001b[0m in \u001b[0;36m<module>\u001b[1;34m\u001b[0m\n",
      "\u001b[1;31mTypeError\u001b[0m: unsupported operand type(s) for /: 'NoneType' and 'float'"
     ]
    },
    {
     "ename": "TypeError",
     "evalue": "unsupported operand type(s) for /: 'NoneType' and 'float'",
     "output_type": "error",
     "traceback": [
      "\u001b[1;31m---------------------------------------------------------------------------\u001b[0m",
      "\u001b[1;31mTypeError\u001b[0m                                 Traceback (most recent call last)",
      "\u001b[1;32m<expression>\u001b[0m in \u001b[0;36m<module>\u001b[1;34m\u001b[0m\n",
      "\u001b[1;31mTypeError\u001b[0m: unsupported operand type(s) for /: 'NoneType' and 'float'"
     ]
    },
    {
     "ename": "TypeError",
     "evalue": "unsupported operand type(s) for /: 'NoneType' and 'float'",
     "output_type": "error",
     "traceback": [
      "\u001b[1;31m---------------------------------------------------------------------------\u001b[0m",
      "\u001b[1;31mTypeError\u001b[0m                                 Traceback (most recent call last)",
      "\u001b[1;32m<expression>\u001b[0m in \u001b[0;36m<module>\u001b[1;34m\u001b[0m\n",
      "\u001b[1;31mTypeError\u001b[0m: unsupported operand type(s) for /: 'NoneType' and 'float'"
     ]
    },
    {
     "ename": "TypeError",
     "evalue": "unsupported operand type(s) for /: 'NoneType' and 'float'",
     "output_type": "error",
     "traceback": [
      "\u001b[1;31m---------------------------------------------------------------------------\u001b[0m",
      "\u001b[1;31mTypeError\u001b[0m                                 Traceback (most recent call last)",
      "\u001b[1;32m<expression>\u001b[0m in \u001b[0;36m<module>\u001b[1;34m\u001b[0m\n",
      "\u001b[1;31mTypeError\u001b[0m: unsupported operand type(s) for /: 'NoneType' and 'float'"
     ]
    },
    {
     "ename": "TypeError",
     "evalue": "unsupported operand type(s) for /: 'NoneType' and 'float'",
     "output_type": "error",
     "traceback": [
      "\u001b[1;31m---------------------------------------------------------------------------\u001b[0m",
      "\u001b[1;31mTypeError\u001b[0m                                 Traceback (most recent call last)",
      "\u001b[1;32m<expression>\u001b[0m in \u001b[0;36m<module>\u001b[1;34m\u001b[0m\n",
      "\u001b[1;31mTypeError\u001b[0m: unsupported operand type(s) for /: 'NoneType' and 'float'"
     ]
    },
    {
     "ename": "TypeError",
     "evalue": "unsupported operand type(s) for /: 'NoneType' and 'float'",
     "output_type": "error",
     "traceback": [
      "\u001b[1;31m---------------------------------------------------------------------------\u001b[0m",
      "\u001b[1;31mTypeError\u001b[0m                                 Traceback (most recent call last)",
      "\u001b[1;32m<expression>\u001b[0m in \u001b[0;36m<module>\u001b[1;34m\u001b[0m\n",
      "\u001b[1;31mTypeError\u001b[0m: unsupported operand type(s) for /: 'NoneType' and 'float'"
     ]
    },
    {
     "ename": "TypeError",
     "evalue": "unsupported operand type(s) for /: 'NoneType' and 'float'",
     "output_type": "error",
     "traceback": [
      "\u001b[1;31m---------------------------------------------------------------------------\u001b[0m",
      "\u001b[1;31mTypeError\u001b[0m                                 Traceback (most recent call last)",
      "\u001b[1;32m<expression>\u001b[0m in \u001b[0;36m<module>\u001b[1;34m\u001b[0m\n",
      "\u001b[1;31mTypeError\u001b[0m: unsupported operand type(s) for /: 'NoneType' and 'float'"
     ]
    },
    {
     "ename": "TypeError",
     "evalue": "unsupported operand type(s) for /: 'NoneType' and 'float'",
     "output_type": "error",
     "traceback": [
      "\u001b[1;31m---------------------------------------------------------------------------\u001b[0m",
      "\u001b[1;31mTypeError\u001b[0m                                 Traceback (most recent call last)",
      "\u001b[1;32m<expression>\u001b[0m in \u001b[0;36m<module>\u001b[1;34m\u001b[0m\n",
      "\u001b[1;31mTypeError\u001b[0m: unsupported operand type(s) for /: 'NoneType' and 'float'"
     ]
    },
    {
     "ename": "TypeError",
     "evalue": "unsupported operand type(s) for /: 'NoneType' and 'float'",
     "output_type": "error",
     "traceback": [
      "\u001b[1;31m---------------------------------------------------------------------------\u001b[0m",
      "\u001b[1;31mTypeError\u001b[0m                                 Traceback (most recent call last)",
      "\u001b[1;32m<expression>\u001b[0m in \u001b[0;36m<module>\u001b[1;34m\u001b[0m\n",
      "\u001b[1;31mTypeError\u001b[0m: unsupported operand type(s) for /: 'NoneType' and 'float'"
     ]
    },
    {
     "ename": "TypeError",
     "evalue": "unsupported operand type(s) for /: 'NoneType' and 'float'",
     "output_type": "error",
     "traceback": [
      "\u001b[1;31m---------------------------------------------------------------------------\u001b[0m",
      "\u001b[1;31mTypeError\u001b[0m                                 Traceback (most recent call last)",
      "\u001b[1;32m<expression>\u001b[0m in \u001b[0;36m<module>\u001b[1;34m\u001b[0m\n",
      "\u001b[1;31mTypeError\u001b[0m: unsupported operand type(s) for /: 'NoneType' and 'float'"
     ]
    },
    {
     "ename": "TypeError",
     "evalue": "unsupported operand type(s) for /: 'NoneType' and 'float'",
     "output_type": "error",
     "traceback": [
      "\u001b[1;31m---------------------------------------------------------------------------\u001b[0m",
      "\u001b[1;31mTypeError\u001b[0m                                 Traceback (most recent call last)",
      "\u001b[1;32m<expression>\u001b[0m in \u001b[0;36m<module>\u001b[1;34m\u001b[0m\n",
      "\u001b[1;31mTypeError\u001b[0m: unsupported operand type(s) for /: 'NoneType' and 'float'"
     ]
    },
    {
     "ename": "TypeError",
     "evalue": "unsupported operand type(s) for /: 'NoneType' and 'float'",
     "output_type": "error",
     "traceback": [
      "\u001b[1;31m---------------------------------------------------------------------------\u001b[0m",
      "\u001b[1;31mTypeError\u001b[0m                                 Traceback (most recent call last)",
      "\u001b[1;32m<expression>\u001b[0m in \u001b[0;36m<module>\u001b[1;34m\u001b[0m\n",
      "\u001b[1;31mTypeError\u001b[0m: unsupported operand type(s) for /: 'NoneType' and 'float'"
     ]
    },
    {
     "ename": "TypeError",
     "evalue": "unsupported operand type(s) for /: 'NoneType' and 'float'",
     "output_type": "error",
     "traceback": [
      "\u001b[1;31m---------------------------------------------------------------------------\u001b[0m",
      "\u001b[1;31mTypeError\u001b[0m                                 Traceback (most recent call last)",
      "\u001b[1;32m<expression>\u001b[0m in \u001b[0;36m<module>\u001b[1;34m\u001b[0m\n",
      "\u001b[1;31mTypeError\u001b[0m: unsupported operand type(s) for /: 'NoneType' and 'float'"
     ]
    },
    {
     "ename": "TypeError",
     "evalue": "unsupported operand type(s) for /: 'NoneType' and 'float'",
     "output_type": "error",
     "traceback": [
      "\u001b[1;31m---------------------------------------------------------------------------\u001b[0m",
      "\u001b[1;31mTypeError\u001b[0m                                 Traceback (most recent call last)",
      "\u001b[1;32m<expression>\u001b[0m in \u001b[0;36m<module>\u001b[1;34m\u001b[0m\n",
      "\u001b[1;31mTypeError\u001b[0m: unsupported operand type(s) for /: 'NoneType' and 'float'"
     ]
    },
    {
     "ename": "TypeError",
     "evalue": "unsupported operand type(s) for /: 'NoneType' and 'float'",
     "output_type": "error",
     "traceback": [
      "\u001b[1;31m---------------------------------------------------------------------------\u001b[0m",
      "\u001b[1;31mTypeError\u001b[0m                                 Traceback (most recent call last)",
      "\u001b[1;32m<expression>\u001b[0m in \u001b[0;36m<module>\u001b[1;34m\u001b[0m\n",
      "\u001b[1;31mTypeError\u001b[0m: unsupported operand type(s) for /: 'NoneType' and 'float'"
     ]
    },
    {
     "ename": "TypeError",
     "evalue": "unsupported operand type(s) for /: 'NoneType' and 'float'",
     "output_type": "error",
     "traceback": [
      "\u001b[1;31m---------------------------------------------------------------------------\u001b[0m",
      "\u001b[1;31mTypeError\u001b[0m                                 Traceback (most recent call last)",
      "\u001b[1;32m<expression>\u001b[0m in \u001b[0;36m<module>\u001b[1;34m\u001b[0m\n",
      "\u001b[1;31mTypeError\u001b[0m: unsupported operand type(s) for /: 'NoneType' and 'float'"
     ]
    },
    {
     "ename": "TypeError",
     "evalue": "unsupported operand type(s) for /: 'NoneType' and 'float'",
     "output_type": "error",
     "traceback": [
      "\u001b[1;31m---------------------------------------------------------------------------\u001b[0m",
      "\u001b[1;31mTypeError\u001b[0m                                 Traceback (most recent call last)",
      "\u001b[1;32m<expression>\u001b[0m in \u001b[0;36m<module>\u001b[1;34m\u001b[0m\n",
      "\u001b[1;31mTypeError\u001b[0m: unsupported operand type(s) for /: 'NoneType' and 'float'"
     ]
    },
    {
     "ename": "TypeError",
     "evalue": "unsupported operand type(s) for /: 'NoneType' and 'float'",
     "output_type": "error",
     "traceback": [
      "\u001b[1;31m---------------------------------------------------------------------------\u001b[0m",
      "\u001b[1;31mTypeError\u001b[0m                                 Traceback (most recent call last)",
      "\u001b[1;32m<expression>\u001b[0m in \u001b[0;36m<module>\u001b[1;34m\u001b[0m\n",
      "\u001b[1;31mTypeError\u001b[0m: unsupported operand type(s) for /: 'NoneType' and 'float'"
     ]
    },
    {
     "ename": "TypeError",
     "evalue": "unsupported operand type(s) for /: 'NoneType' and 'float'",
     "output_type": "error",
     "traceback": [
      "\u001b[1;31m---------------------------------------------------------------------------\u001b[0m",
      "\u001b[1;31mTypeError\u001b[0m                                 Traceback (most recent call last)",
      "\u001b[1;32m<expression>\u001b[0m in \u001b[0;36m<module>\u001b[1;34m\u001b[0m\n",
      "\u001b[1;31mTypeError\u001b[0m: unsupported operand type(s) for /: 'NoneType' and 'float'"
     ]
    },
    {
     "ename": "TypeError",
     "evalue": "unsupported operand type(s) for /: 'NoneType' and 'float'",
     "output_type": "error",
     "traceback": [
      "\u001b[1;31m---------------------------------------------------------------------------\u001b[0m",
      "\u001b[1;31mTypeError\u001b[0m                                 Traceback (most recent call last)",
      "\u001b[1;32m<expression>\u001b[0m in \u001b[0;36m<module>\u001b[1;34m\u001b[0m\n",
      "\u001b[1;31mTypeError\u001b[0m: unsupported operand type(s) for /: 'NoneType' and 'float'"
     ]
    },
    {
     "ename": "TypeError",
     "evalue": "unsupported operand type(s) for /: 'NoneType' and 'float'",
     "output_type": "error",
     "traceback": [
      "\u001b[1;31m---------------------------------------------------------------------------\u001b[0m",
      "\u001b[1;31mTypeError\u001b[0m                                 Traceback (most recent call last)",
      "\u001b[1;32m<expression>\u001b[0m in \u001b[0;36m<module>\u001b[1;34m\u001b[0m\n",
      "\u001b[1;31mTypeError\u001b[0m: unsupported operand type(s) for /: 'NoneType' and 'float'"
     ]
    },
    {
     "ename": "TypeError",
     "evalue": "unsupported operand type(s) for /: 'NoneType' and 'float'",
     "output_type": "error",
     "traceback": [
      "\u001b[1;31m---------------------------------------------------------------------------\u001b[0m",
      "\u001b[1;31mTypeError\u001b[0m                                 Traceback (most recent call last)",
      "\u001b[1;32m<expression>\u001b[0m in \u001b[0;36m<module>\u001b[1;34m\u001b[0m\n",
      "\u001b[1;31mTypeError\u001b[0m: unsupported operand type(s) for /: 'NoneType' and 'float'"
     ]
    },
    {
     "ename": "TypeError",
     "evalue": "unsupported operand type(s) for /: 'NoneType' and 'float'",
     "output_type": "error",
     "traceback": [
      "\u001b[1;31m---------------------------------------------------------------------------\u001b[0m",
      "\u001b[1;31mTypeError\u001b[0m                                 Traceback (most recent call last)",
      "\u001b[1;32m<expression>\u001b[0m in \u001b[0;36m<module>\u001b[1;34m\u001b[0m\n",
      "\u001b[1;31mTypeError\u001b[0m: unsupported operand type(s) for /: 'NoneType' and 'float'"
     ]
    },
    {
     "ename": "TypeError",
     "evalue": "unsupported operand type(s) for /: 'NoneType' and 'float'",
     "output_type": "error",
     "traceback": [
      "\u001b[1;31m---------------------------------------------------------------------------\u001b[0m",
      "\u001b[1;31mTypeError\u001b[0m                                 Traceback (most recent call last)",
      "\u001b[1;32m<expression>\u001b[0m in \u001b[0;36m<module>\u001b[1;34m\u001b[0m\n",
      "\u001b[1;31mTypeError\u001b[0m: unsupported operand type(s) for /: 'NoneType' and 'float'"
     ]
    },
    {
     "ename": "TypeError",
     "evalue": "unsupported operand type(s) for /: 'NoneType' and 'float'",
     "output_type": "error",
     "traceback": [
      "\u001b[1;31m---------------------------------------------------------------------------\u001b[0m",
      "\u001b[1;31mTypeError\u001b[0m                                 Traceback (most recent call last)",
      "\u001b[1;32m<expression>\u001b[0m in \u001b[0;36m<module>\u001b[1;34m\u001b[0m\n",
      "\u001b[1;31mTypeError\u001b[0m: unsupported operand type(s) for /: 'NoneType' and 'float'"
     ]
    },
    {
     "ename": "TypeError",
     "evalue": "unsupported operand type(s) for /: 'NoneType' and 'float'",
     "output_type": "error",
     "traceback": [
      "\u001b[1;31m---------------------------------------------------------------------------\u001b[0m",
      "\u001b[1;31mTypeError\u001b[0m                                 Traceback (most recent call last)",
      "\u001b[1;32m<expression>\u001b[0m in \u001b[0;36m<module>\u001b[1;34m\u001b[0m\n",
      "\u001b[1;31mTypeError\u001b[0m: unsupported operand type(s) for /: 'NoneType' and 'float'"
     ]
    },
    {
     "ename": "TypeError",
     "evalue": "unsupported operand type(s) for /: 'NoneType' and 'float'",
     "output_type": "error",
     "traceback": [
      "\u001b[1;31m---------------------------------------------------------------------------\u001b[0m",
      "\u001b[1;31mTypeError\u001b[0m                                 Traceback (most recent call last)",
      "\u001b[1;32m<expression>\u001b[0m in \u001b[0;36m<module>\u001b[1;34m\u001b[0m\n",
      "\u001b[1;31mTypeError\u001b[0m: unsupported operand type(s) for /: 'NoneType' and 'float'"
     ]
    },
    {
     "ename": "TypeError",
     "evalue": "unsupported operand type(s) for /: 'NoneType' and 'float'",
     "output_type": "error",
     "traceback": [
      "\u001b[1;31m---------------------------------------------------------------------------\u001b[0m",
      "\u001b[1;31mTypeError\u001b[0m                                 Traceback (most recent call last)",
      "\u001b[1;32m<expression>\u001b[0m in \u001b[0;36m<module>\u001b[1;34m\u001b[0m\n",
      "\u001b[1;31mTypeError\u001b[0m: unsupported operand type(s) for /: 'NoneType' and 'float'"
     ]
    },
    {
     "ename": "TypeError",
     "evalue": "unsupported operand type(s) for /: 'NoneType' and 'float'",
     "output_type": "error",
     "traceback": [
      "\u001b[1;31m---------------------------------------------------------------------------\u001b[0m",
      "\u001b[1;31mTypeError\u001b[0m                                 Traceback (most recent call last)",
      "\u001b[1;32m<expression>\u001b[0m in \u001b[0;36m<module>\u001b[1;34m\u001b[0m\n",
      "\u001b[1;31mTypeError\u001b[0m: unsupported operand type(s) for /: 'NoneType' and 'float'"
     ]
    },
    {
     "ename": "TypeError",
     "evalue": "unsupported operand type(s) for /: 'NoneType' and 'float'",
     "output_type": "error",
     "traceback": [
      "\u001b[1;31m---------------------------------------------------------------------------\u001b[0m",
      "\u001b[1;31mTypeError\u001b[0m                                 Traceback (most recent call last)",
      "\u001b[1;32m<expression>\u001b[0m in \u001b[0;36m<module>\u001b[1;34m\u001b[0m\n",
      "\u001b[1;31mTypeError\u001b[0m: unsupported operand type(s) for /: 'NoneType' and 'float'"
     ]
    },
    {
     "ename": "TypeError",
     "evalue": "unsupported operand type(s) for /: 'NoneType' and 'float'",
     "output_type": "error",
     "traceback": [
      "\u001b[1;31m---------------------------------------------------------------------------\u001b[0m",
      "\u001b[1;31mTypeError\u001b[0m                                 Traceback (most recent call last)",
      "\u001b[1;32m<expression>\u001b[0m in \u001b[0;36m<module>\u001b[1;34m\u001b[0m\n",
      "\u001b[1;31mTypeError\u001b[0m: unsupported operand type(s) for /: 'NoneType' and 'float'"
     ]
    },
    {
     "ename": "TypeError",
     "evalue": "unsupported operand type(s) for /: 'NoneType' and 'float'",
     "output_type": "error",
     "traceback": [
      "\u001b[1;31m---------------------------------------------------------------------------\u001b[0m",
      "\u001b[1;31mTypeError\u001b[0m                                 Traceback (most recent call last)",
      "\u001b[1;32m<expression>\u001b[0m in \u001b[0;36m<module>\u001b[1;34m\u001b[0m\n",
      "\u001b[1;31mTypeError\u001b[0m: unsupported operand type(s) for /: 'NoneType' and 'float'"
     ]
    },
    {
     "ename": "TypeError",
     "evalue": "unsupported operand type(s) for /: 'NoneType' and 'float'",
     "output_type": "error",
     "traceback": [
      "\u001b[1;31m---------------------------------------------------------------------------\u001b[0m",
      "\u001b[1;31mTypeError\u001b[0m                                 Traceback (most recent call last)",
      "\u001b[1;32m<expression>\u001b[0m in \u001b[0;36m<module>\u001b[1;34m\u001b[0m\n",
      "\u001b[1;31mTypeError\u001b[0m: unsupported operand type(s) for /: 'NoneType' and 'float'"
     ]
    },
    {
     "ename": "TypeError",
     "evalue": "unsupported operand type(s) for /: 'NoneType' and 'float'",
     "output_type": "error",
     "traceback": [
      "\u001b[1;31m---------------------------------------------------------------------------\u001b[0m",
      "\u001b[1;31mTypeError\u001b[0m                                 Traceback (most recent call last)",
      "\u001b[1;32m<expression>\u001b[0m in \u001b[0;36m<module>\u001b[1;34m\u001b[0m\n",
      "\u001b[1;31mTypeError\u001b[0m: unsupported operand type(s) for /: 'NoneType' and 'float'"
     ]
    },
    {
     "ename": "TypeError",
     "evalue": "unsupported operand type(s) for /: 'NoneType' and 'float'",
     "output_type": "error",
     "traceback": [
      "\u001b[1;31m---------------------------------------------------------------------------\u001b[0m",
      "\u001b[1;31mTypeError\u001b[0m                                 Traceback (most recent call last)",
      "\u001b[1;32m<expression>\u001b[0m in \u001b[0;36m<module>\u001b[1;34m\u001b[0m\n",
      "\u001b[1;31mTypeError\u001b[0m: unsupported operand type(s) for /: 'NoneType' and 'float'"
     ]
    },
    {
     "ename": "TypeError",
     "evalue": "unsupported operand type(s) for /: 'NoneType' and 'float'",
     "output_type": "error",
     "traceback": [
      "\u001b[1;31m---------------------------------------------------------------------------\u001b[0m",
      "\u001b[1;31mTypeError\u001b[0m                                 Traceback (most recent call last)",
      "\u001b[1;32m<expression>\u001b[0m in \u001b[0;36m<module>\u001b[1;34m\u001b[0m\n",
      "\u001b[1;31mTypeError\u001b[0m: unsupported operand type(s) for /: 'NoneType' and 'float'"
     ]
    },
    {
     "ename": "TypeError",
     "evalue": "unsupported operand type(s) for /: 'NoneType' and 'float'",
     "output_type": "error",
     "traceback": [
      "\u001b[1;31m---------------------------------------------------------------------------\u001b[0m",
      "\u001b[1;31mTypeError\u001b[0m                                 Traceback (most recent call last)",
      "\u001b[1;32m<expression>\u001b[0m in \u001b[0;36m<module>\u001b[1;34m\u001b[0m\n",
      "\u001b[1;31mTypeError\u001b[0m: unsupported operand type(s) for /: 'NoneType' and 'float'"
     ]
    },
    {
     "ename": "TypeError",
     "evalue": "unsupported operand type(s) for /: 'NoneType' and 'float'",
     "output_type": "error",
     "traceback": [
      "\u001b[1;31m---------------------------------------------------------------------------\u001b[0m",
      "\u001b[1;31mTypeError\u001b[0m                                 Traceback (most recent call last)",
      "\u001b[1;32m<expression>\u001b[0m in \u001b[0;36m<module>\u001b[1;34m\u001b[0m\n",
      "\u001b[1;31mTypeError\u001b[0m: unsupported operand type(s) for /: 'NoneType' and 'float'"
     ]
    },
    {
     "ename": "TypeError",
     "evalue": "unsupported operand type(s) for /: 'NoneType' and 'float'",
     "output_type": "error",
     "traceback": [
      "\u001b[1;31m---------------------------------------------------------------------------\u001b[0m",
      "\u001b[1;31mTypeError\u001b[0m                                 Traceback (most recent call last)",
      "\u001b[1;32m<expression>\u001b[0m in \u001b[0;36m<module>\u001b[1;34m\u001b[0m\n",
      "\u001b[1;31mTypeError\u001b[0m: unsupported operand type(s) for /: 'NoneType' and 'float'"
     ]
    },
    {
     "ename": "TypeError",
     "evalue": "unsupported operand type(s) for /: 'NoneType' and 'float'",
     "output_type": "error",
     "traceback": [
      "\u001b[1;31m---------------------------------------------------------------------------\u001b[0m",
      "\u001b[1;31mTypeError\u001b[0m                                 Traceback (most recent call last)",
      "\u001b[1;32m<expression>\u001b[0m in \u001b[0;36m<module>\u001b[1;34m\u001b[0m\n",
      "\u001b[1;31mTypeError\u001b[0m: unsupported operand type(s) for /: 'NoneType' and 'float'"
     ]
    },
    {
     "ename": "TypeError",
     "evalue": "unsupported operand type(s) for /: 'NoneType' and 'float'",
     "output_type": "error",
     "traceback": [
      "\u001b[1;31m---------------------------------------------------------------------------\u001b[0m",
      "\u001b[1;31mTypeError\u001b[0m                                 Traceback (most recent call last)",
      "\u001b[1;32m<expression>\u001b[0m in \u001b[0;36m<module>\u001b[1;34m\u001b[0m\n",
      "\u001b[1;31mTypeError\u001b[0m: unsupported operand type(s) for /: 'NoneType' and 'float'"
     ]
    },
    {
     "ename": "TypeError",
     "evalue": "unsupported operand type(s) for /: 'NoneType' and 'float'",
     "output_type": "error",
     "traceback": [
      "\u001b[1;31m---------------------------------------------------------------------------\u001b[0m",
      "\u001b[1;31mTypeError\u001b[0m                                 Traceback (most recent call last)",
      "\u001b[1;32m<expression>\u001b[0m in \u001b[0;36m<module>\u001b[1;34m\u001b[0m\n",
      "\u001b[1;31mTypeError\u001b[0m: unsupported operand type(s) for /: 'NoneType' and 'float'"
     ]
    },
    {
     "ename": "TypeError",
     "evalue": "unsupported operand type(s) for /: 'NoneType' and 'float'",
     "output_type": "error",
     "traceback": [
      "\u001b[1;31m---------------------------------------------------------------------------\u001b[0m",
      "\u001b[1;31mTypeError\u001b[0m                                 Traceback (most recent call last)",
      "\u001b[1;32m<expression>\u001b[0m in \u001b[0;36m<module>\u001b[1;34m\u001b[0m\n",
      "\u001b[1;31mTypeError\u001b[0m: unsupported operand type(s) for /: 'NoneType' and 'float'"
     ]
    },
    {
     "ename": "TypeError",
     "evalue": "unsupported operand type(s) for /: 'NoneType' and 'float'",
     "output_type": "error",
     "traceback": [
      "\u001b[1;31m---------------------------------------------------------------------------\u001b[0m",
      "\u001b[1;31mTypeError\u001b[0m                                 Traceback (most recent call last)",
      "\u001b[1;32m<expression>\u001b[0m in \u001b[0;36m<module>\u001b[1;34m\u001b[0m\n",
      "\u001b[1;31mTypeError\u001b[0m: unsupported operand type(s) for /: 'NoneType' and 'float'"
     ]
    },
    {
     "ename": "TypeError",
     "evalue": "unsupported operand type(s) for /: 'NoneType' and 'float'",
     "output_type": "error",
     "traceback": [
      "\u001b[1;31m---------------------------------------------------------------------------\u001b[0m",
      "\u001b[1;31mTypeError\u001b[0m                                 Traceback (most recent call last)",
      "\u001b[1;32m<expression>\u001b[0m in \u001b[0;36m<module>\u001b[1;34m\u001b[0m\n",
      "\u001b[1;31mTypeError\u001b[0m: unsupported operand type(s) for /: 'NoneType' and 'float'"
     ]
    },
    {
     "ename": "TypeError",
     "evalue": "unsupported operand type(s) for /: 'NoneType' and 'float'",
     "output_type": "error",
     "traceback": [
      "\u001b[1;31m---------------------------------------------------------------------------\u001b[0m",
      "\u001b[1;31mTypeError\u001b[0m                                 Traceback (most recent call last)",
      "\u001b[1;32m<expression>\u001b[0m in \u001b[0;36m<module>\u001b[1;34m\u001b[0m\n",
      "\u001b[1;31mTypeError\u001b[0m: unsupported operand type(s) for /: 'NoneType' and 'float'"
     ]
    },
    {
     "ename": "TypeError",
     "evalue": "unsupported operand type(s) for /: 'NoneType' and 'float'",
     "output_type": "error",
     "traceback": [
      "\u001b[1;31m---------------------------------------------------------------------------\u001b[0m",
      "\u001b[1;31mTypeError\u001b[0m                                 Traceback (most recent call last)",
      "\u001b[1;32m<expression>\u001b[0m in \u001b[0;36m<module>\u001b[1;34m\u001b[0m\n",
      "\u001b[1;31mTypeError\u001b[0m: unsupported operand type(s) for /: 'NoneType' and 'float'"
     ]
    },
    {
     "ename": "TypeError",
     "evalue": "unsupported operand type(s) for /: 'NoneType' and 'float'",
     "output_type": "error",
     "traceback": [
      "\u001b[1;31m---------------------------------------------------------------------------\u001b[0m",
      "\u001b[1;31mTypeError\u001b[0m                                 Traceback (most recent call last)",
      "\u001b[1;32m<expression>\u001b[0m in \u001b[0;36m<module>\u001b[1;34m\u001b[0m\n",
      "\u001b[1;31mTypeError\u001b[0m: unsupported operand type(s) for /: 'NoneType' and 'float'"
     ]
    },
    {
     "ename": "TypeError",
     "evalue": "unsupported operand type(s) for /: 'NoneType' and 'float'",
     "output_type": "error",
     "traceback": [
      "\u001b[1;31m---------------------------------------------------------------------------\u001b[0m",
      "\u001b[1;31mTypeError\u001b[0m                                 Traceback (most recent call last)",
      "\u001b[1;32m<expression>\u001b[0m in \u001b[0;36m<module>\u001b[1;34m\u001b[0m\n",
      "\u001b[1;31mTypeError\u001b[0m: unsupported operand type(s) for /: 'NoneType' and 'float'"
     ]
    },
    {
     "ename": "TypeError",
     "evalue": "unsupported operand type(s) for /: 'NoneType' and 'float'",
     "output_type": "error",
     "traceback": [
      "\u001b[1;31m---------------------------------------------------------------------------\u001b[0m",
      "\u001b[1;31mTypeError\u001b[0m                                 Traceback (most recent call last)",
      "\u001b[1;32m<expression>\u001b[0m in \u001b[0;36m<module>\u001b[1;34m\u001b[0m\n",
      "\u001b[1;31mTypeError\u001b[0m: unsupported operand type(s) for /: 'NoneType' and 'float'"
     ]
    },
    {
     "ename": "TypeError",
     "evalue": "unsupported operand type(s) for /: 'NoneType' and 'float'",
     "output_type": "error",
     "traceback": [
      "\u001b[1;31m---------------------------------------------------------------------------\u001b[0m",
      "\u001b[1;31mTypeError\u001b[0m                                 Traceback (most recent call last)",
      "\u001b[1;32m<expression>\u001b[0m in \u001b[0;36m<module>\u001b[1;34m\u001b[0m\n",
      "\u001b[1;31mTypeError\u001b[0m: unsupported operand type(s) for /: 'NoneType' and 'float'"
     ]
    },
    {
     "ename": "TypeError",
     "evalue": "unsupported operand type(s) for /: 'NoneType' and 'float'",
     "output_type": "error",
     "traceback": [
      "\u001b[1;31m---------------------------------------------------------------------------\u001b[0m",
      "\u001b[1;31mTypeError\u001b[0m                                 Traceback (most recent call last)",
      "\u001b[1;32m<expression>\u001b[0m in \u001b[0;36m<module>\u001b[1;34m\u001b[0m\n",
      "\u001b[1;31mTypeError\u001b[0m: unsupported operand type(s) for /: 'NoneType' and 'float'"
     ]
    },
    {
     "ename": "TypeError",
     "evalue": "unsupported operand type(s) for /: 'NoneType' and 'float'",
     "output_type": "error",
     "traceback": [
      "\u001b[1;31m---------------------------------------------------------------------------\u001b[0m",
      "\u001b[1;31mTypeError\u001b[0m                                 Traceback (most recent call last)",
      "\u001b[1;32m<expression>\u001b[0m in \u001b[0;36m<module>\u001b[1;34m\u001b[0m\n",
      "\u001b[1;31mTypeError\u001b[0m: unsupported operand type(s) for /: 'NoneType' and 'float'"
     ]
    },
    {
     "ename": "TypeError",
     "evalue": "unsupported operand type(s) for /: 'NoneType' and 'float'",
     "output_type": "error",
     "traceback": [
      "\u001b[1;31m---------------------------------------------------------------------------\u001b[0m",
      "\u001b[1;31mTypeError\u001b[0m                                 Traceback (most recent call last)",
      "\u001b[1;32m<expression>\u001b[0m in \u001b[0;36m<module>\u001b[1;34m\u001b[0m\n",
      "\u001b[1;31mTypeError\u001b[0m: unsupported operand type(s) for /: 'NoneType' and 'float'"
     ]
    },
    {
     "ename": "TypeError",
     "evalue": "unsupported operand type(s) for /: 'NoneType' and 'float'",
     "output_type": "error",
     "traceback": [
      "\u001b[1;31m---------------------------------------------------------------------------\u001b[0m",
      "\u001b[1;31mTypeError\u001b[0m                                 Traceback (most recent call last)",
      "\u001b[1;32m<expression>\u001b[0m in \u001b[0;36m<module>\u001b[1;34m\u001b[0m\n",
      "\u001b[1;31mTypeError\u001b[0m: unsupported operand type(s) for /: 'NoneType' and 'float'"
     ]
    },
    {
     "ename": "TypeError",
     "evalue": "unsupported operand type(s) for /: 'NoneType' and 'float'",
     "output_type": "error",
     "traceback": [
      "\u001b[1;31m---------------------------------------------------------------------------\u001b[0m",
      "\u001b[1;31mTypeError\u001b[0m                                 Traceback (most recent call last)",
      "\u001b[1;32m<expression>\u001b[0m in \u001b[0;36m<module>\u001b[1;34m\u001b[0m\n",
      "\u001b[1;31mTypeError\u001b[0m: unsupported operand type(s) for /: 'NoneType' and 'float'"
     ]
    },
    {
     "ename": "TypeError",
     "evalue": "unsupported operand type(s) for /: 'NoneType' and 'float'",
     "output_type": "error",
     "traceback": [
      "\u001b[1;31m---------------------------------------------------------------------------\u001b[0m",
      "\u001b[1;31mTypeError\u001b[0m                                 Traceback (most recent call last)",
      "\u001b[1;32m<expression>\u001b[0m in \u001b[0;36m<module>\u001b[1;34m\u001b[0m\n",
      "\u001b[1;31mTypeError\u001b[0m: unsupported operand type(s) for /: 'NoneType' and 'float'"
     ]
    },
    {
     "ename": "TypeError",
     "evalue": "unsupported operand type(s) for /: 'NoneType' and 'float'",
     "output_type": "error",
     "traceback": [
      "\u001b[1;31m---------------------------------------------------------------------------\u001b[0m",
      "\u001b[1;31mTypeError\u001b[0m                                 Traceback (most recent call last)",
      "\u001b[1;32m<expression>\u001b[0m in \u001b[0;36m<module>\u001b[1;34m\u001b[0m\n",
      "\u001b[1;31mTypeError\u001b[0m: unsupported operand type(s) for /: 'NoneType' and 'float'"
     ]
    },
    {
     "ename": "TypeError",
     "evalue": "unsupported operand type(s) for /: 'NoneType' and 'float'",
     "output_type": "error",
     "traceback": [
      "\u001b[1;31m---------------------------------------------------------------------------\u001b[0m",
      "\u001b[1;31mTypeError\u001b[0m                                 Traceback (most recent call last)",
      "\u001b[1;32m<expression>\u001b[0m in \u001b[0;36m<module>\u001b[1;34m\u001b[0m\n",
      "\u001b[1;31mTypeError\u001b[0m: unsupported operand type(s) for /: 'NoneType' and 'float'"
     ]
    },
    {
     "ename": "TypeError",
     "evalue": "unsupported operand type(s) for /: 'NoneType' and 'float'",
     "output_type": "error",
     "traceback": [
      "\u001b[1;31m---------------------------------------------------------------------------\u001b[0m",
      "\u001b[1;31mTypeError\u001b[0m                                 Traceback (most recent call last)",
      "\u001b[1;32m<expression>\u001b[0m in \u001b[0;36m<module>\u001b[1;34m\u001b[0m\n",
      "\u001b[1;31mTypeError\u001b[0m: unsupported operand type(s) for /: 'NoneType' and 'float'"
     ]
    },
    {
     "ename": "TypeError",
     "evalue": "unsupported operand type(s) for /: 'NoneType' and 'float'",
     "output_type": "error",
     "traceback": [
      "\u001b[1;31m---------------------------------------------------------------------------\u001b[0m",
      "\u001b[1;31mTypeError\u001b[0m                                 Traceback (most recent call last)",
      "\u001b[1;32m<expression>\u001b[0m in \u001b[0;36m<module>\u001b[1;34m\u001b[0m\n",
      "\u001b[1;31mTypeError\u001b[0m: unsupported operand type(s) for /: 'NoneType' and 'float'"
     ]
    },
    {
     "ename": "TypeError",
     "evalue": "unsupported operand type(s) for /: 'NoneType' and 'float'",
     "output_type": "error",
     "traceback": [
      "\u001b[1;31m---------------------------------------------------------------------------\u001b[0m",
      "\u001b[1;31mTypeError\u001b[0m                                 Traceback (most recent call last)",
      "\u001b[1;32m<expression>\u001b[0m in \u001b[0;36m<module>\u001b[1;34m\u001b[0m\n",
      "\u001b[1;31mTypeError\u001b[0m: unsupported operand type(s) for /: 'NoneType' and 'float'"
     ]
    }
   ],
   "source": [
    "arcpy.analysis.Intersect(['ZoningDistrict', 'ArlingtonMarketReadinessStreetCondition'],\n",
    "                         'ZoningDesignation',\"ALL\", None, \"INPUT\")\n",
    "\n",
    "\n",
    "arcpy.management.AddField('ZoningDesignation', \"Acreage\", \"DOUBLE\")\n",
    "\n",
    "arcpy.management.CalculateGeometryAttributes(\"ZoningDesignation\",[[\"Acreage\", \"AREA\"]], \"\", \"ACRES_US\",\n",
    "                                             coordinate_system=arcpy.SpatialReference(32038),\n",
    "                                             coordinate_format=\"SAME_AS_INPUT\")\n",
    "\n",
    "# Summarize acreage by Ranking + Zoning\n",
    "arcpy.analysis.Statistics( 'ZoningDesignation', 'ZoningSummary', [[\"Acreage\", \"SUM\"]], [\"Ranking\", \"Zoning\"])\n",
    "\n",
    "# Pivot: one column per zoning type\n",
    "arcpy.management.PivotTable('ZoningSummary', \"Ranking\", \"Zoning\", \"SUM_Acreage\", 'ZoningPivot')\n",
    "\n",
    "# Prevent duplicate fields\n",
    "\n",
    "delete = [f for f in zoningfields if f in\n",
    "          [field.name for field in arcpy.ListFields('ArlingtonMarketReadinessStreetCondition')]]\n",
    "\n",
    "if delete:\n",
    "    arcpy.management.DeleteField('ArlingtonMarketReadinessStreetCondition',\";\".join(delete),\"DELETE_FIELDS\")\n",
    "\n",
    "# Join back\n",
    "pivot = arcpy.management.JoinField(\"ArlingtonMarketReadinessStreetCondition\",\"Ranking\",\"ZoningPivot\",\"Ranking\")\n",
    "\n",
    "# Export final\n",
    "arcpy.conversion.ExportFeatures( pivot, \"ArlingtonMarketReadinessZoning\")\n",
    "\n",
    "\n",
    "existingfields = [f.name for f in arcpy.ListFields(\"ArlingtonMarketReadinessZoning\")]\n",
    "\n",
    "for field in zoningfields:\n",
    "    if field not in existingfields:\n",
    "        arcpy.management.AddField(\"ArlingtonMarketReadinessZoning\", field, \"DOUBLE\")\n",
    "    \n",
    "    expr = f\"(!{field}! / float(!Acres!)) if !Acres! not in (None, 0) else 0\"\n",
    "    arcpy.management.CalculateField(\"ArlingtonMarketReadinessZoning\", field, expr, \"PYTHON3\")"
   ]
  },
  {
   "cell_type": "code",
   "execution_count": 52,
   "id": "ee7881d5",
   "metadata": {},
   "outputs": [
    {
     "data": {
      "text/html": [
       "<div class='gpresult'><h2>Messages</h2><div id='messages' data-messages='[\"Start Time: Friday, August 22, 2025 11:47:35 PM\",\"Succeeded at Friday, August 22, 2025 11:47:35 PM (Elapsed Time: 0.09 seconds)\"]' data-show='true'><div id = 'default' /></div></div>"
      ],
      "text/plain": [
       "<Result 'C:\\\\Users\\\\Thepr\\\\Documents\\\\Consulting\\\\Market Readiness\\\\Market Readiness.gdb\\\\ArlingtonMarketReadinessZoning'>"
      ]
     },
     "execution_count": 52,
     "metadata": {},
     "output_type": "execute_result"
    }
   ],
   "source": [
    "existingfields = [f.name for f in arcpy.ListFields(\"ArlingtonMarketReadinessZoning\")]\n",
    "\n",
    "if \"TotalZoningAcres\" not in existingfields:\n",
    "    arcpy.management.AddField(\"ArlingtonMarketReadinessZoning\",\"TotalZoningAcres\", \"DOUBLE\")\n",
    "\n",
    "# Wrap each field so None is treated as 0\n",
    "sumexpr = \" + \".join([f\"(0 if !{f}! is None else !{f}!)\" for f in zoningfields])\n",
    "\n",
    "# Calculate the total\n",
    "arcpy.management.CalculateField(\"ArlingtonMarketReadinessZoning\", \"TotalZoningAcres\", sumexpr, \"PYTHON3\")"
   ]
  },
  {
   "cell_type": "markdown",
   "id": "4d575a20",
   "metadata": {},
   "source": [
    "### Export Data as CSV"
   ]
  },
  {
   "cell_type": "code",
   "execution_count": 5,
   "id": "0a0dba66",
   "metadata": {},
   "outputs": [
    {
     "data": {
      "text/html": [
       "<div class='gpresult'><h2>Messages</h2><div id='messages' data-messages='[\"Start Time: Monday, September 8, 2025 5:12:58 PM\",\"Succeeded at Monday, September 8, 2025 5:12:58 PM (Elapsed Time: 0.18 seconds)\"]' data-show='true'><div id = 'default' /></div></div>"
      ],
      "text/plain": [
       "<Result 'C:\\\\Users\\\\Thepr\\\\Documents\\\\Consulting\\\\Market Readiness\\\\ArlingtonMarketReadiness.csv'>"
      ]
     },
     "execution_count": 5,
     "metadata": {},
     "output_type": "execute_result"
    }
   ],
   "source": [
    "fieldmapping = arcpy.FieldMappings()\n",
    "fieldmapping.addTable(\"ArlingtonMarketReadinessZoning\")\n",
    "\n",
    "analysisfields = ['OBJECTID','Shape','Shape_Length','Shape_Area','Ranking_1', 'Value','Descriptio', 'TARGET_FID', \n",
    "                  'Override','aggregationMethod','HasData', 'ORIGINAL_OID','sourceCountry',\n",
    "                  'apportionmentConfidence','Community_Commercial',\n",
    "                  'Entertainment_District_Overlay___Community_Commercial','General_Commercial',\n",
    "                  'Lamar_Collins_Mixed_Use_Overlay___Community_Commercial',\n",
    "                  'Lamar_Collins_Mixed_Use_Overlay___General_Commercial',\n",
    "                  'Lamar_Collins_Mixed_Use_Overlay___Planned_Development', 'Neighborhood_Commercial','Office_Commercial',\n",
    "                  'Planned_Development___Residential_Medium_Density___Community_Com',\n",
    "                  'Planned_Development___Residential_Multi_Family_22___Community_Co','Residential_Medium_Density',\n",
    "                  'Residential_Multi_Family_22', 'Village_on_the_Green','NearbyTrafficSensors','Shape_Leng', \n",
    "                  'Comments', 'Acres','populationToPolygonSizeRating']\n",
    "\n",
    "for field in fieldmapping.fields:\n",
    "    if field.name in analysisfields:\n",
    "        fieldmapping.removeFieldMap(fieldmapping.findFieldMapIndex(field.name))\n",
    "        \n",
    "\n",
    "arcpy.conversion.ExportTable(\"ArlingtonMarketReadinessZoning\",\"ArlingtonMarketReadiness.csv\",\n",
    "                             'Ranking IN (1,2,3,4,5,6,7,8)',\"USE_ALIAS\",fieldmapping,None)"
   ]
  },
  {
   "cell_type": "code",
   "execution_count": 6,
   "id": "f636410a",
   "metadata": {},
   "outputs": [
    {
     "data": {
      "text/html": [
       "<div>\n",
       "<style scoped>\n",
       "    .dataframe tbody tr th:only-of-type {\n",
       "        vertical-align: middle;\n",
       "    }\n",
       "\n",
       "    .dataframe tbody tr th {\n",
       "        vertical-align: top;\n",
       "    }\n",
       "\n",
       "    .dataframe thead th {\n",
       "        text-align: right;\n",
       "    }\n",
       "</style>\n",
       "<table border=\"1\" class=\"dataframe\">\n",
       "  <thead>\n",
       "    <tr style=\"text-align: right;\">\n",
       "      <th></th>\n",
       "      <th>NearbyBrownfields</th>\n",
       "      <th>NearbyPolice</th>\n",
       "      <th>NearbyParks</th>\n",
       "      <th>NearbyRestuarants</th>\n",
       "      <th>NearbyGrocery</th>\n",
       "      <th>Nearbyhealthcare</th>\n",
       "      <th>NearbySchools</th>\n",
       "      <th>NewConstructionActivity</th>\n",
       "      <th>NearbyCommercialDevelopment</th>\n",
       "      <th>NearbyResidentialDevelopment</th>\n",
       "      <th>Ranking</th>\n",
       "      <th>Location</th>\n",
       "      <th>Shape_Leng</th>\n",
       "      <th>Comments</th>\n",
       "      <th>Acres</th>\n",
       "      <th>Descriptio</th>\n",
       "      <th>Location_1</th>\n",
       "      <th>Value</th>\n",
       "      <th>Override</th>\n",
       "      <th>areaType</th>\n",
       "      <th>bufferUnits</th>\n",
       "      <th>bufferUnit</th>\n",
       "      <th>bufferRadii</th>\n",
       "      <th>2025_Total_Population</th>\n",
       "      <th>2025_Population_Density</th>\n",
       "      <th>2030_Total_Population</th>\n",
       "      <th>2025_Total_Housing_Units</th>\n",
       "      <th>2025_Vacant_Housing_Units</th>\n",
       "      <th>2030_Vacant_Housing_Units</th>\n",
       "      <th>2025_Total_Housing_Units_1</th>\n",
       "      <th>2025_Median_Home_Value</th>\n",
       "      <th>2023_Median_Home_Value__ACS_5_Yr_</th>\n",
       "      <th>2025_NAICS_44_45_722_Expenditures</th>\n",
       "      <th>2025_NAICS_44_45_Expenditures</th>\n",
       "      <th>2025_NAICS_722_Expenditures</th>\n",
       "      <th>2025_Unemployment_Rate</th>\n",
       "      <th>2025_Median_Home_Value_1</th>\n",
       "      <th>2030_Median_Home_Value</th>\n",
       "      <th>2024_Total_Crime_Index</th>\n",
       "      <th>2025_Total_Businesses__NAICS_</th>\n",
       "      <th>2025_Median_Monthly_Contract_Rent</th>\n",
       "      <th>Ranking_1</th>\n",
       "      <th>WalkabilityIndex</th>\n",
       "      <th>DistanceToHighway</th>\n",
       "      <th>DistanceToRegionalRail</th>\n",
       "      <th>DistanceToAirport</th>\n",
       "      <th>Avg5yrTraffic</th>\n",
       "      <th>StreetCondition</th>\n",
       "      <th>Ranking_12</th>\n",
       "      <th>TotalZoningAcres</th>\n",
       "    </tr>\n",
       "  </thead>\n",
       "  <tbody>\n",
       "    <tr>\n",
       "      <th>0</th>\n",
       "      <td>109</td>\n",
       "      <td>2</td>\n",
       "      <td>4</td>\n",
       "      <td>408</td>\n",
       "      <td>15</td>\n",
       "      <td>1</td>\n",
       "      <td>8</td>\n",
       "      <td>80</td>\n",
       "      <td>176</td>\n",
       "      <td>394</td>\n",
       "      <td>1.0</td>\n",
       "      <td>E Park Row Dr and New York Ave (Shortlist FBC area)</td>\n",
       "      <td>7247.264003</td>\n",
       "      <td></td>\n",
       "      <td>50.891592</td>\n",
       "      <td>E Park Row Dr and New York Ave (Shortlist FBC area)</td>\n",
       "      <td>NaN</td>\n",
       "      <td>4.428571</td>\n",
       "      <td>4.428571</td>\n",
       "      <td>RingBuffer</td>\n",
       "      <td>esriMiles</td>\n",
       "      <td>Miles</td>\n",
       "      <td>1.0</td>\n",
       "      <td>26516.0</td>\n",
       "      <td>8447.0</td>\n",
       "      <td>25893.0</td>\n",
       "      <td>8833.0</td>\n",
       "      <td>466.0</td>\n",
       "      <td>585.0</td>\n",
       "      <td>NaN</td>\n",
       "      <td>196409.0</td>\n",
       "      <td>189692.0</td>\n",
       "      <td>139745867.0</td>\n",
       "      <td>117668034.0</td>\n",
       "      <td>22077833.0</td>\n",
       "      <td>4.1</td>\n",
       "      <td>NaN</td>\n",
       "      <td>265301.0</td>\n",
       "      <td>104.0</td>\n",
       "      <td>396.0</td>\n",
       "      <td>1267.0</td>\n",
       "      <td>NaN</td>\n",
       "      <td>7.966667</td>\n",
       "      <td>0.404905</td>\n",
       "      <td>1.124177</td>\n",
       "      <td>1.911533</td>\n",
       "      <td>6671</td>\n",
       "      <td>60.462982</td>\n",
       "      <td>NaN</td>\n",
       "      <td>0.882877</td>\n",
       "    </tr>\n",
       "    <tr>\n",
       "      <th>1</th>\n",
       "      <td>95</td>\n",
       "      <td>1</td>\n",
       "      <td>6</td>\n",
       "      <td>424</td>\n",
       "      <td>13</td>\n",
       "      <td>4</td>\n",
       "      <td>4</td>\n",
       "      <td>61</td>\n",
       "      <td>451</td>\n",
       "      <td>337</td>\n",
       "      <td>6.0</td>\n",
       "      <td>S Cooper St and W Pioneer Pkwy (Shortlist FBC area)</td>\n",
       "      <td>5911.284414</td>\n",
       "      <td></td>\n",
       "      <td>48.888828</td>\n",
       "      <td>S Cooper St and W Pioneer Pkwy (Shortlist FBC area)</td>\n",
       "      <td>NaN</td>\n",
       "      <td>3.428571</td>\n",
       "      <td>3.428571</td>\n",
       "      <td>RingBuffer</td>\n",
       "      <td>esriMiles</td>\n",
       "      <td>Miles</td>\n",
       "      <td>1.0</td>\n",
       "      <td>18305.0</td>\n",
       "      <td>5831.3</td>\n",
       "      <td>18273.0</td>\n",
       "      <td>8208.0</td>\n",
       "      <td>849.0</td>\n",
       "      <td>887.0</td>\n",
       "      <td>NaN</td>\n",
       "      <td>270710.0</td>\n",
       "      <td>231597.0</td>\n",
       "      <td>161989548.0</td>\n",
       "      <td>136940185.0</td>\n",
       "      <td>25049363.0</td>\n",
       "      <td>5.0</td>\n",
       "      <td>NaN</td>\n",
       "      <td>320594.0</td>\n",
       "      <td>159.0</td>\n",
       "      <td>1118.0</td>\n",
       "      <td>1366.0</td>\n",
       "      <td>NaN</td>\n",
       "      <td>6.952381</td>\n",
       "      <td>0.000000</td>\n",
       "      <td>1.885454</td>\n",
       "      <td>2.376831</td>\n",
       "      <td>10543</td>\n",
       "      <td>55.963405</td>\n",
       "      <td>NaN</td>\n",
       "      <td>0.661347</td>\n",
       "    </tr>\n",
       "    <tr>\n",
       "      <th>2</th>\n",
       "      <td>8</td>\n",
       "      <td>1</td>\n",
       "      <td>3</td>\n",
       "      <td>26</td>\n",
       "      <td>0</td>\n",
       "      <td>2</td>\n",
       "      <td>4</td>\n",
       "      <td>182</td>\n",
       "      <td>35</td>\n",
       "      <td>465</td>\n",
       "      <td>8.0</td>\n",
       "      <td>W Harris Rd and US 287 FWY</td>\n",
       "      <td>9116.152470</td>\n",
       "      <td></td>\n",
       "      <td>49.269876</td>\n",
       "      <td>W Harris Rd and US 287 FWY</td>\n",
       "      <td>NaN</td>\n",
       "      <td>3.142857</td>\n",
       "      <td>3.142857</td>\n",
       "      <td>RingBuffer</td>\n",
       "      <td>esriMiles</td>\n",
       "      <td>Miles</td>\n",
       "      <td>1.0</td>\n",
       "      <td>6268.0</td>\n",
       "      <td>1996.8</td>\n",
       "      <td>6682.0</td>\n",
       "      <td>2425.0</td>\n",
       "      <td>71.0</td>\n",
       "      <td>53.0</td>\n",
       "      <td>NaN</td>\n",
       "      <td>438569.0</td>\n",
       "      <td>386743.0</td>\n",
       "      <td>84890096.0</td>\n",
       "      <td>71845725.0</td>\n",
       "      <td>13044371.0</td>\n",
       "      <td>3.5</td>\n",
       "      <td>NaN</td>\n",
       "      <td>496051.0</td>\n",
       "      <td>106.0</td>\n",
       "      <td>125.0</td>\n",
       "      <td>1430.0</td>\n",
       "      <td>NaN</td>\n",
       "      <td>7.083333</td>\n",
       "      <td>0.024719</td>\n",
       "      <td>1.147230</td>\n",
       "      <td>4.606631</td>\n",
       "      <td>3641</td>\n",
       "      <td>64.136194</td>\n",
       "      <td>NaN</td>\n",
       "      <td>0.830904</td>\n",
       "    </tr>\n",
       "    <tr>\n",
       "      <th>3</th>\n",
       "      <td>97</td>\n",
       "      <td>1</td>\n",
       "      <td>5</td>\n",
       "      <td>639</td>\n",
       "      <td>7</td>\n",
       "      <td>3</td>\n",
       "      <td>4</td>\n",
       "      <td>133</td>\n",
       "      <td>402</td>\n",
       "      <td>430</td>\n",
       "      <td>4.0</td>\n",
       "      <td>Lamar and Collins St</td>\n",
       "      <td>6566.982036</td>\n",
       "      <td></td>\n",
       "      <td>45.439520</td>\n",
       "      <td>Lamar and Collins St</td>\n",
       "      <td>NaN</td>\n",
       "      <td>3.714286</td>\n",
       "      <td>3.714286</td>\n",
       "      <td>RingBuffer</td>\n",
       "      <td>esriMiles</td>\n",
       "      <td>Miles</td>\n",
       "      <td>1.0</td>\n",
       "      <td>18204.0</td>\n",
       "      <td>5799.1</td>\n",
       "      <td>18722.0</td>\n",
       "      <td>10510.0</td>\n",
       "      <td>905.0</td>\n",
       "      <td>936.0</td>\n",
       "      <td>NaN</td>\n",
       "      <td>362186.0</td>\n",
       "      <td>243822.0</td>\n",
       "      <td>204352523.0</td>\n",
       "      <td>172565979.0</td>\n",
       "      <td>31786544.0</td>\n",
       "      <td>4.5</td>\n",
       "      <td>NaN</td>\n",
       "      <td>418875.0</td>\n",
       "      <td>228.0</td>\n",
       "      <td>845.0</td>\n",
       "      <td>1315.0</td>\n",
       "      <td>NaN</td>\n",
       "      <td>7.333333</td>\n",
       "      <td>0.001256</td>\n",
       "      <td>1.531286</td>\n",
       "      <td>4.861033</td>\n",
       "      <td>6340</td>\n",
       "      <td>62.576728</td>\n",
       "      <td>NaN</td>\n",
       "      <td>0.743863</td>\n",
       "    </tr>\n",
       "    <tr>\n",
       "      <th>4</th>\n",
       "      <td>65</td>\n",
       "      <td>1</td>\n",
       "      <td>3</td>\n",
       "      <td>188</td>\n",
       "      <td>11</td>\n",
       "      <td>0</td>\n",
       "      <td>4</td>\n",
       "      <td>44</td>\n",
       "      <td>192</td>\n",
       "      <td>140</td>\n",
       "      <td>5.0</td>\n",
       "      <td>Gateway/Boundary: SH 360 FWY and E Pioneer Pkwy</td>\n",
       "      <td>11171.806092</td>\n",
       "      <td></td>\n",
       "      <td>51.884581</td>\n",
       "      <td>Gateway/Boundary: SH 360 FWY and E Pioneer Pkwy</td>\n",
       "      <td>NaN</td>\n",
       "      <td>3.428571</td>\n",
       "      <td>3.430000</td>\n",
       "      <td>RingBuffer</td>\n",
       "      <td>esriMiles</td>\n",
       "      <td>Miles</td>\n",
       "      <td>1.0</td>\n",
       "      <td>16369.0</td>\n",
       "      <td>5214.6</td>\n",
       "      <td>16417.0</td>\n",
       "      <td>6569.0</td>\n",
       "      <td>478.0</td>\n",
       "      <td>479.0</td>\n",
       "      <td>NaN</td>\n",
       "      <td>233705.0</td>\n",
       "      <td>205134.0</td>\n",
       "      <td>98758054.0</td>\n",
       "      <td>83160340.0</td>\n",
       "      <td>15597714.0</td>\n",
       "      <td>4.0</td>\n",
       "      <td>NaN</td>\n",
       "      <td>293407.0</td>\n",
       "      <td>127.0</td>\n",
       "      <td>593.0</td>\n",
       "      <td>1248.0</td>\n",
       "      <td>NaN</td>\n",
       "      <td>7.416667</td>\n",
       "      <td>0.000000</td>\n",
       "      <td>0.348636</td>\n",
       "      <td>0.288725</td>\n",
       "      <td>4845</td>\n",
       "      <td>61.243132</td>\n",
       "      <td>NaN</td>\n",
       "      <td>0.000644</td>\n",
       "    </tr>\n",
       "    <tr>\n",
       "      <th>5</th>\n",
       "      <td>175</td>\n",
       "      <td>1</td>\n",
       "      <td>2</td>\n",
       "      <td>309</td>\n",
       "      <td>1</td>\n",
       "      <td>1</td>\n",
       "      <td>0</td>\n",
       "      <td>31</td>\n",
       "      <td>437</td>\n",
       "      <td>32</td>\n",
       "      <td>2.0</td>\n",
       "      <td>Gateway: E Road to Six Flags and Six Flags Dr</td>\n",
       "      <td>6774.866358</td>\n",
       "      <td></td>\n",
       "      <td>53.108891</td>\n",
       "      <td>Gateway: E Road to Six Flags and Six Flags Dr</td>\n",
       "      <td>NaN</td>\n",
       "      <td>4.285714</td>\n",
       "      <td>4.285714</td>\n",
       "      <td>RingBuffer</td>\n",
       "      <td>esriMiles</td>\n",
       "      <td>Miles</td>\n",
       "      <td>1.0</td>\n",
       "      <td>1730.0</td>\n",
       "      <td>551.1</td>\n",
       "      <td>1671.0</td>\n",
       "      <td>856.0</td>\n",
       "      <td>46.0</td>\n",
       "      <td>66.0</td>\n",
       "      <td>NaN</td>\n",
       "      <td>445833.0</td>\n",
       "      <td>293750.0</td>\n",
       "      <td>13749163.0</td>\n",
       "      <td>11588100.0</td>\n",
       "      <td>2161063.0</td>\n",
       "      <td>0.6</td>\n",
       "      <td>NaN</td>\n",
       "      <td>466667.0</td>\n",
       "      <td>258.0</td>\n",
       "      <td>845.0</td>\n",
       "      <td>1325.0</td>\n",
       "      <td>NaN</td>\n",
       "      <td>12.166667</td>\n",
       "      <td>0.014302</td>\n",
       "      <td>0.243234</td>\n",
       "      <td>3.204295</td>\n",
       "      <td>4738</td>\n",
       "      <td>64.743129</td>\n",
       "      <td>NaN</td>\n",
       "      <td>0.569670</td>\n",
       "    </tr>\n",
       "    <tr>\n",
       "      <th>6</th>\n",
       "      <td>52</td>\n",
       "      <td>0</td>\n",
       "      <td>4</td>\n",
       "      <td>486</td>\n",
       "      <td>6</td>\n",
       "      <td>7</td>\n",
       "      <td>2</td>\n",
       "      <td>49</td>\n",
       "      <td>580</td>\n",
       "      <td>255</td>\n",
       "      <td>3.0</td>\n",
       "      <td>S Cooper St at Parks Mall</td>\n",
       "      <td>6851.550711</td>\n",
       "      <td></td>\n",
       "      <td>47.898735</td>\n",
       "      <td>S Cooper St at Parks Mall</td>\n",
       "      <td>NaN</td>\n",
       "      <td>3.857143</td>\n",
       "      <td>3.857143</td>\n",
       "      <td>RingBuffer</td>\n",
       "      <td>esriMiles</td>\n",
       "      <td>Miles</td>\n",
       "      <td>1.0</td>\n",
       "      <td>9784.0</td>\n",
       "      <td>3116.8</td>\n",
       "      <td>9683.0</td>\n",
       "      <td>4169.0</td>\n",
       "      <td>234.0</td>\n",
       "      <td>310.0</td>\n",
       "      <td>NaN</td>\n",
       "      <td>309720.0</td>\n",
       "      <td>264340.0</td>\n",
       "      <td>90907355.0</td>\n",
       "      <td>76779993.0</td>\n",
       "      <td>14127362.0</td>\n",
       "      <td>2.2</td>\n",
       "      <td>NaN</td>\n",
       "      <td>345896.0</td>\n",
       "      <td>199.0</td>\n",
       "      <td>1070.0</td>\n",
       "      <td>1456.0</td>\n",
       "      <td>NaN</td>\n",
       "      <td>11.333333</td>\n",
       "      <td>0.031055</td>\n",
       "      <td>3.616936</td>\n",
       "      <td>1.656529</td>\n",
       "      <td>10681</td>\n",
       "      <td>56.907856</td>\n",
       "      <td>NaN</td>\n",
       "      <td>0.951380</td>\n",
       "    </tr>\n",
       "    <tr>\n",
       "      <th>7</th>\n",
       "      <td>10</td>\n",
       "      <td>1</td>\n",
       "      <td>5</td>\n",
       "      <td>103</td>\n",
       "      <td>2</td>\n",
       "      <td>0</td>\n",
       "      <td>7</td>\n",
       "      <td>36</td>\n",
       "      <td>149</td>\n",
       "      <td>411</td>\n",
       "      <td>7.0</td>\n",
       "      <td>Dr. MLK Dr. adj. to Airport</td>\n",
       "      <td>9253.733242</td>\n",
       "      <td></td>\n",
       "      <td>51.487463</td>\n",
       "      <td>Dr. MLK Dr. adj. to Airport</td>\n",
       "      <td>NaN</td>\n",
       "      <td>3.142857</td>\n",
       "      <td>3.142857</td>\n",
       "      <td>RingBuffer</td>\n",
       "      <td>esriMiles</td>\n",
       "      <td>Miles</td>\n",
       "      <td>1.0</td>\n",
       "      <td>12877.0</td>\n",
       "      <td>4102.1</td>\n",
       "      <td>12503.0</td>\n",
       "      <td>4128.0</td>\n",
       "      <td>74.0</td>\n",
       "      <td>147.0</td>\n",
       "      <td>NaN</td>\n",
       "      <td>285602.0</td>\n",
       "      <td>244726.0</td>\n",
       "      <td>110761056.0</td>\n",
       "      <td>93670628.0</td>\n",
       "      <td>17090428.0</td>\n",
       "      <td>3.8</td>\n",
       "      <td>NaN</td>\n",
       "      <td>342595.0</td>\n",
       "      <td>76.0</td>\n",
       "      <td>186.0</td>\n",
       "      <td>1736.0</td>\n",
       "      <td>NaN</td>\n",
       "      <td>9.166667</td>\n",
       "      <td>0.994194</td>\n",
       "      <td>4.625314</td>\n",
       "      <td>0.000000</td>\n",
       "      <td>5662</td>\n",
       "      <td>64.550663</td>\n",
       "      <td>NaN</td>\n",
       "      <td>0.000000</td>\n",
       "    </tr>\n",
       "  </tbody>\n",
       "</table>\n",
       "</div>"
      ],
      "text/plain": [
       "   NearbyBrownfields  NearbyPolice  NearbyParks  NearbyRestuarants  \\\n",
       "0                109             2            4                408   \n",
       "1                 95             1            6                424   \n",
       "2                  8             1            3                 26   \n",
       "3                 97             1            5                639   \n",
       "4                 65             1            3                188   \n",
       "5                175             1            2                309   \n",
       "6                 52             0            4                486   \n",
       "7                 10             1            5                103   \n",
       "\n",
       "   NearbyGrocery  Nearbyhealthcare  NearbySchools  NewConstructionActivity  \\\n",
       "0             15                 1              8                       80   \n",
       "1             13                 4              4                       61   \n",
       "2              0                 2              4                      182   \n",
       "3              7                 3              4                      133   \n",
       "4             11                 0              4                       44   \n",
       "5              1                 1              0                       31   \n",
       "6              6                 7              2                       49   \n",
       "7              2                 0              7                       36   \n",
       "\n",
       "   NearbyCommercialDevelopment  NearbyResidentialDevelopment  Ranking  \\\n",
       "0                          176                           394      1.0   \n",
       "1                          451                           337      6.0   \n",
       "2                           35                           465      8.0   \n",
       "3                          402                           430      4.0   \n",
       "4                          192                           140      5.0   \n",
       "5                          437                            32      2.0   \n",
       "6                          580                           255      3.0   \n",
       "7                          149                           411      7.0   \n",
       "\n",
       "                                              Location    Shape_Leng Comments  \\\n",
       "0  E Park Row Dr and New York Ave (Shortlist FBC area)   7247.264003            \n",
       "1  S Cooper St and W Pioneer Pkwy (Shortlist FBC area)   5911.284414            \n",
       "2                           W Harris Rd and US 287 FWY   9116.152470            \n",
       "3                                 Lamar and Collins St   6566.982036            \n",
       "4      Gateway/Boundary: SH 360 FWY and E Pioneer Pkwy  11171.806092            \n",
       "5        Gateway: E Road to Six Flags and Six Flags Dr   6774.866358            \n",
       "6                            S Cooper St at Parks Mall   6851.550711            \n",
       "7                          Dr. MLK Dr. adj. to Airport   9253.733242            \n",
       "\n",
       "       Acres                                           Descriptio  Location_1  \\\n",
       "0  50.891592  E Park Row Dr and New York Ave (Shortlist FBC area)         NaN   \n",
       "1  48.888828  S Cooper St and W Pioneer Pkwy (Shortlist FBC area)         NaN   \n",
       "2  49.269876                           W Harris Rd and US 287 FWY         NaN   \n",
       "3  45.439520                                 Lamar and Collins St         NaN   \n",
       "4  51.884581      Gateway/Boundary: SH 360 FWY and E Pioneer Pkwy         NaN   \n",
       "5  53.108891        Gateway: E Road to Six Flags and Six Flags Dr         NaN   \n",
       "6  47.898735                            S Cooper St at Parks Mall         NaN   \n",
       "7  51.487463                          Dr. MLK Dr. adj. to Airport         NaN   \n",
       "\n",
       "      Value  Override    areaType bufferUnits bufferUnit  bufferRadii  \\\n",
       "0  4.428571  4.428571  RingBuffer   esriMiles      Miles          1.0   \n",
       "1  3.428571  3.428571  RingBuffer   esriMiles      Miles          1.0   \n",
       "2  3.142857  3.142857  RingBuffer   esriMiles      Miles          1.0   \n",
       "3  3.714286  3.714286  RingBuffer   esriMiles      Miles          1.0   \n",
       "4  3.428571  3.430000  RingBuffer   esriMiles      Miles          1.0   \n",
       "5  4.285714  4.285714  RingBuffer   esriMiles      Miles          1.0   \n",
       "6  3.857143  3.857143  RingBuffer   esriMiles      Miles          1.0   \n",
       "7  3.142857  3.142857  RingBuffer   esriMiles      Miles          1.0   \n",
       "\n",
       "   2025_Total_Population  2025_Population_Density  2030_Total_Population  \\\n",
       "0                26516.0                   8447.0                25893.0   \n",
       "1                18305.0                   5831.3                18273.0   \n",
       "2                 6268.0                   1996.8                 6682.0   \n",
       "3                18204.0                   5799.1                18722.0   \n",
       "4                16369.0                   5214.6                16417.0   \n",
       "5                 1730.0                    551.1                 1671.0   \n",
       "6                 9784.0                   3116.8                 9683.0   \n",
       "7                12877.0                   4102.1                12503.0   \n",
       "\n",
       "   2025_Total_Housing_Units  2025_Vacant_Housing_Units  \\\n",
       "0                    8833.0                      466.0   \n",
       "1                    8208.0                      849.0   \n",
       "2                    2425.0                       71.0   \n",
       "3                   10510.0                      905.0   \n",
       "4                    6569.0                      478.0   \n",
       "5                     856.0                       46.0   \n",
       "6                    4169.0                      234.0   \n",
       "7                    4128.0                       74.0   \n",
       "\n",
       "   2030_Vacant_Housing_Units  2025_Total_Housing_Units_1  \\\n",
       "0                      585.0                         NaN   \n",
       "1                      887.0                         NaN   \n",
       "2                       53.0                         NaN   \n",
       "3                      936.0                         NaN   \n",
       "4                      479.0                         NaN   \n",
       "5                       66.0                         NaN   \n",
       "6                      310.0                         NaN   \n",
       "7                      147.0                         NaN   \n",
       "\n",
       "   2025_Median_Home_Value  2023_Median_Home_Value__ACS_5_Yr_  \\\n",
       "0                196409.0                           189692.0   \n",
       "1                270710.0                           231597.0   \n",
       "2                438569.0                           386743.0   \n",
       "3                362186.0                           243822.0   \n",
       "4                233705.0                           205134.0   \n",
       "5                445833.0                           293750.0   \n",
       "6                309720.0                           264340.0   \n",
       "7                285602.0                           244726.0   \n",
       "\n",
       "   2025_NAICS_44_45_722_Expenditures  2025_NAICS_44_45_Expenditures  \\\n",
       "0                        139745867.0                    117668034.0   \n",
       "1                        161989548.0                    136940185.0   \n",
       "2                         84890096.0                     71845725.0   \n",
       "3                        204352523.0                    172565979.0   \n",
       "4                         98758054.0                     83160340.0   \n",
       "5                         13749163.0                     11588100.0   \n",
       "6                         90907355.0                     76779993.0   \n",
       "7                        110761056.0                     93670628.0   \n",
       "\n",
       "   2025_NAICS_722_Expenditures  2025_Unemployment_Rate  \\\n",
       "0                   22077833.0                     4.1   \n",
       "1                   25049363.0                     5.0   \n",
       "2                   13044371.0                     3.5   \n",
       "3                   31786544.0                     4.5   \n",
       "4                   15597714.0                     4.0   \n",
       "5                    2161063.0                     0.6   \n",
       "6                   14127362.0                     2.2   \n",
       "7                   17090428.0                     3.8   \n",
       "\n",
       "   2025_Median_Home_Value_1  2030_Median_Home_Value  2024_Total_Crime_Index  \\\n",
       "0                       NaN                265301.0                   104.0   \n",
       "1                       NaN                320594.0                   159.0   \n",
       "2                       NaN                496051.0                   106.0   \n",
       "3                       NaN                418875.0                   228.0   \n",
       "4                       NaN                293407.0                   127.0   \n",
       "5                       NaN                466667.0                   258.0   \n",
       "6                       NaN                345896.0                   199.0   \n",
       "7                       NaN                342595.0                    76.0   \n",
       "\n",
       "   2025_Total_Businesses__NAICS_  2025_Median_Monthly_Contract_Rent  \\\n",
       "0                          396.0                             1267.0   \n",
       "1                         1118.0                             1366.0   \n",
       "2                          125.0                             1430.0   \n",
       "3                          845.0                             1315.0   \n",
       "4                          593.0                             1248.0   \n",
       "5                          845.0                             1325.0   \n",
       "6                         1070.0                             1456.0   \n",
       "7                          186.0                             1736.0   \n",
       "\n",
       "   Ranking_1  WalkabilityIndex  DistanceToHighway  DistanceToRegionalRail  \\\n",
       "0        NaN          7.966667           0.404905                1.124177   \n",
       "1        NaN          6.952381           0.000000                1.885454   \n",
       "2        NaN          7.083333           0.024719                1.147230   \n",
       "3        NaN          7.333333           0.001256                1.531286   \n",
       "4        NaN          7.416667           0.000000                0.348636   \n",
       "5        NaN         12.166667           0.014302                0.243234   \n",
       "6        NaN         11.333333           0.031055                3.616936   \n",
       "7        NaN          9.166667           0.994194                4.625314   \n",
       "\n",
       "   DistanceToAirport  Avg5yrTraffic  StreetCondition  Ranking_12  \\\n",
       "0           1.911533           6671        60.462982         NaN   \n",
       "1           2.376831          10543        55.963405         NaN   \n",
       "2           4.606631           3641        64.136194         NaN   \n",
       "3           4.861033           6340        62.576728         NaN   \n",
       "4           0.288725           4845        61.243132         NaN   \n",
       "5           3.204295           4738        64.743129         NaN   \n",
       "6           1.656529          10681        56.907856         NaN   \n",
       "7           0.000000           5662        64.550663         NaN   \n",
       "\n",
       "   TotalZoningAcres  \n",
       "0          0.882877  \n",
       "1          0.661347  \n",
       "2          0.830904  \n",
       "3          0.743863  \n",
       "4          0.000644  \n",
       "5          0.569670  \n",
       "6          0.951380  \n",
       "7          0.000000  "
      ]
     },
     "execution_count": 6,
     "metadata": {},
     "output_type": "execute_result"
    }
   ],
   "source": [
    "Data = pd.read_csv('ArlingtonMarketReadiness.csv')\n",
    "Data"
   ]
  },
  {
   "cell_type": "code",
   "execution_count": 7,
   "id": "e9aaf835",
   "metadata": {},
   "outputs": [
    {
     "data": {
      "text/plain": [
       "Index(['NearbyBrownfields', 'NearbyPolice', 'NearbyParks', 'NearbyRestuarants',\n",
       "       'NearbyGrocery', 'Nearbyhealthcare', 'NearbySchools',\n",
       "       'NewConstructionActivity', 'NearbyCommercialDevelopment',\n",
       "       'NearbyResidentialDevelopment', 'Ranking', 'Location', 'Shape_Leng',\n",
       "       'Comments', 'Acres', 'Descriptio', 'Location_1', 'Value', 'Override',\n",
       "       'areaType', 'bufferUnits', 'bufferUnit', 'bufferRadii',\n",
       "       '2025_Total_Population', '2025_Population_Density',\n",
       "       '2030_Total_Population', '2025_Total_Housing_Units',\n",
       "       '2025_Vacant_Housing_Units', '2030_Vacant_Housing_Units',\n",
       "       '2025_Total_Housing_Units_1', '2025_Median_Home_Value',\n",
       "       '2023_Median_Home_Value__ACS_5_Yr_',\n",
       "       '2025_NAICS_44_45_722_Expenditures', '2025_NAICS_44_45_Expenditures',\n",
       "       '2025_NAICS_722_Expenditures', '2025_Unemployment_Rate',\n",
       "       '2025_Median_Home_Value_1', '2030_Median_Home_Value',\n",
       "       '2024_Total_Crime_Index', '2025_Total_Businesses__NAICS_',\n",
       "       '2025_Median_Monthly_Contract_Rent', 'Ranking_1', 'WalkabilityIndex',\n",
       "       'DistanceToHighway', 'DistanceToRegionalRail', 'DistanceToAirport',\n",
       "       'Avg5yrTraffic', 'StreetCondition', 'Ranking_12', 'TotalZoningAcres'],\n",
       "      dtype='object')"
      ]
     },
     "execution_count": 7,
     "metadata": {},
     "output_type": "execute_result"
    }
   ],
   "source": [
    "Data.columns"
   ]
  },
  {
   "cell_type": "markdown",
   "id": "78723a75",
   "metadata": {},
   "source": [
    "## Scoring "
   ]
  },
  {
   "cell_type": "code",
   "execution_count": 8,
   "id": "05dfdeab",
   "metadata": {},
   "outputs": [
    {
     "data": {
      "text/plain": [
       "Index(['NearbyBrownfields', 'NearbyPolice', 'NearbyParks', 'NearbyRestuarants',\n",
       "       'NearbyGrocery', 'Nearbyhealthcare', 'NearbySchools',\n",
       "       'NewConstructionActivity', 'NearbyCommercialDevelopment',\n",
       "       'NearbyResidentialDevelopment', 'Ranking', 'Location', 'Shape_Leng',\n",
       "       'Comments', 'Acres', 'Descriptio', 'Location_1', 'Value', 'Override',\n",
       "       'areaType', 'bufferUnits', 'bufferUnit', 'bufferRadii',\n",
       "       '2025_Total_Population', '2025_Population_Density',\n",
       "       '2030_Total_Population', '2025_Total_Housing_Units',\n",
       "       '2025_Vacant_Housing_Units', '2030_Vacant_Housing_Units',\n",
       "       '2025_Total_Housing_Units_1', '2025_Median_Home_Value',\n",
       "       '2023_Median_Home_Value__ACS_5_Yr_',\n",
       "       '2025_NAICS_44_45_722_Expenditures', '2025_NAICS_44_45_Expenditures',\n",
       "       '2025_NAICS_722_Expenditures', '2025_Unemployment_Rate',\n",
       "       '2025_Median_Home_Value_1', '2030_Median_Home_Value',\n",
       "       '2024_Total_Crime_Index', '2025_Total_Businesses__NAICS_',\n",
       "       '2025_Median_Monthly_Contract_Rent', 'Ranking_1', 'WalkabilityIndex',\n",
       "       'DistanceToHighway', 'DistanceToRegionalRail', 'DistanceToAirport',\n",
       "       'Avg5yrTraffic', 'StreetCondition', 'Ranking_12', 'TotalZoningAcres'],\n",
       "      dtype='object')"
      ]
     },
     "execution_count": 8,
     "metadata": {},
     "output_type": "execute_result"
    }
   ],
   "source": [
    "Data = pd.read_csv('ArlingtonMarketReadiness.csv')\n",
    "Data.columns"
   ]
  },
  {
   "cell_type": "markdown",
   "id": "b38d80c1",
   "metadata": {},
   "source": [
    "### Criteria for group"
   ]
  },
  {
   "cell_type": "code",
   "execution_count": 9,
   "id": "5c7c9c62",
   "metadata": {},
   "outputs": [],
   "source": [
    "criteria = [\n",
    "    # Access group (10 criteria) - each gets 1/10 = 0.10\n",
    "    (\"NearbySchools\", \"Access\", 0.10, \"benefit\"),\n",
    "    (\"NearbyRestuarants\", \"Access\", 0.10, \"benefit\"),\n",
    "    (\"NearbyGrocery\", \"Access\", 0.10, \"benefit\"),\n",
    "    (\"WalkabilityIndex\", \"Access\", 0.10, \"benefit\"),\n",
    "    (\"NearbyParks\", \"Access\", 0.10, \"benefit\"),\n",
    "    (\"Nearbyhealthcare\", \"Access\", 0.10, \"benefit\"),\n",
    "    (\"DistanceToHighway\", \"Access\", 0.10, \"cost\"),  \n",
    "    (\"DistanceToRegionalRail\", \"Access\", 0.10, \"cost\"), \n",
    "    (\"DistanceToAirport\", \"Access\", 0.10, \"cost\"),  \n",
    "    (\"2024 Total Crime Index\", \"Access\", 0.10, \"cost\"),\n",
    "    \n",
    "    # Market group (10 criteria) - each gets 1/10 = 0.10\n",
    "    (\"NewConstructionActivity\", \"Market\", 0.10, \"benefit\"),\n",
    "    (\"NearbyCommercialDevelopment\", \"Market\", 0.10, \"benefit\"),\n",
    "    (\"2025_NAICS_44_45_722_Expenditures\", \"Market\", 0.10, \"benefit\"),\n",
    "    (\"NearbyResidentialDevelopment\", \"Market\", 0.10, \"benefit\"),\n",
    "    (\"2025_Unemployment_Rate\", \"Market\", 0.10, \"cost\"),\n",
    "    (\"2030_Total_Population\", \"Market\", 0.10, \"benefit\"),\n",
    "    (\"2025_Median_Home_Value\", \"Market\", 0.10, \"benefit\"),\n",
    "    (\"2025 Total Businesses (NAICS)\", \"Market\", 0.10, \"benefit\"),\n",
    "    (\"2025 Vacant Housing Units\", \"Market\", 0.10, \"cost\"),  # Note: changed to cost\n",
    "    (\"2025 Median Monthly Contract Rent\", \"Market\", 0.10, \"benefit\"),\n",
    "    \n",
    "    # Infra group (3 criteria) - each gets 1/3 = 0.333\n",
    "    (\"StreetCondition\", \"Infra\", 0.333, \"benefit\"),\n",
    "    (\"Avg5yrTraffic\", \"Infra\", 0.333, \"benefit\"),\n",
    "    (\"NearbyPolice\", \"Infra\", 0.334, \"benefit\"),  # Slightly higher to sum to 1.0\n",
    "    \n",
    "    # Reg group (2 criteria) - each gets 1/2 = 0.50\n",
    "    (\"TotalZoningAcres\", \"Reg\", 0.50, \"benefit\"),\n",
    "    (\"NearbyBrownfields\", \"Reg\", 0.50, \"cost\"),\n",
    "]"
   ]
  },
  {
   "cell_type": "markdown",
   "id": "63fc01c4",
   "metadata": {},
   "source": [
    "## Map fields to data"
   ]
  },
  {
   "cell_type": "code",
   "execution_count": 10,
   "id": "bb006fca",
   "metadata": {},
   "outputs": [
    {
     "name": "stdout",
     "output_type": "stream",
     "text": [
      "Manual mapped '2024 Total Crime Index' -> '2024_Total_Crime_Index'\n",
      "Manual mapped '2025 Total Businesses (NAICS)' -> '2025_Total_Businesses__NAICS_'\n",
      "Manual mapped '2025 Vacant Housing Units' -> '2025_Vacant_Housing_Units'\n",
      "Manual mapped '2025 Median Monthly Contract Rent' -> '2025_Median_Monthly_Contract_Rent'\n"
     ]
    }
   ],
   "source": [
    "# Manual mapping for known mismatches\n",
    "manual_mapping = {\n",
    "    \"2024 Total Crime Index\": \"2024_Total_Crime_Index\",\n",
    "    \"2025 Total Businesses (NAICS)\": \"2025_Total_Businesses__NAICS_\",\n",
    "    \"2025 Vacant Housing Units\": \"2025_Vacant_Housing_Units\", \n",
    "    \"2025 Median Monthly Contract Rent\": \"2025_Median_Monthly_Contract_Rent\"\n",
    "}\n",
    "\n",
    "field_mapping = {}\n",
    "missing_fields = []\n",
    "\n",
    "for fld, group, weight, direction in criteria:\n",
    "    # Check manual mapping first\n",
    "    if fld in manual_mapping and manual_mapping[fld] in Data.columns:\n",
    "        field_mapping[fld] = manual_mapping[fld]\n",
    "        print(f\"Manual mapped '{fld}' -> '{manual_mapping[fld]}'\")\n",
    "    # Try exact match\n",
    "    elif fld in Data.columns:\n",
    "        field_mapping[fld] = fld\n",
    "    else:\n",
    "        # Try partial matching for truncated names\n",
    "        matched = False\n",
    "        for col in Data.columns:\n",
    "            # More flexible matching\n",
    "            if (col.replace(\"_\", \" \").replace(\"__\", \" \").lower().startswith(fld[:15].lower()) or \n",
    "                fld.replace(\" \", \"_\").lower().startswith(col[:15].lower()) or\n",
    "                col.replace(\"_\", \"\").replace(\" \", \"\").lower() in fld.replace(\" \", \"\").replace(\"(\", \"\").replace(\")\", \"\").lower()):\n",
    "                field_mapping[fld] = col\n",
    "                matched = True\n",
    "                print(f\"Pattern mapped '{fld}' -> '{col}'\")\n",
    "                break\n",
    "        \n",
    "        if not matched:\n",
    "            missing_fields.append(fld)\n",
    "            print(f\"Warning: Could not find column for '{fld}'\")\n",
    "\n",
    "if missing_fields:\n",
    "    print(f\"\\nMissing fields: {missing_fields}\")\n",
    "    # Filter out missing criteria\n",
    "    criteria = [(fld, group, weight, direction) for fld, group, weight, direction in criteria \n",
    "               if fld not in missing_fields]\n",
    "    print(f\"Proceeding with {len(criteria)} criteria\")"
   ]
  },
  {
   "cell_type": "markdown",
   "id": "cec816e4",
   "metadata": {},
   "source": [
    "## Calculate percentiles "
   ]
  },
  {
   "cell_type": "code",
   "execution_count": 11,
   "id": "5a23a87a",
   "metadata": {},
   "outputs": [
    {
     "name": "stdout",
     "output_type": "stream",
     "text": [
      "\n",
      "Calculating percentiles for standardization...\n",
      "NearbySchools: P5=0.70, P95=7.65, n=8\n",
      "NearbyRestuarants: P5=52.95, P95=585.45, n=8\n",
      "NearbyGrocery: P5=0.35, P95=14.30, n=8\n",
      "WalkabilityIndex: P5=7.00, P95=11.88, n=8\n",
      "NearbyParks: P5=2.35, P95=5.65, n=8\n",
      "Nearbyhealthcare: P5=0.00, P95=5.95, n=8\n",
      "DistanceToHighway: P5=0.00, P95=0.79, n=8\n",
      "DistanceToRegionalRail: P5=0.28, P95=4.27, n=8\n",
      "DistanceToAirport: P5=0.10, P95=4.77, n=8\n",
      "2024_Total_Crime_Index: P5=85.80, P95=247.50, n=8\n",
      "NewConstructionActivity: P5=32.75, P95=164.85, n=8\n",
      "NearbyCommercialDevelopment: P5=74.90, P95=534.85, n=8\n",
      "2025_NAICS_44_45_722_Expenditures: P5=38648489.55, P95=189525481.75, n=8\n",
      "NearbyResidentialDevelopment: P5=69.80, P95=452.75, n=8\n",
      "2025_Unemployment_Rate: P5=1.16, P95=4.82, n=8\n",
      "2030_Total_Population: P5=3424.85, P95=23383.15, n=8\n",
      "2025_Median_Home_Value: P5=209462.60, P95=443290.60, n=8\n",
      "2025_Total_Businesses__NAICS_: P5=146.35, P95=1101.20, n=8\n",
      "2025_Vacant_Housing_Units: P5=54.75, P95=885.40, n=8\n",
      "2025_Median_Monthly_Contract_Rent: P5=1254.65, P95=1638.00, n=8\n",
      "StreetCondition: P5=56.29, P95=64.68, n=8\n",
      "Avg5yrTraffic: P5=4024.95, P95=10632.70, n=8\n",
      "NearbyPolice: P5=0.35, P95=1.65, n=8\n",
      "TotalZoningAcres: P5=0.00, P95=0.93, n=8\n",
      "NearbyBrownfields: P5=8.70, P95=151.90, n=8\n"
     ]
    }
   ],
   "source": [
    "# --- 3. Calculate percentiles for standardization ---\n",
    "print(\"\\nCalculating percentiles for standardization...\")\n",
    "stats = {}\n",
    "\n",
    "for fld, group, weight, direction in criteria:\n",
    "    actual_field = field_mapping[fld]\n",
    "    clean_vals = Data[actual_field].dropna()\n",
    "    \n",
    "    if len(clean_vals) > 0:\n",
    "        p5, p95 = np.percentile(clean_vals, [5, 95])\n",
    "        stats[fld] = (p5, p95)\n",
    "        print(f\"{actual_field}: P5={p5:.2f}, P95={p95:.2f}, n={len(clean_vals)}\")\n",
    "    else:\n",
    "        stats[fld] = (0, 1)\n",
    "        print(f\"Warning: No valid values for {actual_field}\")\n"
   ]
  },
  {
   "cell_type": "markdown",
   "id": "ebf28074",
   "metadata": {},
   "source": [
    "### Standardization "
   ]
  },
  {
   "cell_type": "code",
   "execution_count": 12,
   "id": "29542c72",
   "metadata": {},
   "outputs": [
    {
     "name": "stdout",
     "output_type": "stream",
     "text": [
      "Standardized NearbySchools -> STD_NearbySchools (benefit)\n",
      "Standardized NearbyRestuarants -> STD_NearbyRestuaran (benefit)\n",
      "Standardized NearbyGrocery -> STD_NearbyGrocery (benefit)\n",
      "Standardized WalkabilityIndex -> STD_WalkabilityInde (benefit)\n",
      "Standardized NearbyParks -> STD_NearbyParks (benefit)\n",
      "Standardized Nearbyhealthcare -> STD_Nearbyhealthcar (benefit)\n",
      "Standardized DistanceToHighway -> STD_DistanceToHighw (cost)\n",
      "Standardized DistanceToRegionalRail -> STD_DistanceToRegio (cost)\n",
      "Standardized DistanceToAirport -> STD_DistanceToAirpo (cost)\n",
      "Standardized 2024_Total_Crime_Index -> STD_2024_Total_Crim (cost)\n",
      "Standardized NewConstructionActivity -> STD_NewConstruction (benefit)\n",
      "Standardized NearbyCommercialDevelopment -> STD_NearbyCommercia (benefit)\n",
      "Standardized 2025_NAICS_44_45_722_Expenditures -> STD_2025_NAICS_44_4 (benefit)\n",
      "Standardized NearbyResidentialDevelopment -> STD_NearbyResidenti (benefit)\n",
      "Standardized 2025_Unemployment_Rate -> STD_2025_Unemployme (cost)\n",
      "Standardized 2030_Total_Population -> STD_2030_Total_Popu (benefit)\n",
      "Standardized 2025_Median_Home_Value -> STD_2025_Median_Hom (benefit)\n",
      "Standardized 2025_Total_Businesses__NAICS_ -> STD_2025_Total_Busi (benefit)\n",
      "Standardized 2025_Vacant_Housing_Units -> STD_2025_Vacant_Hou (cost)\n",
      "Standardized 2025_Median_Monthly_Contract_Rent -> STD_2025_Median_Mon (benefit)\n",
      "Standardized StreetCondition -> STD_StreetCondition (benefit)\n",
      "Standardized Avg5yrTraffic -> STD_Avg5yrTraffic (benefit)\n",
      "Standardized NearbyPolice -> STD_NearbyPolice (benefit)\n",
      "Standardized TotalZoningAcres -> STD_TotalZoningAcre (benefit)\n",
      "Standardized NearbyBrownfields -> STD_NearbyBrownfiel (cost)\n"
     ]
    }
   ],
   "source": [
    "for fld, group, weight, direction in criteria:\n",
    "    actual_field = field_mapping[fld]\n",
    "    p5, p95 = stats[fld]\n",
    "    \n",
    "    # Create standardized column name\n",
    "    std_col_name = f\"STD_{fld.replace(' ', '_').replace('(', '').replace(')', '')[:15]}\"\n",
    "    \n",
    "    # Get the raw values\n",
    "    raw_values = Data[actual_field]\n",
    "    \n",
    "    # Standardize based on direction\n",
    "    if p95 == p5:\n",
    "        # Avoid division by zero\n",
    "        Data[std_col_name] = 0.5\n",
    "    else:\n",
    "        # Clip to percentile range\n",
    "        clipped_values = raw_values.clip(lower=p5, upper=p95)\n",
    "        \n",
    "        if direction == \"benefit\":\n",
    "            # Higher values are better\n",
    "            standardized = (clipped_values - p5) / (p95 - p5)\n",
    "        else:  # cost\n",
    "            # Lower values are better\n",
    "            standardized = (p95 - clipped_values) / (p95 - p5)\n",
    "        \n",
    "        # Ensure values are between 0 and 1\n",
    "        Data[std_col_name] = standardized.clip(0, 1)\n",
    "    \n",
    "    print(f\"Standardized {actual_field} -> {std_col_name} ({direction})\")"
   ]
  },
  {
   "cell_type": "markdown",
   "id": "75f32a72",
   "metadata": {},
   "source": [
    "#### Create Group Scoring"
   ]
  },
  {
   "cell_type": "code",
   "execution_count": 13,
   "id": "dea59bfa",
   "metadata": {},
   "outputs": [
    {
     "name": "stdout",
     "output_type": "stream",
     "text": [
      "\n",
      "Calculating weighted group scores...\n",
      "Group Access: 10 weighted criteria -> Access_Score\n",
      "Group Market: 10 weighted criteria -> Market_Score\n",
      "Group Infra: 3 weighted criteria -> Infra_Score\n",
      "Group Reg: 2 weighted criteria -> Reg_Score\n"
     ]
    }
   ],
   "source": [
    "# --- 5. Calculate weighted group scores ---\n",
    "print(\"\\nCalculating weighted group scores...\")\n",
    "\n",
    "# Group criteria by category with their weights\n",
    "criteria_by_group = {}\n",
    "for fld, group, weight, direction in criteria:\n",
    "    if group not in criteria_by_group:\n",
    "        criteria_by_group[group] = []\n",
    "    criteria_by_group[group].append((fld, weight))\n",
    "\n",
    "# Calculate weighted group scores (not simple means)\n",
    "for group, group_criteria in criteria_by_group.items():\n",
    "    group_score_col = f\"{group}_Score\"\n",
    "    Data[group_score_col] = 0.0\n",
    "    total_group_weight = 0.0\n",
    "    \n",
    "    # Add weighted contributions from each criterion\n",
    "    for fld, weight in group_criteria:\n",
    "        std_col_name = f\"STD_{fld.replace(' ', '_').replace('(', '').replace(')', '')[:15]}\"\n",
    "        if std_col_name in Data.columns:\n",
    "            Data[group_score_col] += Data[std_col_name].fillna(0) * weight\n",
    "            total_group_weight += weight\n",
    "    \n",
    "    # Normalize by total weight if needed (in case weights don't sum to 1.0)\n",
    "    if total_group_weight > 0 and abs(total_group_weight - 1.0) > 0.01:\n",
    "        Data[group_score_col] = Data[group_score_col] / total_group_weight\n",
    "        print(f\"Group {group}: {len(group_criteria)} weighted criteria -> {group_score_col} (normalized by {total_group_weight:.3f})\")\n",
    "    else:\n",
    "        print(f\"Group {group}: {len(group_criteria)} weighted criteria -> {group_score_col}\")"
   ]
  },
  {
   "cell_type": "code",
   "execution_count": 14,
   "id": "2f5e8585",
   "metadata": {},
   "outputs": [
    {
     "name": "stdout",
     "output_type": "stream",
     "text": [
      "\n",
      "Calculating final composite score...\n",
      "Added Access_Score with weight 0.3\n",
      "Added Market_Score with weight 0.4\n",
      "Added Infra_Score with weight 0.2\n",
      "Added Reg_Score with weight 0.1\n",
      "\n",
      "Calculating rankings...\n"
     ]
    }
   ],
   "source": [
    "# --- 6. Calculate final composite score using group weights ---\n",
    "print(\"\\nCalculating final composite score...\")\n",
    "group_weights = {\"Access\": 0.30, \"Market\": 0.40, \"Infra\": 0.20, \"Reg\": 0.10}\n",
    "Data['FinalScore'] = 0.0\n",
    "\n",
    "for group, weight in group_weights.items():\n",
    "    score_col = f\"{group}_Score\"\n",
    "    if score_col in Data.columns:\n",
    "        Data['FinalScore'] += Data[score_col].fillna(0) * weight\n",
    "        print(f\"Added {group}_Score with weight {weight}\")\n",
    "\n",
    "# --- 7. Calculate rankings ---\n",
    "print(\"\\nCalculating rankings...\")\n",
    "Data['ScoreRanking'] = Data['FinalScore'].rank(method='dense', ascending=False).astype(int)"
   ]
  },
  {
   "cell_type": "code",
   "execution_count": 15,
   "id": "618ea9a4",
   "metadata": {},
   "outputs": [
    {
     "name": "stdout",
     "output_type": "stream",
     "text": [
      "\n",
      "Results saved to: ArlingtonMarketReadiness.xlsx\n",
      "Output contains 32 columns:\n",
      "  - 25 criteria fields\n",
      "  - 4 sub-score columns (Access_Score, Market_Score, Infra_Score, Reg_Score)\n",
      "  - 1 final score column\n",
      "\n",
      "Columns included:\n",
      "Criteria: ['NearbySchools', 'NearbyRestuarants', 'NearbyGrocery', 'WalkabilityIndex', 'NearbyParks', 'Nearbyhealthcare', 'DistanceToHighway', 'DistanceToRegionalRail', 'DistanceToAirport', '2024_Total_Crime_Index', 'NewConstructionActivity', 'NearbyCommercialDevelopment', '2025_NAICS_44_45_722_Expenditures', 'NearbyResidentialDevelopment', '2025_Unemployment_Rate', '2030_Total_Population', '2025_Median_Home_Value', '2025_Total_Businesses__NAICS_', '2025_Vacant_Housing_Units', '2025_Median_Monthly_Contract_Rent', 'StreetCondition', 'Avg5yrTraffic', 'NearbyPolice', 'TotalZoningAcres', 'NearbyBrownfields']\n",
      "Sub-scores: ['ScoreRanking', 'Ranking', 'Access_Score', 'Market_Score', 'Infra_Score', 'Reg_Score']\n",
      "Final: FinalScore\n",
      "\n",
      "Analysis complete!\n",
      "\n",
      "First 10 rows with scores:\n",
      "   Access_Score  Market_Score  Infra_Score  Reg_Score  FinalScore\n",
      "0      0.630795      0.409053     0.632979   0.625778    0.542034\n",
      "1      0.640869      0.488697     0.495480   0.555197    0.542355\n",
      "2      0.368729      0.524887     0.478563   0.947960    0.511082\n",
      "3      0.513307      0.580804     0.533275   0.592711    0.552240\n",
      "4      0.546252      0.285944     0.404952   0.303648    0.389608\n",
      "5      0.401298      0.470246     0.535934   0.307084    0.446383\n",
      "6      0.588593      0.568832     0.357389   0.848813    0.560470\n",
      "7      0.436642      0.463314     0.577530   0.495461    0.481370\n"
     ]
    }
   ],
   "source": [
    "original_fields = []\n",
    "for fld, group, weight, direction in criteria:\n",
    "    if fld in field_mapping:\n",
    "        original_fields.append(field_mapping[fld])\n",
    "\n",
    "# Add sub-scores and final score\n",
    "sub_score_columns = ['ScoreRanking','Ranking','Access_Score', 'Market_Score', 'Infra_Score', 'Reg_Score']\n",
    "output_columns = original_fields + sub_score_columns + ['FinalScore']\n",
    "\n",
    "# Filter to only existing columns\n",
    "existing_output_columns = [col for col in output_columns if col in Data.columns]\n",
    "\n",
    "# Save filtered dataset\n",
    "output_file = 'ArlingtonMarketReadiness.xlsx'\n",
    "Data[existing_output_columns].to_excel(output_file, index=False)\n",
    "print(f\"\\nResults saved to: {output_file}\")\n",
    "print(f\"Output contains {len(existing_output_columns)} columns:\")\n",
    "print(f\"  - {len(original_fields)} criteria fields\")\n",
    "print(f\"  - 4 sub-score columns (Access_Score, Market_Score, Infra_Score, Reg_Score)\")\n",
    "print(f\"  - 1 final score column\")\n",
    "\n",
    "print(\"\\nColumns included:\")\n",
    "print(f\"Criteria: {[col for col in existing_output_columns if col in original_fields]}\")\n",
    "print(f\"Sub-scores: {[col for col in existing_output_columns if col in sub_score_columns]}\")\n",
    "print(f\"Final: FinalScore\")\n",
    "\n",
    "print(\"\\nAnalysis complete!\")\n",
    "\n",
    "# Display first 10 rows with scores for verification\n",
    "print(\"\\nFirst 10 rows with scores:\")\n",
    "score_display_cols = ['Access_Score', 'Market_Score', 'Infra_Score', 'Reg_Score', 'FinalScore']\n",
    "available_score_cols = [col for col in score_display_cols if col in Data.columns]\n",
    "print(Data[available_score_cols].head(10).to_string(index=True))"
   ]
  },
  {
   "cell_type": "code",
   "execution_count": 16,
   "id": "42e7e7f8",
   "metadata": {},
   "outputs": [
    {
     "data": {
      "text/html": [
       "<div class='gpresult'><h2>Messages</h2><div id='messages' data-messages='[\"Start Time: Monday, September 8, 2025 5:14:02 PM\",\"Succeeded at Monday, September 8, 2025 5:14:04 PM (Elapsed Time: 1.07 seconds)\"]' data-show='true'><div id = 'default' /></div></div>"
      ],
      "text/plain": [
       "<Result 'C:\\\\Users\\\\Thepr\\\\Documents\\\\Consulting\\\\Market Readiness\\\\Market Readiness.gdb\\\\ArlingtonMarketReadinessFinalScore'>"
      ]
     },
     "execution_count": 16,
     "metadata": {},
     "output_type": "execute_result"
    }
   ],
   "source": [
    "arcpy.conversion.ExportTable(\"ArlingtonMarketReadiness.xlsx\",\"ArlingtonMarketReadinessFinalScore\",\"\",\n",
    "                             \"NOT_USE_ALIAS\",\"\",None)"
   ]
  },
  {
   "cell_type": "code",
   "execution_count": 19,
   "id": "4054e57b",
   "metadata": {},
   "outputs": [
    {
     "data": {
      "text/html": [
       "<div class='gpresult'><h2>Messages</h2><div id='messages' data-messages='[\"Start Time: Monday, September 8, 2025 5:17:51 PM\",\"Succeeded at Monday, September 8, 2025 5:17:52 PM (Elapsed Time: 0.97 seconds)\"]' data-show='true'><div id = 'default' /></div></div>"
      ],
      "text/plain": [
       "<Result 'C:\\\\Users\\\\Thepr\\\\Documents\\\\Consulting\\\\Market Readiness\\\\Market Readiness.gdb\\\\ArlingtonMarketReadinessScore'>"
      ]
     },
     "execution_count": 19,
     "metadata": {},
     "output_type": "execute_result"
    }
   ],
   "source": [
    "excel_sheet = r\"ArlingtonMarketReadiness.xlsx\\Sheet1$\"\n",
    "\n",
    "# Export Excel sheet into a table\n",
    "arcpy.conversion.ExportTable(excel_sheet, \"ArlingtonMarketReadinessFinalScore\", \"\", \"NOT_USE_ALIAS\",\"\", None)\n",
    "\n",
    "# Create field mapping\n",
    "fieldmapping = arcpy.FieldMappings()\n",
    "fieldmapping.addTable(\"ArlingtonMarketReadinessPG\")\n",
    "fieldmapping.addTable(\"ArlingtonMarketReadinessFinalScore\")\n",
    "\n",
    "# Join PG to exported table\n",
    "Assessment = arcpy.management.AddJoin(\"ArlingtonMarketReadinessPG\",\"Ranking\",\"ArlingtonMarketReadinessFinalScore\",\n",
    "                                      \"Ranking\", \"KEEP_ALL\",\"NO_INDEX_JOIN_FIELDS\",\"NO_REBUILD_INDEX\")\n",
    "\n",
    "# Export joined features\n",
    "arcpy.conversion.ExportFeatures( Assessment, \"ArlingtonMarketReadinessScore\", \"\", \"NOT_USE_ALIAS\", fieldmapping,\n",
    "    None)"
   ]
  },
  {
   "cell_type": "code",
   "execution_count": 21,
   "id": "9634f446",
   "metadata": {
    "collapsed": true
   },
   "outputs": [
    {
     "data": {
      "text/plain": [
       "['OBJECTID',\n",
       " 'Shape',\n",
       " 'Shape_Leng',\n",
       " 'Comments',\n",
       " 'Acres',\n",
       " 'Descriptio',\n",
       " 'Location',\n",
       " 'Override',\n",
       " 'NearbySchools',\n",
       " 'NearbyRestuarants',\n",
       " 'NearbyGrocery',\n",
       " 'WalkabilityIndex',\n",
       " 'NearbyParks',\n",
       " 'Nearbyhealthcare',\n",
       " 'DistanceToHighway',\n",
       " 'DistanceToRegionalRail',\n",
       " 'DistanceToAirport',\n",
       " 'F2024_Total_Crime_Index',\n",
       " 'NewConstructionActivity',\n",
       " 'NearbyCommercialDevelopment',\n",
       " 'F2025_NAICS_44_45_722_Expenditu',\n",
       " 'NearbyResidentialDevelopment',\n",
       " 'F2025_Unemployment_Rate',\n",
       " 'F2030_Total_Population',\n",
       " 'F2025_Median_Home_Value',\n",
       " 'F2025_Total_Businesses__NAICS_',\n",
       " 'F2025_Vacant_Housing_Units',\n",
       " 'F2025_Median_Monthly_Contract_R',\n",
       " 'StreetCondition',\n",
       " 'Avg5yrTraffic',\n",
       " 'NearbyPolice',\n",
       " 'TotalZoningAcres',\n",
       " 'NearbyBrownfields',\n",
       " 'ScoreRanking',\n",
       " 'Access_Score',\n",
       " 'Market_Score',\n",
       " 'Infra_Score',\n",
       " 'Reg_Score',\n",
       " 'FinalScore',\n",
       " 'Shape_Length',\n",
       " 'Shape_Area']"
      ]
     },
     "execution_count": 21,
     "metadata": {},
     "output_type": "execute_result"
    }
   ],
   "source": [
    "table_fields = [f.name for f in arcpy.ListFields('ArlingtonMarketReadinessScore') if f.name !='Ranking']\n",
    "table_fields"
   ]
  },
  {
   "cell_type": "code",
   "execution_count": 27,
   "id": "c8399e8f",
   "metadata": {},
   "outputs": [],
   "source": [
    "# Inputs\n",
    "fc = \"ArlingtonMarketAssessmentAreas2025\" # polygons\n",
    "tbl = \"ArlingtonMarketReadinessFinalScore\"        # table with 8 records\n",
    "join_field = \"Ranking\"                        # common key\n",
    "\n",
    "# --- Step 1: Get list of fields to join ---\n",
    "# exclude OID, shape, and the join field\n",
    "exclude = [f.name for f in arcpy.ListFields(tbl) if f.type in (\"OID\", \"Geometry\")]\n",
    "table_fields = [f.name for f in arcpy.ListFields(tbl) if f.name not in exclude + [join_field]]\n",
    "\n",
    "# --- Step 2: Build lookup dictionary ---\n",
    "lookup = {}\n",
    "with arcpy.da.SearchCursor(tbl, [join_field] + table_fields) as cursor:\n",
    "    for row in cursor:\n",
    "        key = row[0]\n",
    "        lookup[key] = row[1:]  # everything else\n",
    "\n",
    "# --- Step 3: Make sure fields exist in the feature class ---\n",
    "fc_fields = [f.name for f in arcpy.ListFields(fc)]\n",
    "for fld in table_fields:\n",
    "    if fld not in fc_fields:\n",
    "        # you can customize type/length — here I match the source table\n",
    "        fld_def = [f for f in arcpy.ListFields(tbl) if f.name == fld][0]\n",
    "        arcpy.AddField_management(fc, fld, fld_def.type, fld_def.precision,\n",
    "                                  fld_def.scale, fld_def.length)\n",
    "\n",
    "# --- Step 4: Update feature class ---\n",
    "with arcpy.da.UpdateCursor(fc, [join_field] + table_fields) as cursor:\n",
    "    for row in cursor:\n",
    "        key = row[0]\n",
    "        if key in lookup:\n",
    "            row[1:] = lookup[key]\n",
    "            cursor.updateRow(row)"
   ]
  },
  {
   "cell_type": "code",
   "execution_count": 24,
   "id": "6d103294",
   "metadata": {},
   "outputs": [
    {
     "data": {
      "text/plain": [
       "['OBJECTID',\n",
       " 'Shape',\n",
       " 'Shape_Leng',\n",
       " 'Comments',\n",
       " 'Acres',\n",
       " 'Descriptio',\n",
       " 'Ranking',\n",
       " 'Location',\n",
       " 'Value',\n",
       " 'Override',\n",
       " 'Shape_Length',\n",
       " 'Shape_Area']"
      ]
     },
     "execution_count": 24,
     "metadata": {},
     "output_type": "execute_result"
    }
   ],
   "source": [
    "fc_fields"
   ]
  },
  {
   "cell_type": "code",
   "execution_count": null,
   "id": "184fd784",
   "metadata": {},
   "outputs": [],
   "source": []
  }
 ],
 "metadata": {
  "kernelspec": {
   "display_name": "Python 3 (ipykernel)",
   "language": "python",
   "name": "python3"
  },
  "language_info": {
   "codemirror_mode": {
    "name": "ipython",
    "version": 3
   },
   "file_extension": ".py",
   "mimetype": "text/x-python",
   "name": "python",
   "nbconvert_exporter": "python",
   "pygments_lexer": "ipython3",
   "version": "3.9.18"
  }
 },
 "nbformat": 4,
 "nbformat_minor": 5
}
