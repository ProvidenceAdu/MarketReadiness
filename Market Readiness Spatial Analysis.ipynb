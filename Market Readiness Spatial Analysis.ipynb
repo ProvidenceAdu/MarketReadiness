{
 "cells": [
  {
   "cell_type": "markdown",
   "id": "bf9bd7f2",
   "metadata": {},
   "source": [
    "### Import Libraries"
   ]
  },
  {
   "cell_type": "code",
   "execution_count": 1,
   "id": "840cab85",
   "metadata": {},
   "outputs": [],
   "source": [
    "import arcpy\n",
    "import pandas as pd\n",
    "import numpy as np\n",
    "import os\n",
    "import censusdata as cs\n",
    "from census import Census\n",
    "pd.set_option('display.max_rows',None, 'display.max_columns',None,'display.max_colwidth', None)"
   ]
  },
  {
   "cell_type": "markdown",
   "id": "ef983448",
   "metadata": {},
   "source": [
    "## Set Directory"
   ]
  },
  {
   "cell_type": "code",
   "execution_count": 2,
   "id": "da05de5b",
   "metadata": {},
   "outputs": [],
   "source": [
    "path = 'C:\\\\Users\\\\Thepr\\\\Documents\\\\Consulting\\\\Market Readiness'\n",
    "os.chdir(path)"
   ]
  },
  {
   "cell_type": "code",
   "execution_count": 3,
   "id": "319344ab",
   "metadata": {},
   "outputs": [],
   "source": [
    "ProjectGDB =  r\"C:\\\\Users\\\\Thepr\\\\Documents\\\\Consulting\\\\Market Readiness\\\\Market Readiness.gdb\\\\\"\n",
    "arcpy.env.overwriteOutput = True\n",
    "arcpy.env.workspace = ProjectGDB"
   ]
  },
  {
   "cell_type": "markdown",
   "id": "cb3ced9d",
   "metadata": {},
   "source": [
    "# Market Demand"
   ]
  },
  {
   "cell_type": "markdown",
   "id": "48b1adcb",
   "metadata": {},
   "source": [
    "- Business Analyst"
   ]
  },
  {
   "cell_type": "code",
   "execution_count": null,
   "id": "5f78d906",
   "metadata": {},
   "outputs": [],
   "source": [
    "arcpy.ba.EnrichLayer(\n",
    "    \"ArlingtonMarketAssessmentAreas\",\n",
    "    \"ArlingtonMarketAssessmentAreasEnriched\",\n",
    "    ############ Population Totals ################\n",
    "    \"populationtotals.TOTPOP_CY;populationtotals.POPDENS_CY;populationtotals.TOTPOP_FY;HistoricalHousing.TOTHU_CY; \"\\\n",
    "    #######  Vacancy #####\n",
    "    \"vacant.VACANT_CY;vacant.VACANT_FY;housingunittotals.TOTHU_CY;homevalue.MEDVAL_CY;homevalue.ACSMEDVAL; \"\\\n",
    "    ################# Retail ##################################\n",
    "    \"RetailDemandbyNAICS.INDRTFD_X;RetailDemandbyNAICS.INDRT_X;RetailDemandbyNAICS.IND722_X; \"\\\n",
    "    ###################  Employment ###############################\n",
    "    \"EmploymentUnemployment.UNEMPRT_CY;KeyUSFacts.MEDVAL_CY;KeyUSFacts.MEDVAL_FY\"\\\n",
    "    ################################## Crime#####################\n",
    "    \"crime.CRMCYTOTC\"\n",
    "    ,\n",
    "    \"\",\n",
    "    1,\n",
    "    \"\"\n",
    ")\n"
   ]
  },
  {
   "cell_type": "markdown",
   "id": "123bb257",
   "metadata": {},
   "source": [
    "- Residential Permits"
   ]
  },
  {
   "cell_type": "code",
   "execution_count": 4,
   "id": "fab19f86",
   "metadata": {},
   "outputs": [
    {
     "name": "stdout",
     "output_type": "stream",
     "text": [
      "10463\n"
     ]
    }
   ],
   "source": [
    "ResidentialPermits = arcpy.management.SelectLayerByAttribute(\n",
    "    \"Issued_Permits\",\n",
    "    \"NEW_SELECTION\",\n",
    "    \"\"\" SUBDESC IN ('Single-Family','Two-Family','Residential','Residential Pool Barrier','Residential Privacy',\n",
    "        'Residential Spa','Residential Swimming Pool','Garage Conversion','Detached Garage',\n",
    "        'Permanent Storage/Accy Building (over 320 sq ft)','Portable Storage/Accy Building (320 sq ft and under)',\n",
    "        'Patio Cover/Gazebo','Carport','Retaining Wall' )\n",
    "        \n",
    "    AND WORKDESC IN ('Addition','Demolition', 'Foundation','Interior Finish','Move','New','New Construction',\n",
    "    'New Construction - Shell','Remodel/Alterations/Repairs','Remove/Replace','Repair', 'Repair / Replacement','Reroof',\n",
    "    'Solar Panel', 'Window/Door Replacement')\n",
    "    \"\"\")\n",
    "\n",
    "ResidentialPermcount = int(arcpy.management.GetCount(ResidentialPermits)[0])\n",
    "print(ResidentialPermcount)"
   ]
  },
  {
   "cell_type": "code",
   "execution_count": 5,
   "id": "b16ca043",
   "metadata": {},
   "outputs": [
    {
     "data": {
      "text/html": [
       "<div class='gpresult'><h2>Messages</h2><div id='messages' data-messages='[\"Start Time: Wednesday, August 13, 2025 12:04:47 AM\",\"Succeeded at Wednesday, August 13, 2025 12:04:48 AM (Elapsed Time: 0.69 seconds)\"]' data-show='true'><div id = 'default' /></div></div>"
      ],
      "text/plain": [
       "<Result 'C:\\\\Users\\\\Thepr\\\\Documents\\\\Consulting\\\\Market Readiness\\\\Market Readiness.gdb\\\\ResidentialPermits'>"
      ]
     },
     "execution_count": 5,
     "metadata": {},
     "output_type": "execute_result"
    }
   ],
   "source": [
    "fieldmapping = arcpy.FieldMappings()\n",
    "fieldmapping.addTable(ResidentialPermits)\n",
    "\n",
    "analysisfields = ['FOLDERYEAR', 'STATUSDESC', 'ISSUEDATE', 'FINALDATE', 'SUBDESC', 'FOLDERNAME',\n",
    "                  'Constructi','MainUse','LandUseDes','Structure','Census','NameofBusi','SignConstr',\n",
    "                  'ServiceGri','FOLDERCOND','ImportDate']\n",
    "\n",
    "for field in fieldmapping.fields:\n",
    "    if field.name not in analysisfields:\n",
    "        fieldmapping.removeFieldMap(fieldmapping.findFieldMapIndex(field.name))\n",
    "        \n",
    "if arcpy.Exists('ResidentialPermits'):\n",
    "    arcpy.Delete_management('ResidentialPermits')\n",
    "\n",
    "arcpy.conversion.ExportFeatures(ResidentialPermits,\"ResidentialPermits\",\"\",\"NOT_USE_ALIAS\",fieldmapping,None)"
   ]
  },
  {
   "cell_type": "markdown",
   "id": "74814116",
   "metadata": {},
   "source": [
    "- Near Analysis Residential Development"
   ]
  },
  {
   "cell_type": "code",
   "execution_count": 6,
   "id": "f893bfac",
   "metadata": {},
   "outputs": [
    {
     "data": {
      "text/html": [
       "<div class='gpresult'><h2>Messages</h2><div id='messages' data-messages='[\"Start Time: Wednesday, August 13, 2025 12:04:49 AM\",\"Succeeded at Wednesday, August 13, 2025 12:04:49 AM (Elapsed Time: 0.20 seconds)\"]' data-show='true'><div id = 'default' /></div></div>"
      ],
      "text/plain": [
       "<Result 'C:\\\\Users\\\\Thepr\\\\Documents\\\\Consulting\\\\Market Readiness\\\\Market Readiness.gdb\\\\ArlingtonResNearby'>"
      ]
     },
     "execution_count": 6,
     "metadata": {},
     "output_type": "execute_result"
    }
   ],
   "source": [
    "fieldmapping = arcpy.FieldMappings()\n",
    "fieldmapping.addTable(\"ArlingtonMarketAssessmentAreasEnriched\")\n",
    "fieldmapping.addTable(\"ResidentialPermits\")\n",
    "\n",
    "analysisfields = [\"ImportDate\",\"FOLDERYEAR\",\"STATUSDESC\",\"ISSUEDATE\",\"FINALDATE\",\"SUBDESC\",\n",
    "                  \"FOLDERNAME\", \"Constructi\",\"MainUse\",\"LandUseDes\",\"Structure\",\"Census\",\"NameofBusi\",\n",
    "                  \"SignConstr\",\"ServiceGri\",\"FOLDERCOND\"]\n",
    "\n",
    "for field in fieldmapping.fields:\n",
    "    if field.name in analysisfields:\n",
    "        fieldmapping.removeFieldMap(fieldmapping.findFieldMapIndex(field.name))\n",
    "        \n",
    "\n",
    "arcpy.analysis.SpatialJoin(\"ArlingtonMarketAssessmentAreasEnriched\",\n",
    "                           \"ResidentialPermits\",\"ArlingtonResNearby\",\n",
    "                           \"JOIN_ONE_TO_ONE\",\n",
    "                           \"KEEP_ALL\",fieldmapping,\n",
    "                           \"WITHIN_A_DISTANCE\",\n",
    "                           \"1 Miles\",\n",
    "                           \"\",\n",
    "                           None)\n",
    "\n",
    "arcpy.management.AlterField(\"ArlingtonResNearby\",\"Join_Count\",\"NearbyResidentialDevelopment\",\"NearbyResidentialDevelopment\")"
   ]
  },
  {
   "cell_type": "markdown",
   "id": "8157aa3f",
   "metadata": {},
   "source": [
    "- Commercial Permits"
   ]
  },
  {
   "cell_type": "code",
   "execution_count": 7,
   "id": "5855950d",
   "metadata": {},
   "outputs": [
    {
     "name": "stdout",
     "output_type": "stream",
     "text": [
      "4595\n"
     ]
    }
   ],
   "source": [
    "CommercialPermits = arcpy.management.SelectLayerByAttribute(\n",
    " \"Issued_Permits\",\n",
    "    \"NEW_SELECTION\",\n",
    "    \"\"\"\n",
    "    SUBDESC IN ('Assembly','Awning', 'Billboard', 'Boat Dock', 'Building Identification Sign', 'Business',\n",
    "    'Canopy / Fascia Sign', 'Clean and Show', 'Commercial Privacy', 'Commercial Screening', 'Decks',\n",
    "    'Directional',  'Directory',  'Educational',  'Entryway Sign',  'Existing Business/New Owner',\n",
    "    'Expanding Lease Space',  'Factory',  'Ground',  'Institutional', 'Manufactured Housing',\n",
    "    'Marquee Sign','Menu Board', 'Mercantile',  'Multi Tenant Ground Sign', 'New Tenant',\n",
    "    'Onsite Development', 'Other Undefined Sign', 'Pole Sign','Projecting (Blade) Sign',\n",
    "    'Same Business Owner/New Business Name','Shell Building/House Lights', 'Storage',\n",
    "    'Subdivision Screening Wall', 'Temporary Construction Office', 'Temporary Sales Office',\n",
    "    'Utility & Miscellaneous', 'Wall Sign'\n",
    "    )\n",
    "    AND WORKDESC IN ( 'New','New Construction','New Construction - Shell','Interior Finish',\n",
    "    'Remodel/Alterations/Repairs', 'Repair', 'Repair / Replacement','Remove/Replace', 'Reroof',\n",
    "    'Face Change', 'Foundation', 'Solar Panel', 'Window/Door Replacement','Demolition' )\n",
    "    \"\"\"\n",
    ")\n",
    "\n",
    "CommercialPermcount = int(arcpy.management.GetCount(CommercialPermits)[0])\n",
    "print(CommercialPermcount)"
   ]
  },
  {
   "cell_type": "code",
   "execution_count": 8,
   "id": "aed2a059",
   "metadata": {},
   "outputs": [
    {
     "data": {
      "text/html": [
       "<div class='gpresult'><h2>Messages</h2><div id='messages' data-messages='[\"Start Time: Wednesday, August 13, 2025 12:04:50 AM\",\"Succeeded at Wednesday, August 13, 2025 12:04:50 AM (Elapsed Time: 0.52 seconds)\"]' data-show='true'><div id = 'default' /></div></div>"
      ],
      "text/plain": [
       "<Result 'C:\\\\Users\\\\Thepr\\\\Documents\\\\Consulting\\\\Market Readiness\\\\Market Readiness.gdb\\\\CommercialPermits'>"
      ]
     },
     "execution_count": 8,
     "metadata": {},
     "output_type": "execute_result"
    }
   ],
   "source": [
    "fieldmapping = arcpy.FieldMappings()\n",
    "fieldmapping.addTable(CommercialPermits)\n",
    "\n",
    "analysisfields = ['FOLDERYEAR', 'STATUSDESC', 'ISSUEDATE', 'FINALDATE', 'SUBDESC', 'FOLDERNAME',\n",
    "                  'Constructi','MainUse','LandUseDes','Structure','Census','NameofBusi','SignConstr',\n",
    "                  'ServiceGri','FOLDERCOND','ImportDate']\n",
    "\n",
    "for field in fieldmapping.fields:\n",
    "    if field.name not in analysisfields:\n",
    "        fieldmapping.removeFieldMap(fieldmapping.findFieldMapIndex(field.name))\n",
    "        \n",
    "if arcpy.Exists('CommercialPermits'):\n",
    "    arcpy.Delete_management('CommercialPermits')\n",
    "\n",
    "arcpy.conversion.ExportFeatures(CommercialPermits,\"CommercialPermits\",\"\",\"NOT_USE_ALIAS\",fieldmapping,None)"
   ]
  },
  {
   "cell_type": "markdown",
   "id": "95940232",
   "metadata": {},
   "source": [
    "- Near Analysis Commercial Development"
   ]
  },
  {
   "cell_type": "code",
   "execution_count": 9,
   "id": "5395eca0",
   "metadata": {},
   "outputs": [
    {
     "data": {
      "text/html": [
       "<div class='gpresult'><h2>Messages</h2><div id='messages' data-messages='[\"Start Time: Wednesday, August 13, 2025 12:04:51 AM\",\"Succeeded at Wednesday, August 13, 2025 12:04:51 AM (Elapsed Time: 0.21 seconds)\"]' data-show='true'><div id = 'default' /></div></div>"
      ],
      "text/plain": [
       "<Result 'C:\\\\Users\\\\Thepr\\\\Documents\\\\Consulting\\\\Market Readiness\\\\Market Readiness.gdb\\\\ArlingtonComNearby'>"
      ]
     },
     "execution_count": 9,
     "metadata": {},
     "output_type": "execute_result"
    }
   ],
   "source": [
    "fieldmapping = arcpy.FieldMappings()\n",
    "fieldmapping.addTable(\"ArlingtonResNearby\")\n",
    "fieldmapping.addTable(\"CommercialPermits\")\n",
    "\n",
    "analysisfields = [\"ImportDate\",\"FOLDERYEAR\",\"STATUSDESC\",\"ISSUEDATE\",\"FINALDATE\",\"SUBDESC\",\n",
    "                  \"FOLDERNAME\", \"Constructi\",\"MainUse\",\"LandUseDes\",\"Structure\",\"Census\",\"NameofBusi\",\n",
    "                  \"SignConstr\",\"ServiceGri\",\"FOLDERCOND\"]\n",
    "\n",
    "for field in fieldmapping.fields:\n",
    "    if field.name in analysisfields:\n",
    "        fieldmapping.removeFieldMap(fieldmapping.findFieldMapIndex(field.name))\n",
    "        \n",
    "\n",
    "arcpy.analysis.SpatialJoin(\"ArlingtonResNearby\",\n",
    "                           \"CommercialPermits\",\"ArlingtonComNearby\",\n",
    "                           \"JOIN_ONE_TO_ONE\",\n",
    "                           \"KEEP_ALL\",fieldmapping,\n",
    "                           \"WITHIN_A_DISTANCE\",\n",
    "                           \"1 Miles\",\n",
    "                           \"\",\n",
    "                           None)\n",
    "\n",
    "arcpy.management.AlterField(\"ArlingtonComNearby\",\"Join_Count\",\"NearbyCommercialDevelopment\",\"NearbyCommercialDevelopment\")"
   ]
  },
  {
   "cell_type": "code",
   "execution_count": 10,
   "id": "a1d1a948",
   "metadata": {},
   "outputs": [
    {
     "name": "stdout",
     "output_type": "stream",
     "text": [
      "3243\n"
     ]
    }
   ],
   "source": [
    "NewConstruction = arcpy.management.SelectLayerByAttribute(\n",
    " \"Issued_Permits\",\n",
    "    \"NEW_SELECTION\",\n",
    "    \"\"\"\n",
    "    WORKDESC IN ('New Construction - Shell', 'New Construction')\n",
    "    \"\"\"\n",
    ")\n",
    "\n",
    "NewConstructionCount = int(arcpy.management.GetCount(NewConstruction)[0])\n",
    "print(NewConstructionCount)"
   ]
  },
  {
   "cell_type": "code",
   "execution_count": 11,
   "id": "f76d7e45",
   "metadata": {},
   "outputs": [
    {
     "data": {
      "text/html": [
       "<div class='gpresult'><h2>Messages</h2><div id='messages' data-messages='[\"Start Time: Wednesday, August 13, 2025 12:04:52 AM\",\"Succeeded at Wednesday, August 13, 2025 12:04:52 AM (Elapsed Time: 0.48 seconds)\"]' data-show='true'><div id = 'default' /></div></div>"
      ],
      "text/plain": [
       "<Result 'C:\\\\Users\\\\Thepr\\\\Documents\\\\Consulting\\\\Market Readiness\\\\Market Readiness.gdb\\\\NewConstruction'>"
      ]
     },
     "execution_count": 11,
     "metadata": {},
     "output_type": "execute_result"
    }
   ],
   "source": [
    "fieldmapping = arcpy.FieldMappings()\n",
    "fieldmapping.addTable(NewConstruction)\n",
    "\n",
    "analysisfields = ['FOLDERYEAR', 'STATUSDESC', 'ISSUEDATE', 'FINALDATE', 'SUBDESC', 'FOLDERNAME',\n",
    "                  'Constructi','MainUse','LandUseDes','Structure','Census','NameofBusi','SignConstr',\n",
    "                  'ServiceGri','FOLDERCOND','ImportDate']\n",
    "\n",
    "for field in fieldmapping.fields:\n",
    "    if field.name not in analysisfields:\n",
    "        fieldmapping.removeFieldMap(fieldmapping.findFieldMapIndex(field.name))\n",
    "        \n",
    "if arcpy.Exists('NewConstruction'):\n",
    "    arcpy.Delete_management('NewConstruction')\n",
    "\n",
    "arcpy.conversion.ExportFeatures(NewConstruction,\"NewConstruction\",\"\",\"NOT_USE_ALIAS\",fieldmapping,None)"
   ]
  },
  {
   "cell_type": "markdown",
   "id": "e26e9d2d",
   "metadata": {},
   "source": [
    "- Near Analysis construction Activity"
   ]
  },
  {
   "cell_type": "code",
   "execution_count": 12,
   "id": "7e78882c",
   "metadata": {},
   "outputs": [
    {
     "data": {
      "text/html": [
       "<div class='gpresult'><h2>Messages</h2><div id='messages' data-messages='[\"Start Time: Wednesday, August 13, 2025 12:04:53 AM\",\"Succeeded at Wednesday, August 13, 2025 12:04:54 AM (Elapsed Time: 0.21 seconds)\"]' data-show='true'><div id = 'default' /></div></div>"
      ],
      "text/plain": [
       "<Result 'C:\\\\Users\\\\Thepr\\\\Documents\\\\Consulting\\\\Market Readiness\\\\Market Readiness.gdb\\\\ArlingtonMarketReadiness'>"
      ]
     },
     "execution_count": 12,
     "metadata": {},
     "output_type": "execute_result"
    }
   ],
   "source": [
    "fieldmapping = arcpy.FieldMappings()\n",
    "fieldmapping.addTable(\"ArlingtonComNearby\")\n",
    "fieldmapping.addTable(\"NewConstruction\")\n",
    "\n",
    "analysisfields = [\"ImportDate\",\"FOLDERYEAR\",\"STATUSDESC\",\"ISSUEDATE\",\"FINALDATE\",\"SUBDESC\",\n",
    "                  \"FOLDERNAME\", \"Constructi\",\"MainUse\",\"LandUseDes\",\"Structure\",\"Census\",\"NameofBusi\",\n",
    "                  \"SignConstr\",\"ServiceGri\",\"FOLDERCOND\"]\n",
    "\n",
    "for field in fieldmapping.fields:\n",
    "    if field.name in analysisfields:\n",
    "        fieldmapping.removeFieldMap(fieldmapping.findFieldMapIndex(field.name))\n",
    "        \n",
    "\n",
    "arcpy.analysis.SpatialJoin(\"ArlingtonComNearby\",\n",
    "                           \"NewConstruction\",\"ArlingtonMarketReadiness\",\n",
    "                           \"JOIN_ONE_TO_ONE\",\n",
    "                           \"KEEP_ALL\",fieldmapping,\n",
    "                           \"WITHIN_A_DISTANCE\",\n",
    "                           \"1 Miles\",\n",
    "                           \"\",\n",
    "                           None)\n",
    "\n",
    "arcpy.management.AlterField(\"ArlingtonMarketReadiness\",\"Join_Count\",\"NewConstructionActivity\",\"NewConstructionActivity\")"
   ]
  },
  {
   "cell_type": "markdown",
   "id": "d1dd9bf7",
   "metadata": {},
   "source": [
    "# Proximity to Amenity/Access"
   ]
  },
  {
   "cell_type": "markdown",
   "id": "dbae05eb",
   "metadata": {},
   "source": [
    " "
   ]
  },
  {
   "cell_type": "markdown",
   "id": "5cdc646c",
   "metadata": {},
   "source": [
    "### Proximity to Schools\n",
    "- Spatial join schools within 1 mile buffer to selected areas and count the number of schools"
   ]
  },
  {
   "cell_type": "code",
   "execution_count": 25,
   "id": "e3ce79ef",
   "metadata": {},
   "outputs": [
    {
     "data": {
      "text/plain": [
       "['OBJECTID',\n",
       " 'Shape',\n",
       " 'DISTNAME',\n",
       " 'CAMPNAME',\n",
       " 'STREET',\n",
       " 'CITY',\n",
       " 'ZIP',\n",
       " 'INSTR_TYPE',\n",
       " 'XCOORD',\n",
       " 'YCOORD',\n",
       " 'DOWNLOADDATE',\n",
       " 'GRADEGROUP',\n",
       " 'State']"
      ]
     },
     "execution_count": 25,
     "metadata": {},
     "output_type": "execute_result"
    }
   ],
   "source": [
    "cols = []\n",
    "for row in arcpy.ListFields('SchoolsPointsArlington'):\n",
    "    cols.append(row.name)\n",
    "cols  "
   ]
  },
  {
   "cell_type": "code",
   "execution_count": 8,
   "id": "79748855",
   "metadata": {},
   "outputs": [
    {
     "data": {
      "text/html": [
       "<div class='gpresult'><h2>Messages</h2><div id='messages' data-messages='[\"Start Time: Sunday, August 17, 2025 2:47:33 AM\",\"Succeeded at Sunday, August 17, 2025 2:47:33 AM (Elapsed Time: 0.25 seconds)\"]' data-show='true'><div id = 'default' /></div></div>"
      ],
      "text/plain": [
       "<Result 'C:\\\\Users\\\\Thepr\\\\Documents\\\\Consulting\\\\Market Readiness\\\\Market Readiness.gdb\\\\ArlingtonMarketReadinessSchools'>"
      ]
     },
     "execution_count": 8,
     "metadata": {},
     "output_type": "execute_result"
    }
   ],
   "source": [
    "fieldmapping = arcpy.FieldMappings()\n",
    "fieldmapping.addTable(\"ArlingtonMarketReadiness\")\n",
    "fieldmapping.addTable(\"SchoolsPointsArlington\")\n",
    "\n",
    "analysisfields = ['OBJECTID','Shape','DISTNAME','CAMPNAME','STREET','CITY','ZIP','INSTR_TYPE','XCOORD','YCOORD',\n",
    "                  'DOWNLOADDATE','GRADEGROUP','State','TARGET_FID','TARGET_FID_1','ObjectID_1']\n",
    "\n",
    "\n",
    "for field in fieldmapping.fields:\n",
    "    if field.name in analysisfields:\n",
    "        fieldmapping.removeFieldMap(fieldmapping.findFieldMapIndex(field.name))\n",
    "        \n",
    "\n",
    "arcpy.analysis.SpatialJoin(\"ArlingtonMarketReadiness\",\n",
    "                           \"SchoolsPointsArlington\",\"ArlingtonMarketReadinessSchools\",\n",
    "                           \"JOIN_ONE_TO_ONE\",\n",
    "                           \"KEEP_ALL\",fieldmapping,\n",
    "                           \"WITHIN_A_DISTANCE\",\n",
    "                           \"1 Miles\",\n",
    "                           \"\",\n",
    "                           None)\n",
    "\n",
    "arcpy.management.AlterField(\"ArlingtonMarketReadinessSchools\",\"Join_Count\",\"NearbySchools\",\"NearbySchools\")"
   ]
  },
  {
   "cell_type": "markdown",
   "id": "e37a782d",
   "metadata": {},
   "source": [
    "### Proximity to Hospitals\n",
    "- Spatial join hospitals within 1 mile buffer to selected areas and count the number of hospitals"
   ]
  },
  {
   "cell_type": "code",
   "execution_count": 9,
   "id": "979d919c",
   "metadata": {},
   "outputs": [
    {
     "data": {
      "text/plain": [
       "['OBJECTID_1',\n",
       " 'Shape',\n",
       " 'OBJECTID',\n",
       " 'BUILDINGCO',\n",
       " 'ADDRESS',\n",
       " 'HOSPITALNA',\n",
       " 'Type']"
      ]
     },
     "execution_count": 9,
     "metadata": {},
     "output_type": "execute_result"
    }
   ],
   "source": [
    "cols = []\n",
    "for row in arcpy.ListFields('Healthcare_Facilities'):\n",
    "    cols.append(row.name)\n",
    "cols  "
   ]
  },
  {
   "cell_type": "code",
   "execution_count": 11,
   "id": "b5db15f7",
   "metadata": {},
   "outputs": [
    {
     "data": {
      "text/html": [
       "<div class='gpresult'><h2>Messages</h2><div id='messages' data-messages='[\"Start Time: Sunday, August 17, 2025 2:55:23 AM\",\"Succeeded at Sunday, August 17, 2025 2:55:23 AM (Elapsed Time: 0.24 seconds)\"]' data-show='true'><div id = 'default' /></div></div>"
      ],
      "text/plain": [
       "<Result 'C:\\\\Users\\\\Thepr\\\\Documents\\\\Consulting\\\\Market Readiness\\\\Market Readiness.gdb\\\\ArlingtonMarketReadinessHealthcare'>"
      ]
     },
     "execution_count": 11,
     "metadata": {},
     "output_type": "execute_result"
    }
   ],
   "source": [
    "fieldmapping = arcpy.FieldMappings()\n",
    "fieldmapping.addTable(\"ArlingtonMarketReadinessSchools\")\n",
    "fieldmapping.addTable(\"Healthcare_Facilities\")\n",
    "\n",
    "analysisfields = ['OBJECTID','Shape','DISTNAME','CAMPNAME','STREET','CITY','ZIP','INSTR_TYPE','XCOORD','YCOORD',\n",
    "                  'DOWNLOADDATE','GRADEGROUP','State','TARGET_FID','TARGET_FID_1','ObjectID_1','OBJECTID_1','Shape',\n",
    "                  'OBJECTID','BUILDINGCO','ADDRESS','HOSPITALNA','Type']\n",
    "\n",
    "\n",
    "for field in fieldmapping.fields:\n",
    "    if field.name in analysisfields:\n",
    "        fieldmapping.removeFieldMap(fieldmapping.findFieldMapIndex(field.name))\n",
    "        \n",
    "\n",
    "arcpy.analysis.SpatialJoin(\"ArlingtonMarketReadinessSchools\",\n",
    "                           \"Healthcare_Facilities\",\"ArlingtonMarketReadinessHealthcare\",\n",
    "                           \"JOIN_ONE_TO_ONE\",\n",
    "                           \"KEEP_ALL\",fieldmapping,\n",
    "                           \"WITHIN_A_DISTANCE\",\n",
    "                           \"1 Miles\",\n",
    "                           \"\",\n",
    "                           None)\n",
    "\n",
    "arcpy.management.AlterField(\"ArlingtonMarketReadinessHealthcare\",\"Join_Count\",\"Nearbyhealthcare\",\"Nearbyhealthcare\")"
   ]
  },
  {
   "cell_type": "markdown",
   "id": "44805cbd",
   "metadata": {},
   "source": [
    "### Proximity to Grocery"
   ]
  },
  {
   "cell_type": "code",
   "execution_count": 12,
   "id": "a48ae773",
   "metadata": {},
   "outputs": [
    {
     "data": {
      "text/plain": [
       "['OBJECTID_1',\n",
       " 'Shape',\n",
       " 'ObjectId',\n",
       " 'Store_Name',\n",
       " 'Address',\n",
       " 'City',\n",
       " 'State',\n",
       " 'County',\n",
       " 'Longitude',\n",
       " 'Latitude',\n",
       " 'StoreType',\n",
       " 'Produce']"
      ]
     },
     "execution_count": 12,
     "metadata": {},
     "output_type": "execute_result"
    }
   ],
   "source": [
    "cols = []\n",
    "for row in arcpy.ListFields('Grocery'):\n",
    "    cols.append(row.name)\n",
    "cols  "
   ]
  },
  {
   "cell_type": "code",
   "execution_count": 13,
   "id": "ebbe728c",
   "metadata": {},
   "outputs": [
    {
     "data": {
      "text/html": [
       "<div class='gpresult'><h2>Messages</h2><div id='messages' data-messages='[\"Start Time: Sunday, August 17, 2025 3:00:03 AM\",\"Succeeded at Sunday, August 17, 2025 3:00:04 AM (Elapsed Time: 0.26 seconds)\"]' data-show='true'><div id = 'default' /></div></div>"
      ],
      "text/plain": [
       "<Result 'C:\\\\Users\\\\Thepr\\\\Documents\\\\Consulting\\\\Market Readiness\\\\Market Readiness.gdb\\\\ArlingtonMarketReadinessGrocery'>"
      ]
     },
     "execution_count": 13,
     "metadata": {},
     "output_type": "execute_result"
    }
   ],
   "source": [
    "fieldmapping = arcpy.FieldMappings()\n",
    "fieldmapping.addTable(\"ArlingtonMarketReadinessHealthcare\")\n",
    "fieldmapping.addTable(\"Grocery\")\n",
    "\n",
    "analysisfields = ['OBJECTID','Shape','DISTNAME','CAMPNAME','STREET','CITY','ZIP','INSTR_TYPE','XCOORD','YCOORD',\n",
    "                  'DOWNLOADDATE','GRADEGROUP','State','TARGET_FID','TARGET_FID_1','ObjectID_1','OBJECTID_1','Shape',\n",
    "                  'OBJECTID','BUILDINGCO','ADDRESS','HOSPITALNA','Type','OBJECTID_1','Shape','ObjectId','Store_Name',\n",
    "                  'Address','City','State','County','Longitude','Latitude','StoreType','Produce']\n",
    "\n",
    "\n",
    "for field in fieldmapping.fields:\n",
    "    if field.name in analysisfields:\n",
    "        fieldmapping.removeFieldMap(fieldmapping.findFieldMapIndex(field.name))\n",
    "        \n",
    "\n",
    "arcpy.analysis.SpatialJoin(\"ArlingtonMarketReadinessHealthcare\",\n",
    "                           \"Grocery\",\"ArlingtonMarketReadinessGrocery\",\n",
    "                           \"JOIN_ONE_TO_ONE\",\n",
    "                           \"KEEP_ALL\",fieldmapping,\n",
    "                           \"WITHIN_A_DISTANCE\",\n",
    "                           \"1 Miles\",\n",
    "                           \"\",\n",
    "                           None)\n",
    "\n",
    "arcpy.management.AlterField(\"ArlingtonMarketReadinessGrocery\",\"Join_Count\",\"NearbyGrocery\",\"NearbyGrocery\")"
   ]
  },
  {
   "cell_type": "markdown",
   "id": "98bbb5f4",
   "metadata": {},
   "source": [
    "### Proximity to Shopping Centers, Restaurants and Entertainment \n",
    "- This indicator only have data for Food estabishments and Downtown restuarants"
   ]
  },
  {
   "cell_type": "code",
   "execution_count": 17,
   "id": "84be1d15",
   "metadata": {},
   "outputs": [
    {
     "data": {
      "text/plain": [
       "['OBJECTID',\n",
       " 'Shape',\n",
       " 'Type',\n",
       " 'Tags',\n",
       " 'ServesAlcohol',\n",
       " 'Name',\n",
       " 'Address',\n",
       " 'City',\n",
       " 'State',\n",
       " 'ZIP',\n",
       " 'Phone',\n",
       " 'OnlineReviewLink',\n",
       " 'NavigateToLink',\n",
       " 'CreationDate',\n",
       " 'Creator',\n",
       " 'EditDate',\n",
       " 'Editor']"
      ]
     },
     "execution_count": 17,
     "metadata": {},
     "output_type": "execute_result"
    }
   ],
   "source": [
    "cols = []\n",
    "for row in arcpy.ListFields('DowntownRestuarants'):\n",
    "    cols.append(row.name)\n",
    "cols  "
   ]
  },
  {
   "cell_type": "code",
   "execution_count": 18,
   "id": "f30fe0c9",
   "metadata": {},
   "outputs": [
    {
     "data": {
      "text/html": [
       "<div class='gpresult'><h2>Messages</h2><div id='messages' data-messages='[\"Start Time: Sunday, August 17, 2025 3:25:35 AM\",\"Succeeded at Sunday, August 17, 2025 3:25:36 AM (Elapsed Time: 0.24 seconds)\"]' data-show='true'><div id = 'default' /></div></div>"
      ],
      "text/plain": [
       "<Result 'C:\\\\Users\\\\Thepr\\\\Documents\\\\Consulting\\\\Market Readiness\\\\Market Readiness.gdb\\\\ArlingtonMarketReadinessFoodEstablishments'>"
      ]
     },
     "execution_count": 18,
     "metadata": {},
     "output_type": "execute_result"
    }
   ],
   "source": [
    "fieldmapping = arcpy.FieldMappings()\n",
    "fieldmapping.addTable(\"ArlingtonMarketReadinessGrocery\")\n",
    "fieldmapping.addTable(\"FoodEstablishmentDowntownRestaurants\")\n",
    "\n",
    "analysisfields = ['OBJECTID','Shape','DISTNAME','CAMPNAME','STREET','CITY','ZIP','INSTR_TYPE','XCOORD','YCOORD',\n",
    "                  'DOWNLOADDATE','GRADEGROUP','State','TARGET_FID','TARGET_FID_1','ObjectID_1','OBJECTID_1','Shape',\n",
    "                  'OBJECTID','BUILDINGCO','ADDRESS','HOSPITALNA','Type','OBJECTID_1','Shape','ObjectId','Store_Name',\n",
    "                  'Address','City','State','County','Longitude','Latitude','StoreType','Produce',\n",
    "                 'OBJECTID_1','Shape','ImportDate','OBJECTID','FacilityNa','Establishm','PropertyAd',\n",
    "                  'Inspection','Inspecti_1','Attempt','XCoord','YCoord','Inspecti_2', 'Type','Tags','ServesAlcohol',\n",
    "                  'Name','Address','City','State','ZIP','Phone','OnlineReviewLink','NavigateToLink','CreationDate',\n",
    "                  'Creator','EditDate','Editor']\n",
    "\n",
    "\n",
    "for field in fieldmapping.fields:\n",
    "    if field.name in analysisfields:\n",
    "        fieldmapping.removeFieldMap(fieldmapping.findFieldMapIndex(field.name))\n",
    "        \n",
    "\n",
    "arcpy.analysis.SpatialJoin(\"ArlingtonMarketReadinessGrocery\",\n",
    "                           \"FoodEstablishmentDowntownRestaurants\",\"ArlingtonMarketReadinessFoodEstablishments\",\n",
    "                           \"JOIN_ONE_TO_ONE\",\n",
    "                           \"KEEP_ALL\",fieldmapping,\n",
    "                           \"WITHIN_A_DISTANCE\",\n",
    "                           \"1 Miles\",\n",
    "                           \"\",\n",
    "                           None)\n",
    "\n",
    "arcpy.management.AlterField(\"ArlingtonMarketReadinessFoodEstablishments\",\"Join_Count\",\"NearbyRestuarants\",\n",
    "                            \"NearbyRestuarants\")"
   ]
  },
  {
   "cell_type": "markdown",
   "id": "633284d8",
   "metadata": {},
   "source": [
    "### Proximity to Parks\n",
    "\n",
    "- Converted the Parks Polygon to point and counted the number of parks that are in proximity to the selected areas"
   ]
  },
  {
   "cell_type": "code",
   "execution_count": 19,
   "id": "c7135a05",
   "metadata": {},
   "outputs": [
    {
     "data": {
      "text/html": [
       "<div class='gpresult'><h2>Messages</h2><div id='messages' data-messages='[\"Start Time: Sunday, August 17, 2025 3:35:38 AM\",\"Succeeded at Sunday, August 17, 2025 3:35:39 AM (Elapsed Time: 0.59 seconds)\"]' data-show='true'><div id = 'default' /></div></div>"
      ],
      "text/plain": [
       "<Result 'C:\\\\Users\\\\Thepr\\\\Documents\\\\Consulting\\\\Market Readiness\\\\Market Readiness.gdb\\\\ArlingtonParks2024'>"
      ]
     },
     "execution_count": 19,
     "metadata": {},
     "output_type": "execute_result"
    }
   ],
   "source": [
    "arcpy.management.FeatureToPoint(\"Park2024\",\"ArlingtonParks2024\",\"CENTROID\")"
   ]
  },
  {
   "cell_type": "code",
   "execution_count": 22,
   "id": "8743abb6",
   "metadata": {},
   "outputs": [
    {
     "data": {
      "text/plain": [
       "['OBJECTID_1',\n",
       " 'Shape',\n",
       " 'OBJECTID',\n",
       " 'NAME',\n",
       " 'OWNER',\n",
       " 'NOTES',\n",
       " 'CITY',\n",
       " 'FEATTYPE',\n",
       " 'STATUS',\n",
       " 'SOURCE',\n",
       " 'SOURCE_YEA',\n",
       " 'ShapeSTLen',\n",
       " 'ShapeSTAre',\n",
       " 'ORIG_FID']"
      ]
     },
     "execution_count": 22,
     "metadata": {},
     "output_type": "execute_result"
    }
   ],
   "source": [
    "cols = []\n",
    "for row in arcpy.ListFields('ArlingtonParks2024'):\n",
    "    cols.append(row.name)\n",
    "cols  "
   ]
  },
  {
   "cell_type": "code",
   "execution_count": 23,
   "id": "1311bb2b",
   "metadata": {},
   "outputs": [
    {
     "data": {
      "text/html": [
       "<div class='gpresult'><h2>Messages</h2><div id='messages' data-messages='[\"Start Time: Sunday, August 17, 2025 3:40:16 AM\",\"Succeeded at Sunday, August 17, 2025 3:40:17 AM (Elapsed Time: 0.24 seconds)\"]' data-show='true'><div id = 'default' /></div></div>"
      ],
      "text/plain": [
       "<Result 'C:\\\\Users\\\\Thepr\\\\Documents\\\\Consulting\\\\Market Readiness\\\\Market Readiness.gdb\\\\ArlingtonMarketReadinessParks'>"
      ]
     },
     "execution_count": 23,
     "metadata": {},
     "output_type": "execute_result"
    }
   ],
   "source": [
    "fieldmapping = arcpy.FieldMappings()\n",
    "fieldmapping.addTable(\"ArlingtonMarketReadinessFoodEstablishments\")\n",
    "fieldmapping.addTable(\"ArlingtonParks2024\")\n",
    "\n",
    "analysisfields = ['OBJECTID','Shape','DISTNAME','CAMPNAME','STREET','CITY','ZIP','INSTR_TYPE','XCOORD','YCOORD',\n",
    "                  'DOWNLOADDATE','GRADEGROUP','State','TARGET_FID','TARGET_FID_1','ObjectID_1','OBJECTID_1','Shape',\n",
    "                  'OBJECTID','BUILDINGCO','ADDRESS','HOSPITALNA','Type','OBJECTID_1','Shape','ObjectId','Store_Name',\n",
    "                  'Address','City','State','County','Longitude','Latitude','StoreType','Produce',\n",
    "                 'OBJECTID_1','Shape','ImportDate','OBJECTID','FacilityNa','Establishm','PropertyAd',\n",
    "                  'Inspection','Inspecti_1','Attempt','XCoord','YCoord','Inspecti_2', 'Type','Tags','ServesAlcohol',\n",
    "                  'Name','Address','City','State','ZIP','Phone','OnlineReviewLink','NavigateToLink','CreationDate',\n",
    "                  'Creator','EditDate','Editor','OBJECTID_1','Shape','OBJECTID','NAME','OWNER','NOTES','CITY',\n",
    "                  'FEATTYPE','STATUS','SOURCE', 'SOURCE_YEA', 'ShapeSTLen', 'ShapeSTAre', 'ORIG_FID']\n",
    "\n",
    "\n",
    "for field in fieldmapping.fields:\n",
    "    if field.name in analysisfields:\n",
    "        fieldmapping.removeFieldMap(fieldmapping.findFieldMapIndex(field.name))\n",
    "        \n",
    "\n",
    "arcpy.analysis.SpatialJoin(\"ArlingtonMarketReadinessFoodEstablishments\",\n",
    "                           \"ArlingtonParks2024\",\"ArlingtonMarketReadinessParks\",\n",
    "                           \"JOIN_ONE_TO_ONE\",\n",
    "                           \"KEEP_ALL\",fieldmapping,\n",
    "                           \"WITHIN_A_DISTANCE\",\n",
    "                           \"1 Miles\",\n",
    "                           \"\",\n",
    "                           None)\n",
    "\n",
    "arcpy.management.AlterField(\"ArlingtonMarketReadinessParks\",\"Join_Count\",\"NearbyParks\",\"NearbyParks\")"
   ]
  },
  {
   "cell_type": "markdown",
   "id": "5d03ae69",
   "metadata": {},
   "source": [
    "- Walkability"
   ]
  },
  {
   "cell_type": "code",
   "execution_count": 35,
   "id": "3ee66d04",
   "metadata": {},
   "outputs": [
    {
     "data": {
      "text/html": [
       "<div class='gpresult'><h2>Messages</h2><div id='messages' data-messages='[\"Start Time: Sunday, August 17, 2025 4:56:13 AM\",\"Reading Features...\",\"Cracking Features...\",\"Assembling Features...\",\"Succeeded at Sunday, August 17, 2025 4:56:14 AM (Elapsed Time: 0.77 seconds)\"]' data-show='true'><div id = 'default' /></div></div>"
      ],
      "text/plain": [
       "<Result 'C:\\\\Users\\\\Thepr\\\\Documents\\\\Consulting\\\\Market Readiness\\\\Market Readiness.gdb\\\\ArlingtonMarketReadiness_Intersect'>"
      ]
     },
     "execution_count": 35,
     "metadata": {},
     "output_type": "execute_result"
    }
   ],
   "source": [
    "# Intersect Selected Areas and EPA NWI\n",
    "\n",
    "arcpy.analysis.Intersect(\"ArlingtonMarketReadinessParks #;NationalWalkabilityIndex #\",\n",
    "                         \"ArlingtonMarketReadiness_Intersect\",\"ALL\",None,\"INPUT\")\n",
    "\n",
    "\n",
    "# Add Field to calculated weighted area\n",
    "\n",
    "arcpy.management.AddField(\"ArlingtonMarketReadiness_Intersect\",\"WeightedWalk\",\"DOUBLE\",None,None,None,\"WeightedWalk\",\n",
    "                          \"NULLABLE\",\"NON_REQUIRED\",\"\")\n",
    "\n",
    "# Compute the Weighted Walk\n",
    "\n",
    "arcpy.management.CalculateField(\"ArlingtonMarketReadiness_Intersect\",\"WeightedWalk\",\"!Acres! * !NatWalkInd!\",\n",
    "                                \"PYTHON3\",\"\",\"DOUBLE\",\"NO_ENFORCE_DOMAINS\")\n",
    "\n",
    "\n",
    "# Create summary statistics, the Ranking is the Id\n",
    "\n",
    "arcpy.analysis.Statistics(\"ArlingtonMarketReadiness_Intersect\",\"WalkabilityStatistics\",\n",
    "                          \"WeightedWalk SUM;Acres SUM\",\"Ranking\",\"\")\n",
    "\n",
    "# Join summary to Market Readiness data\n",
    "\n",
    "walkability = arcpy.management.AddJoin(\"ArlingtonMarketReadinessParks\",\"Ranking\",\"WalkabilityStatistics\",\n",
    "                         \"Ranking\",\"KEEP_ALL\",\"NO_INDEX_JOIN_FIELDS\",\"NO_REBUILD_INDEX\")\n",
    "\n",
    "arcpy.conversion.ExportFeatures(walkability,\"ArlingtonMarketReadinessEPAWI\",\n",
    "                                \"\",\"NOT_USE_ALIAS\",'',None)\n",
    "\n",
    "# Add Field to calculated weighted area\n",
    "\n",
    "arcpy.management.AddField(\"ArlingtonMarketReadinessEPAWI\",\"WalkabilityIndex\",\"DOUBLE\",None,None,None,\"WalkabilityIndex\",\n",
    "                          \"NULLABLE\",\"NON_REQUIRED\",\"\")\n",
    "\n",
    "# Compute the Weighted Walk\n",
    "\n",
    "arcpy.management.CalculateField(\"ArlingtonMarketReadinessEPAWI\",\"WalkabilityIndex\",\"!SUM_WeightedWalk! / !SUM_Acres!\",\n",
    "                                \"PYTHON3\",\"\",\"DOUBLE\",\"NO_ENFORCE_DOMAINS\")"
   ]
  },
  {
   "cell_type": "code",
   "execution_count": 64,
   "id": "c2819b66",
   "metadata": {
    "collapsed": true
   },
   "outputs": [
    {
     "data": {
      "text/plain": [
       "['OBJECTID_1',\n",
       " 'Shape',\n",
       " 'NearbyParks',\n",
       " 'TARGET_FID',\n",
       " 'NearbyRestuarants',\n",
       " 'NearbyGrocery',\n",
       " 'Nearbyhealthcare',\n",
       " 'NearbySchools',\n",
       " 'NewConstructionActivity',\n",
       " 'NearbyCommercialDevelopment',\n",
       " 'NearbyResidentialDevelopment',\n",
       " 'TARGET_FID_12',\n",
       " 'Shape_Leng',\n",
       " 'Comments',\n",
       " 'Acres',\n",
       " 'Descriptio',\n",
       " 'Ranking',\n",
       " 'Location',\n",
       " 'Value',\n",
       " 'Override',\n",
       " 'aggregationMethod',\n",
       " 'HasData',\n",
       " 'ORIGINAL_OID',\n",
       " 'sourceCountry',\n",
       " 'apportionmentConfidence',\n",
       " 'populationToPolygonSizeRating',\n",
       " 'populationtotals_TOTPOP_CY',\n",
       " 'populationtotals_POPDENS_CY',\n",
       " 'populationtotals_TOTPOP_FY',\n",
       " 'HistoricalHousing_TOTHU_CY',\n",
       " 'vacant_VACANT_CY',\n",
       " 'vacant_VACANT_FY',\n",
       " 'housingunittotals_TOTHU_CY',\n",
       " 'homevalue_MEDVAL_CY',\n",
       " 'homevalue_ACSMEDVAL',\n",
       " 'RetailDemandbyNAICS_INDRTFD_X',\n",
       " 'RetailDemandbyNAICS_INDRT_X',\n",
       " 'RetailDemandbyNAICS_IND722_X',\n",
       " 'EmploymentUnemployment_UNEMPRT_CY',\n",
       " 'KeyUSFacts_MEDVAL_CY',\n",
       " 'KeyUSFacts_MEDVAL_FY',\n",
       " 'Walkscore',\n",
       " 'OBJECTID',\n",
       " 'Ranking_1',\n",
       " 'FREQUENCY',\n",
       " 'SUM_WeightedWalk',\n",
       " 'SUM_Acres',\n",
       " 'Shape_Length',\n",
       " 'Shape_Area',\n",
       " 'WalkabilityIndex']"
      ]
     },
     "execution_count": 64,
     "metadata": {},
     "output_type": "execute_result"
    }
   ],
   "source": [
    "cols = []\n",
    "for row in arcpy.ListFields('ArlingtonMarketReadinessEPAWI'):\n",
    "    cols.append(row.name)\n",
    "cols  "
   ]
  },
  {
   "cell_type": "markdown",
   "id": "ec6f5a6b",
   "metadata": {},
   "source": [
    "# Infrastructure Capacity"
   ]
  },
  {
   "cell_type": "markdown",
   "id": "52fad10a",
   "metadata": {},
   "source": [
    "#### Fire and police station\n",
    "- merged the fire and police station points, then computed the count of each stations within the selected areas\n"
   ]
  },
  {
   "cell_type": "code",
   "execution_count": 24,
   "id": "5d3838a4",
   "metadata": {
    "collapsed": true
   },
   "outputs": [
    {
     "data": {
      "text/plain": [
       "['OBJECTID_1',\n",
       " 'Shape',\n",
       " 'OBJECTID',\n",
       " 'STATIONNAM',\n",
       " 'PARCELADDR',\n",
       " 'STRUCTUREA',\n",
       " 'DISTRICTID',\n",
       " 'STATION']"
      ]
     },
     "execution_count": 24,
     "metadata": {},
     "output_type": "execute_result"
    }
   ],
   "source": [
    "cols = []\n",
    "for row in arcpy.ListFields('FireandPoliceStations'):\n",
    "    cols.append(row.name)\n",
    "cols  "
   ]
  },
  {
   "cell_type": "code",
   "execution_count": 65,
   "id": "bfc9d66e",
   "metadata": {},
   "outputs": [
    {
     "data": {
      "text/html": [
       "<div class='gpresult'><h2>Messages</h2><div id='messages' data-messages='[\"Start Time: Sunday, August 17, 2025 5:25:29 AM\",\"Succeeded at Sunday, August 17, 2025 5:25:30 AM (Elapsed Time: 0.29 seconds)\"]' data-show='true'><div id = 'default' /></div></div>"
      ],
      "text/plain": [
       "<Result 'C:\\\\Users\\\\Thepr\\\\Documents\\\\Consulting\\\\Market Readiness\\\\Market Readiness.gdb\\\\ArlingtonMarketReadinessPoliceFireStations'>"
      ]
     },
     "execution_count": 65,
     "metadata": {},
     "output_type": "execute_result"
    }
   ],
   "source": [
    "fieldmapping = arcpy.FieldMappings()\n",
    "fieldmapping.addTable(\"ArlingtonMarketReadinessEPAWI\")\n",
    "fieldmapping.addTable(\"FireandPoliceStations\")\n",
    "\n",
    "analysisfields = ['OBJECTID','Shape','DISTNAME','CAMPNAME','STREET','CITY','ZIP','INSTR_TYPE','XCOORD','YCOORD',\n",
    "                  'DOWNLOADDATE','GRADEGROUP','State','TARGET_FID','TARGET_FID_1','ObjectID_1','OBJECTID_1','Shape',\n",
    "                  'OBJECTID','BUILDINGCO','ADDRESS','HOSPITALNA','Type','OBJECTID_1','Shape','ObjectId','Store_Name',\n",
    "                  'Address','City','State','County','Longitude','Latitude','StoreType','Produce',\n",
    "                 'OBJECTID_1','Shape','ImportDate','OBJECTID','FacilityNa','Establishm','PropertyAd',\n",
    "                  'Inspection','Inspecti_1','Attempt','XCoord','YCoord','Inspecti_2', 'Type','Tags','ServesAlcohol',\n",
    "                  'Name','Address','City','State','ZIP','Phone','OnlineReviewLink','NavigateToLink','CreationDate',\n",
    "                  'Creator','EditDate','Editor','OBJECTID_1','Shape','OBJECTID','NAME','OWNER','NOTES','CITY',\n",
    "                  'FEATTYPE','STATUS','SOURCE', 'SOURCE_YEA', 'ShapeSTLen', 'ShapeSTAre', 'ORIG_FID',\n",
    "                 'OBJECTID_1','Shape','OBJECTID','STATIONNAM','PARCELADDR','STRUCTUREA','DISTRICTID','STATION',\n",
    "                 'Walkscore','OBJECTID','Ranking_1','FREQUENCY','SUM_WeightedWalk','SUM_Acres','Shape_Length','Shape_Area']\n",
    "\n",
    "\n",
    "for field in fieldmapping.fields:\n",
    "    if field.name in analysisfields:\n",
    "        fieldmapping.removeFieldMap(fieldmapping.findFieldMapIndex(field.name))\n",
    "        \n",
    "\n",
    "arcpy.analysis.SpatialJoin(\"ArlingtonMarketReadinessEPAWI\",\n",
    "                           \"FireandPoliceStations\",\"ArlingtonMarketReadinessPoliceFireStations\",\n",
    "                           \"JOIN_ONE_TO_ONE\",\n",
    "                           \"KEEP_ALL\",fieldmapping,\n",
    "                           \"WITHIN_A_DISTANCE\",\n",
    "                           \"1 Miles\",\n",
    "                           \"\",\n",
    "                           None)\n",
    "\n",
    "arcpy.management.AlterField(\"ArlingtonMarketReadinessPoliceFireStations\",\"Join_Count\",\"NearbyPolice\",\"NearbyPolice\")"
   ]
  },
  {
   "cell_type": "code",
   "execution_count": 67,
   "id": "dcc8063c",
   "metadata": {
    "collapsed": true
   },
   "outputs": [
    {
     "data": {
      "text/plain": [
       "['OBJECTID',\n",
       " 'Shape',\n",
       " 'NearbyPolice',\n",
       " 'TARGET_FID',\n",
       " 'NearbyParks',\n",
       " 'NearbyRestuarants',\n",
       " 'NearbyGrocery',\n",
       " 'Nearbyhealthcare',\n",
       " 'NearbySchools',\n",
       " 'NewConstructionActivity',\n",
       " 'NearbyCommercialDevelopment',\n",
       " 'NearbyResidentialDevelopment',\n",
       " 'TARGET_FID_12',\n",
       " 'Shape_Leng',\n",
       " 'Comments',\n",
       " 'Acres',\n",
       " 'Descriptio',\n",
       " 'Ranking',\n",
       " 'Location',\n",
       " 'Value',\n",
       " 'Override',\n",
       " 'aggregationMethod',\n",
       " 'HasData',\n",
       " 'ORIGINAL_OID',\n",
       " 'sourceCountry',\n",
       " 'apportionmentConfidence',\n",
       " 'populationToPolygonSizeRating',\n",
       " 'populationtotals_TOTPOP_CY',\n",
       " 'populationtotals_POPDENS_CY',\n",
       " 'populationtotals_TOTPOP_FY',\n",
       " 'HistoricalHousing_TOTHU_CY',\n",
       " 'vacant_VACANT_CY',\n",
       " 'vacant_VACANT_FY',\n",
       " 'housingunittotals_TOTHU_CY',\n",
       " 'homevalue_MEDVAL_CY',\n",
       " 'homevalue_ACSMEDVAL',\n",
       " 'RetailDemandbyNAICS_INDRTFD_X',\n",
       " 'RetailDemandbyNAICS_INDRT_X',\n",
       " 'RetailDemandbyNAICS_IND722_X',\n",
       " 'EmploymentUnemployment_UNEMPRT_CY',\n",
       " 'KeyUSFacts_MEDVAL_CY',\n",
       " 'KeyUSFacts_MEDVAL_FY',\n",
       " 'WalkabilityIndex',\n",
       " 'Shape_Length',\n",
       " 'Shape_Area']"
      ]
     },
     "execution_count": 67,
     "metadata": {},
     "output_type": "execute_result"
    }
   ],
   "source": [
    "cols = []\n",
    "for row in arcpy.ListFields('ArlingtonMarketReadinessPoliceFireStations'):\n",
    "    cols.append(row.name)\n",
    "cols  "
   ]
  },
  {
   "cell_type": "markdown",
   "id": "5501cbd6",
   "metadata": {},
   "source": [
    "- Traffic Count"
   ]
  },
  {
   "cell_type": "code",
   "execution_count": 68,
   "id": "0225e847",
   "metadata": {},
   "outputs": [
    {
     "data": {
      "text/plain": [
       "['OBJECTID',\n",
       " 'Shape',\n",
       " 'DIST_NM',\n",
       " 'CNTY_NM',\n",
       " 'TRFC_STATN',\n",
       " 'LATEST_AAD',\n",
       " 'AADT_RPT_Q',\n",
       " 'AADT_RPT_H',\n",
       " 'AADT_RPT_1',\n",
       " 'AADT_RPT_2',\n",
       " 'AADT_RPT_3']"
      ]
     },
     "execution_count": 68,
     "metadata": {},
     "output_type": "execute_result"
    }
   ],
   "source": [
    "cols = []\n",
    "for row in arcpy.ListFields('TrafficCountyHistoric5Year'):\n",
    "    cols.append(row.name)\n",
    "cols  "
   ]
  },
  {
   "cell_type": "code",
   "execution_count": 83,
   "id": "29e9da9d",
   "metadata": {},
   "outputs": [
    {
     "data": {
      "text/html": [
       "<div class='gpresult'><h2>Messages</h2><div id='messages' data-messages='[\"Start Time: Sunday, August 17, 2025 4:19:08 PM\",\"Succeeded at Sunday, August 17, 2025 4:19:08 PM (Elapsed Time: 0.24 seconds)\"]' data-show='true'><div id = 'default' /></div></div>"
      ],
      "text/plain": [
       "<Result 'C:\\\\Users\\\\Thepr\\\\Documents\\\\Consulting\\\\Market Readiness\\\\Market Readiness.gdb\\\\ArlingtonMarketReadinessTraffic'>"
      ]
     },
     "execution_count": 83,
     "metadata": {},
     "output_type": "execute_result"
    }
   ],
   "source": [
    "fieldmapping = arcpy.FieldMappings()\n",
    "fieldmapping.addTable(\"ArlingtonMarketReadinessPoliceFireStations\")\n",
    "fieldmapping.addTable(\"TrafficCountyHistoric5Year\")\n",
    "\n",
    "index = fieldmapping.findFieldMapIndex('AADT_RPT_Q')\n",
    "fmap = fieldmapping.getFieldMap(index)\n",
    "fmap.mergeRule = 'Mean'\n",
    "fieldmapping.replaceFieldMap(index, fmap)\n",
    "\n",
    "\n",
    "analysisfields = ['OBJECTID','Shape','DISTNAME','CAMPNAME','STREET','CITY','ZIP','INSTR_TYPE','XCOORD','YCOORD',\n",
    "                  'DOWNLOADDATE','GRADEGROUP','State','TARGET_FID','TARGET_FID_1','ObjectID_1','OBJECTID_1','Shape',\n",
    "                  'OBJECTID','BUILDINGCO','ADDRESS','HOSPITALNA','Type','OBJECTID_1','Shape','ObjectId','Store_Name',\n",
    "                  'Address','City','State','County','Longitude','Latitude','StoreType','Produce',\n",
    "                 'OBJECTID_1','Shape','ImportDate','OBJECTID','FacilityNa','Establishm','PropertyAd',\n",
    "                  'Inspection','Inspecti_1','Attempt','XCoord','YCoord','Inspecti_2', 'Type','Tags','ServesAlcohol',\n",
    "                  'Name','Address','City','State','ZIP','Phone','OnlineReviewLink','NavigateToLink','CreationDate',\n",
    "                  'Creator','EditDate','Editor','OBJECTID_1','Shape','OBJECTID','NAME','OWNER','NOTES','CITY',\n",
    "                  'FEATTYPE','STATUS','SOURCE', 'SOURCE_YEA', 'ShapeSTLen', 'ShapeSTAre', 'ORIG_FID',\n",
    "                 'OBJECTID_1','Shape','OBJECTID','STATIONNAM','PARCELADDR','STRUCTUREA','DISTRICTID','STATION',\n",
    "                 'Walkscore','OBJECTID','Ranking_1','FREQUENCY','SUM_WeightedWalk','SUM_Acres','Shape_Length','Shape_Area',\n",
    "                 'OBJECTID','Shape','DIST_NM','CNTY_NM','TRFC_STATN','LATEST_AAD', 'AADT_RPT_H','TARGET_FID_12',\n",
    "                  'AADT_RPT_1', 'AADT_RPT_2','AADT_RPT_3','Join_Count','TARGET_FID']\n",
    "\n",
    "\n",
    "for field in fieldmapping.fields:\n",
    "    if field.name in analysisfields:\n",
    "        fieldmapping.removeFieldMap(fieldmapping.findFieldMapIndex(field.name))\n",
    "        \n",
    "\n",
    "arcpy.analysis.SpatialJoin(\"ArlingtonMarketReadinessPoliceFireStations\",\n",
    "                           \"TrafficCountyHistoric5Year\",\"ArlingtonMarketReadinessTraffic\",\n",
    "                           \"JOIN_ONE_TO_ONE\",\n",
    "                           \"KEEP_ALL\",fieldmapping,\n",
    "                           \"WITHIN_A_DISTANCE\",\n",
    "                           \"1 Miles\",\n",
    "                           \"\",\n",
    "                           None)\n",
    "\n",
    "arcpy.management.AlterField(\"ArlingtonMarketReadinessTraffic\",\"AADT_RPT_Q\",\"Avg5yrTraffic\",\"Avg5yrTraffic\")\n",
    "arcpy.management.AlterField(\"ArlingtonMarketReadinessTraffic\",\"Join_Count\",\"NearbyTrafficSensors\",\"NearbyTrafficSensors\")"
   ]
  },
  {
   "cell_type": "code",
   "execution_count": 82,
   "id": "bcc0fa25",
   "metadata": {
    "collapsed": true
   },
   "outputs": [
    {
     "data": {
      "text/plain": [
       "['OBJECTID',\n",
       " 'Shape',\n",
       " 'NearbyTrafficCensors',\n",
       " 'TARGET_FID',\n",
       " 'NearbyPolice',\n",
       " 'NearbyParks',\n",
       " 'NearbyRestuarants',\n",
       " 'NearbyGrocery',\n",
       " 'Nearbyhealthcare',\n",
       " 'NearbySchools',\n",
       " 'NewConstructionActivity',\n",
       " 'NearbyCommercialDevelopment',\n",
       " 'NearbyResidentialDevelopment',\n",
       " 'Shape_Leng',\n",
       " 'Comments',\n",
       " 'Acres',\n",
       " 'Descriptio',\n",
       " 'Ranking',\n",
       " 'Location',\n",
       " 'Value',\n",
       " 'Override',\n",
       " 'aggregationMethod',\n",
       " 'HasData',\n",
       " 'ORIGINAL_OID',\n",
       " 'sourceCountry',\n",
       " 'apportionmentConfidence',\n",
       " 'populationToPolygonSizeRating',\n",
       " 'populationtotals_TOTPOP_CY',\n",
       " 'populationtotals_POPDENS_CY',\n",
       " 'populationtotals_TOTPOP_FY',\n",
       " 'HistoricalHousing_TOTHU_CY',\n",
       " 'vacant_VACANT_CY',\n",
       " 'vacant_VACANT_FY',\n",
       " 'housingunittotals_TOTHU_CY',\n",
       " 'homevalue_MEDVAL_CY',\n",
       " 'homevalue_ACSMEDVAL',\n",
       " 'RetailDemandbyNAICS_INDRTFD_X',\n",
       " 'RetailDemandbyNAICS_INDRT_X',\n",
       " 'RetailDemandbyNAICS_IND722_X',\n",
       " 'EmploymentUnemployment_UNEMPRT_CY',\n",
       " 'KeyUSFacts_MEDVAL_CY',\n",
       " 'KeyUSFacts_MEDVAL_FY',\n",
       " 'WalkabilityIndex',\n",
       " 'Avg5yrTraffic',\n",
       " 'Shape_Length',\n",
       " 'Shape_Area']"
      ]
     },
     "execution_count": 82,
     "metadata": {},
     "output_type": "execute_result"
    }
   ],
   "source": [
    "cols = []\n",
    "for row in arcpy.ListFields('ArlingtonMarketReadinessTraffic'):\n",
    "    cols.append(row.name)\n",
    "cols "
   ]
  },
  {
   "cell_type": "markdown",
   "id": "4296c698",
   "metadata": {},
   "source": [
    "- Environmental and Protected Areas"
   ]
  },
  {
   "cell_type": "code",
   "execution_count": 85,
   "id": "e6b5ee4e",
   "metadata": {
    "collapsed": true
   },
   "outputs": [
    {
     "data": {
      "text/plain": [
       "['OBJECTID_1',\n",
       " 'Shape',\n",
       " 'OBJECTID',\n",
       " 'TaxParcelI',\n",
       " 'TaxParcelA',\n",
       " 'TaxLegalKe',\n",
       " 'MoreInform',\n",
       " 'ShapeSTAre',\n",
       " 'ShapeSTLen',\n",
       " 'Shape_Length',\n",
       " 'Shape_Area']"
      ]
     },
     "execution_count": 85,
     "metadata": {},
     "output_type": "execute_result"
    }
   ],
   "source": [
    "cols = []\n",
    "for row in arcpy.ListFields('Brownfields'):\n",
    "    cols.append(row.name)\n",
    "cols "
   ]
  },
  {
   "cell_type": "code",
   "execution_count": 84,
   "id": "6647cf02",
   "metadata": {},
   "outputs": [
    {
     "data": {
      "text/html": [
       "<div class='gpresult'><h2>Messages</h2><div id='messages' data-messages='[\"Start Time: Sunday, August 17, 2025 4:20:43 PM\",\"Succeeded at Sunday, August 17, 2025 4:20:43 PM (Elapsed Time: 0.46 seconds)\"]' data-show='true'><div id = 'default' /></div></div>"
      ],
      "text/plain": [
       "<Result 'C:\\\\Users\\\\Thepr\\\\Documents\\\\Consulting\\\\Market Readiness\\\\Market Readiness.gdb\\\\Brownfields2024'>"
      ]
     },
     "execution_count": 84,
     "metadata": {},
     "output_type": "execute_result"
    }
   ],
   "source": [
    "arcpy.management.FeatureToPoint(\"Brownfields\",\"Brownfields2024\",\"CENTROID\")"
   ]
  },
  {
   "cell_type": "code",
   "execution_count": 86,
   "id": "6a411a8a",
   "metadata": {},
   "outputs": [
    {
     "data": {
      "text/html": [
       "<div class='gpresult'><h2>Messages</h2><div id='messages' data-messages='[\"Start Time: Sunday, August 17, 2025 4:28:37 PM\",\"Succeeded at Sunday, August 17, 2025 4:28:37 PM (Elapsed Time: 0.24 seconds)\"]' data-show='true'><div id = 'default' /></div></div>"
      ],
      "text/plain": [
       "<Result 'C:\\\\Users\\\\Thepr\\\\Documents\\\\Consulting\\\\Market Readiness\\\\Market Readiness.gdb\\\\ArlingtonMarketReadinessBrownfields'>"
      ]
     },
     "execution_count": 86,
     "metadata": {},
     "output_type": "execute_result"
    }
   ],
   "source": [
    "fieldmapping = arcpy.FieldMappings()\n",
    "fieldmapping.addTable(\"ArlingtonMarketReadinessTraffic\")\n",
    "fieldmapping.addTable(\"Brownfields\")\n",
    "\n",
    "analysisfields = ['OBJECTID','Shape','DISTNAME','CAMPNAME','STREET','CITY','ZIP','INSTR_TYPE','XCOORD','YCOORD',\n",
    "                  'DOWNLOADDATE','GRADEGROUP','State','TARGET_FID','TARGET_FID_1','ObjectID_1','OBJECTID_1','Shape',\n",
    "                  'OBJECTID','BUILDINGCO','ADDRESS','HOSPITALNA','Type','OBJECTID_1','Shape','ObjectId','Store_Name',\n",
    "                  'Address','City','State','County','Longitude','Latitude','StoreType','Produce',\n",
    "                 'OBJECTID_1','Shape','ImportDate','OBJECTID','FacilityNa','Establishm','PropertyAd',\n",
    "                  'Inspection','Inspecti_1','Attempt','XCoord','YCoord','Inspecti_2', 'Type','Tags','ServesAlcohol',\n",
    "                  'Name','Address','City','State','ZIP','Phone','OnlineReviewLink','NavigateToLink','CreationDate',\n",
    "                  'Creator','EditDate','Editor','OBJECTID_1','Shape','OBJECTID','NAME','OWNER','NOTES','CITY',\n",
    "                  'FEATTYPE','STATUS','SOURCE', 'SOURCE_YEA', 'ShapeSTLen', 'ShapeSTAre', 'ORIG_FID',\n",
    "                 'OBJECTID_1','Shape','OBJECTID','STATIONNAM','PARCELADDR','STRUCTUREA','DISTRICTID','STATION',\n",
    "                 'Walkscore','OBJECTID','Ranking_1','FREQUENCY','SUM_WeightedWalk','SUM_Acres','Shape_Length','Shape_Area',\n",
    "                 'OBJECTID_1', 'Shape','OBJECTID', 'TaxParcelI', 'TaxParcelA', 'TaxLegalKe', 'MoreInform', 'ShapeSTAre',\n",
    "                  'ShapeSTLen']\n",
    "\n",
    "\n",
    "for field in fieldmapping.fields:\n",
    "    if field.name in analysisfields:\n",
    "        fieldmapping.removeFieldMap(fieldmapping.findFieldMapIndex(field.name))\n",
    "        \n",
    "\n",
    "arcpy.analysis.SpatialJoin(\"ArlingtonMarketReadinessTraffic\",\n",
    "                           \"Brownfields\",\"ArlingtonMarketReadinessBrownfields\",\n",
    "                           \"JOIN_ONE_TO_ONE\",\n",
    "                           \"KEEP_ALL\",fieldmapping,\n",
    "                           \"WITHIN_A_DISTANCE\",\n",
    "                           \"1 Miles\",\n",
    "                           \"\",\n",
    "                           None)\n",
    "\n",
    "arcpy.management.AlterField(\"ArlingtonMarketReadinessBrownfields\",\"Join_Count\",\"NearbyBrownfields\",\"NearbyBrownfields\")"
   ]
  },
  {
   "cell_type": "code",
   "execution_count": null,
   "id": "d2796fca",
   "metadata": {},
   "outputs": [],
   "source": []
  }
 ],
 "metadata": {
  "kernelspec": {
   "display_name": "Python 3 (ipykernel)",
   "language": "python",
   "name": "python3"
  },
  "language_info": {
   "codemirror_mode": {
    "name": "ipython",
    "version": 3
   },
   "file_extension": ".py",
   "mimetype": "text/x-python",
   "name": "python",
   "nbconvert_exporter": "python",
   "pygments_lexer": "ipython3",
   "version": "3.9.18"
  }
 },
 "nbformat": 4,
 "nbformat_minor": 5
}
