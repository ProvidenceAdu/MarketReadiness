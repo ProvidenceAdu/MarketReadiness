{
 "cells": [
  {
   "cell_type": "markdown",
   "id": "bf9bd7f2",
   "metadata": {},
   "source": [
    "### Import Libraries"
   ]
  },
  {
   "cell_type": "code",
   "execution_count": 1,
   "id": "840cab85",
   "metadata": {},
   "outputs": [],
   "source": [
    "import arcpy\n",
    "import pandas as pd\n",
    "import numpy as np\n",
    "import os\n",
    "import censusdata as cs\n",
    "from census import Census\n",
    "pd.set_option('display.max_rows',None, 'display.max_columns',None,'display.max_colwidth', None)"
   ]
  },
  {
   "cell_type": "markdown",
   "id": "ef983448",
   "metadata": {},
   "source": [
    "## Set Directory"
   ]
  },
  {
   "cell_type": "code",
   "execution_count": 2,
   "id": "da05de5b",
   "metadata": {},
   "outputs": [],
   "source": [
    "path = 'C:\\\\Users\\\\Thepr\\\\Documents\\\\Consulting\\\\Market Readiness'\n",
    "os.chdir(path)"
   ]
  },
  {
   "cell_type": "code",
   "execution_count": 3,
   "id": "319344ab",
   "metadata": {},
   "outputs": [],
   "source": [
    "ProjectGDB =  r\"C:\\\\Users\\\\Thepr\\\\Documents\\\\Consulting\\\\Market Readiness\\\\Market Readiness.gdb\\\\\"\n",
    "arcpy.env.overwriteOutput = True\n",
    "arcpy.env.workspace = ProjectGDB"
   ]
  },
  {
   "cell_type": "markdown",
   "id": "123bb257",
   "metadata": {},
   "source": [
    "- Residential Permits"
   ]
  },
  {
   "cell_type": "code",
   "execution_count": 4,
   "id": "fab19f86",
   "metadata": {},
   "outputs": [
    {
     "name": "stdout",
     "output_type": "stream",
     "text": [
      "10463\n"
     ]
    }
   ],
   "source": [
    "ResidentialPermits = arcpy.management.SelectLayerByAttribute(\n",
    "    \"Issued_Permits\",\n",
    "    \"NEW_SELECTION\",\n",
    "    \"\"\" SUBDESC IN ('Single-Family','Two-Family','Residential','Residential Pool Barrier','Residential Privacy',\n",
    "        'Residential Spa','Residential Swimming Pool','Garage Conversion','Detached Garage',\n",
    "        'Permanent Storage/Accy Building (over 320 sq ft)','Portable Storage/Accy Building (320 sq ft and under)',\n",
    "        'Patio Cover/Gazebo','Carport','Retaining Wall' )\n",
    "        \n",
    "    AND WORKDESC IN ('Addition','Demolition', 'Foundation','Interior Finish','Move','New','New Construction',\n",
    "    'New Construction - Shell','Remodel/Alterations/Repairs','Remove/Replace','Repair', 'Repair / Replacement','Reroof',\n",
    "    'Solar Panel', 'Window/Door Replacement')\n",
    "    \"\"\")\n",
    "\n",
    "ResidentialPermcount = int(arcpy.management.GetCount(ResidentialPermits)[0])\n",
    "print(ResidentialPermcount)"
   ]
  },
  {
   "cell_type": "code",
   "execution_count": 5,
   "id": "b16ca043",
   "metadata": {},
   "outputs": [
    {
     "data": {
      "text/html": [
       "<div class='gpresult'><h2>Messages</h2><div id='messages' data-messages='[\"Start Time: Wednesday, August 13, 2025 12:04:47 AM\",\"Succeeded at Wednesday, August 13, 2025 12:04:48 AM (Elapsed Time: 0.69 seconds)\"]' data-show='true'><div id = 'default' /></div></div>"
      ],
      "text/plain": [
       "<Result 'C:\\\\Users\\\\Thepr\\\\Documents\\\\Consulting\\\\Market Readiness\\\\Market Readiness.gdb\\\\ResidentialPermits'>"
      ]
     },
     "execution_count": 5,
     "metadata": {},
     "output_type": "execute_result"
    }
   ],
   "source": [
    "fieldmapping = arcpy.FieldMappings()\n",
    "fieldmapping.addTable(ResidentialPermits)\n",
    "\n",
    "analysisfields = ['FOLDERYEAR', 'STATUSDESC', 'ISSUEDATE', 'FINALDATE', 'SUBDESC', 'FOLDERNAME',\n",
    "                  'Constructi','MainUse','LandUseDes','Structure','Census','NameofBusi','SignConstr',\n",
    "                  'ServiceGri','FOLDERCOND','ImportDate']\n",
    "\n",
    "for field in fieldmapping.fields:\n",
    "    if field.name not in analysisfields:\n",
    "        fieldmapping.removeFieldMap(fieldmapping.findFieldMapIndex(field.name))\n",
    "        \n",
    "if arcpy.Exists('ResidentialPermits'):\n",
    "    arcpy.Delete_management('ResidentialPermits')\n",
    "\n",
    "arcpy.conversion.ExportFeatures(ResidentialPermits,\"ResidentialPermits\",\"\",\"NOT_USE_ALIAS\",fieldmapping,None)"
   ]
  },
  {
   "cell_type": "code",
   "execution_count": 6,
   "id": "f893bfac",
   "metadata": {},
   "outputs": [
    {
     "data": {
      "text/html": [
       "<div class='gpresult'><h2>Messages</h2><div id='messages' data-messages='[\"Start Time: Wednesday, August 13, 2025 12:04:49 AM\",\"Succeeded at Wednesday, August 13, 2025 12:04:49 AM (Elapsed Time: 0.20 seconds)\"]' data-show='true'><div id = 'default' /></div></div>"
      ],
      "text/plain": [
       "<Result 'C:\\\\Users\\\\Thepr\\\\Documents\\\\Consulting\\\\Market Readiness\\\\Market Readiness.gdb\\\\ArlingtonResNearby'>"
      ]
     },
     "execution_count": 6,
     "metadata": {},
     "output_type": "execute_result"
    }
   ],
   "source": [
    "fieldmapping = arcpy.FieldMappings()\n",
    "fieldmapping.addTable(\"ArlingtonMarketAssessmentAreasEnriched\")\n",
    "fieldmapping.addTable(\"ResidentialPermits\")\n",
    "\n",
    "analysisfields = [\"ImportDate\",\"FOLDERYEAR\",\"STATUSDESC\",\"ISSUEDATE\",\"FINALDATE\",\"SUBDESC\",\n",
    "                  \"FOLDERNAME\", \"Constructi\",\"MainUse\",\"LandUseDes\",\"Structure\",\"Census\",\"NameofBusi\",\n",
    "                  \"SignConstr\",\"ServiceGri\",\"FOLDERCOND\"]\n",
    "\n",
    "for field in fieldmapping.fields:\n",
    "    if field.name in analysisfields:\n",
    "        fieldmapping.removeFieldMap(fieldmapping.findFieldMapIndex(field.name))\n",
    "        \n",
    "\n",
    "arcpy.analysis.SpatialJoin(\"ArlingtonMarketAssessmentAreasEnriched\",\n",
    "                           \"ResidentialPermits\",\"ArlingtonResNearby\",\n",
    "                           \"JOIN_ONE_TO_ONE\",\n",
    "                           \"KEEP_ALL\",fieldmapping,\n",
    "                           \"WITHIN_A_DISTANCE\",\n",
    "                           \"1 Miles\",\n",
    "                           \"\",\n",
    "                           None)\n",
    "\n",
    "arcpy.management.AlterField(\"ArlingtonResNearby\",\"Join_Count\",\"NearbyResidentialDevelopment\",\"NearbyResidentialDevelopment\")"
   ]
  },
  {
   "cell_type": "markdown",
   "id": "8157aa3f",
   "metadata": {},
   "source": [
    "- Commercial Permits"
   ]
  },
  {
   "cell_type": "code",
   "execution_count": 7,
   "id": "5855950d",
   "metadata": {},
   "outputs": [
    {
     "name": "stdout",
     "output_type": "stream",
     "text": [
      "4595\n"
     ]
    }
   ],
   "source": [
    "CommercialPermits = arcpy.management.SelectLayerByAttribute(\n",
    " \"Issued_Permits\",\n",
    "    \"NEW_SELECTION\",\n",
    "    \"\"\"\n",
    "    SUBDESC IN ('Assembly','Awning', 'Billboard', 'Boat Dock', 'Building Identification Sign', 'Business',\n",
    "    'Canopy / Fascia Sign', 'Clean and Show', 'Commercial Privacy', 'Commercial Screening', 'Decks',\n",
    "    'Directional',  'Directory',  'Educational',  'Entryway Sign',  'Existing Business/New Owner',\n",
    "    'Expanding Lease Space',  'Factory',  'Ground',  'Institutional', 'Manufactured Housing',\n",
    "    'Marquee Sign','Menu Board', 'Mercantile',  'Multi Tenant Ground Sign', 'New Tenant',\n",
    "    'Onsite Development', 'Other Undefined Sign', 'Pole Sign','Projecting (Blade) Sign',\n",
    "    'Same Business Owner/New Business Name','Shell Building/House Lights', 'Storage',\n",
    "    'Subdivision Screening Wall', 'Temporary Construction Office', 'Temporary Sales Office',\n",
    "    'Utility & Miscellaneous', 'Wall Sign'\n",
    "    )\n",
    "    AND WORKDESC IN ( 'New','New Construction','New Construction - Shell','Interior Finish',\n",
    "    'Remodel/Alterations/Repairs', 'Repair', 'Repair / Replacement','Remove/Replace', 'Reroof',\n",
    "    'Face Change', 'Foundation', 'Solar Panel', 'Window/Door Replacement','Demolition' )\n",
    "    \"\"\"\n",
    ")\n",
    "\n",
    "CommercialPermcount = int(arcpy.management.GetCount(CommercialPermits)[0])\n",
    "print(CommercialPermcount)"
   ]
  },
  {
   "cell_type": "code",
   "execution_count": 8,
   "id": "aed2a059",
   "metadata": {},
   "outputs": [
    {
     "data": {
      "text/html": [
       "<div class='gpresult'><h2>Messages</h2><div id='messages' data-messages='[\"Start Time: Wednesday, August 13, 2025 12:04:50 AM\",\"Succeeded at Wednesday, August 13, 2025 12:04:50 AM (Elapsed Time: 0.52 seconds)\"]' data-show='true'><div id = 'default' /></div></div>"
      ],
      "text/plain": [
       "<Result 'C:\\\\Users\\\\Thepr\\\\Documents\\\\Consulting\\\\Market Readiness\\\\Market Readiness.gdb\\\\CommercialPermits'>"
      ]
     },
     "execution_count": 8,
     "metadata": {},
     "output_type": "execute_result"
    }
   ],
   "source": [
    "fieldmapping = arcpy.FieldMappings()\n",
    "fieldmapping.addTable(CommercialPermits)\n",
    "\n",
    "analysisfields = ['FOLDERYEAR', 'STATUSDESC', 'ISSUEDATE', 'FINALDATE', 'SUBDESC', 'FOLDERNAME',\n",
    "                  'Constructi','MainUse','LandUseDes','Structure','Census','NameofBusi','SignConstr',\n",
    "                  'ServiceGri','FOLDERCOND','ImportDate']\n",
    "\n",
    "for field in fieldmapping.fields:\n",
    "    if field.name not in analysisfields:\n",
    "        fieldmapping.removeFieldMap(fieldmapping.findFieldMapIndex(field.name))\n",
    "        \n",
    "if arcpy.Exists('CommercialPermits'):\n",
    "    arcpy.Delete_management('CommercialPermits')\n",
    "\n",
    "arcpy.conversion.ExportFeatures(CommercialPermits,\"CommercialPermits\",\"\",\"NOT_USE_ALIAS\",fieldmapping,None)"
   ]
  },
  {
   "cell_type": "code",
   "execution_count": 9,
   "id": "5395eca0",
   "metadata": {},
   "outputs": [
    {
     "data": {
      "text/html": [
       "<div class='gpresult'><h2>Messages</h2><div id='messages' data-messages='[\"Start Time: Wednesday, August 13, 2025 12:04:51 AM\",\"Succeeded at Wednesday, August 13, 2025 12:04:51 AM (Elapsed Time: 0.21 seconds)\"]' data-show='true'><div id = 'default' /></div></div>"
      ],
      "text/plain": [
       "<Result 'C:\\\\Users\\\\Thepr\\\\Documents\\\\Consulting\\\\Market Readiness\\\\Market Readiness.gdb\\\\ArlingtonComNearby'>"
      ]
     },
     "execution_count": 9,
     "metadata": {},
     "output_type": "execute_result"
    }
   ],
   "source": [
    "fieldmapping = arcpy.FieldMappings()\n",
    "fieldmapping.addTable(\"ArlingtonResNearby\")\n",
    "fieldmapping.addTable(\"CommercialPermits\")\n",
    "\n",
    "analysisfields = [\"ImportDate\",\"FOLDERYEAR\",\"STATUSDESC\",\"ISSUEDATE\",\"FINALDATE\",\"SUBDESC\",\n",
    "                  \"FOLDERNAME\", \"Constructi\",\"MainUse\",\"LandUseDes\",\"Structure\",\"Census\",\"NameofBusi\",\n",
    "                  \"SignConstr\",\"ServiceGri\",\"FOLDERCOND\"]\n",
    "\n",
    "for field in fieldmapping.fields:\n",
    "    if field.name in analysisfields:\n",
    "        fieldmapping.removeFieldMap(fieldmapping.findFieldMapIndex(field.name))\n",
    "        \n",
    "\n",
    "arcpy.analysis.SpatialJoin(\"ArlingtonResNearby\",\n",
    "                           \"CommercialPermits\",\"ArlingtonComNearby\",\n",
    "                           \"JOIN_ONE_TO_ONE\",\n",
    "                           \"KEEP_ALL\",fieldmapping,\n",
    "                           \"WITHIN_A_DISTANCE\",\n",
    "                           \"1 Miles\",\n",
    "                           \"\",\n",
    "                           None)\n",
    "\n",
    "arcpy.management.AlterField(\"ArlingtonComNearby\",\"Join_Count\",\"NearbyCommercialDevelopment\",\"NearbyCommercialDevelopment\")"
   ]
  },
  {
   "cell_type": "code",
   "execution_count": 10,
   "id": "a1d1a948",
   "metadata": {},
   "outputs": [
    {
     "name": "stdout",
     "output_type": "stream",
     "text": [
      "3243\n"
     ]
    }
   ],
   "source": [
    "NewConstruction = arcpy.management.SelectLayerByAttribute(\n",
    " \"Issued_Permits\",\n",
    "    \"NEW_SELECTION\",\n",
    "    \"\"\"\n",
    "    WORKDESC IN ('New Construction - Shell', 'New Construction')\n",
    "    \"\"\"\n",
    ")\n",
    "\n",
    "NewConstructionCount = int(arcpy.management.GetCount(NewConstruction)[0])\n",
    "print(NewConstructionCount)"
   ]
  },
  {
   "cell_type": "code",
   "execution_count": 11,
   "id": "f76d7e45",
   "metadata": {},
   "outputs": [
    {
     "data": {
      "text/html": [
       "<div class='gpresult'><h2>Messages</h2><div id='messages' data-messages='[\"Start Time: Wednesday, August 13, 2025 12:04:52 AM\",\"Succeeded at Wednesday, August 13, 2025 12:04:52 AM (Elapsed Time: 0.48 seconds)\"]' data-show='true'><div id = 'default' /></div></div>"
      ],
      "text/plain": [
       "<Result 'C:\\\\Users\\\\Thepr\\\\Documents\\\\Consulting\\\\Market Readiness\\\\Market Readiness.gdb\\\\NewConstruction'>"
      ]
     },
     "execution_count": 11,
     "metadata": {},
     "output_type": "execute_result"
    }
   ],
   "source": [
    "fieldmapping = arcpy.FieldMappings()\n",
    "fieldmapping.addTable(NewConstruction)\n",
    "\n",
    "analysisfields = ['FOLDERYEAR', 'STATUSDESC', 'ISSUEDATE', 'FINALDATE', 'SUBDESC', 'FOLDERNAME',\n",
    "                  'Constructi','MainUse','LandUseDes','Structure','Census','NameofBusi','SignConstr',\n",
    "                  'ServiceGri','FOLDERCOND','ImportDate']\n",
    "\n",
    "for field in fieldmapping.fields:\n",
    "    if field.name not in analysisfields:\n",
    "        fieldmapping.removeFieldMap(fieldmapping.findFieldMapIndex(field.name))\n",
    "        \n",
    "if arcpy.Exists('NewConstruction'):\n",
    "    arcpy.Delete_management('NewConstruction')\n",
    "\n",
    "arcpy.conversion.ExportFeatures(NewConstruction,\"NewConstruction\",\"\",\"NOT_USE_ALIAS\",fieldmapping,None)"
   ]
  },
  {
   "cell_type": "code",
   "execution_count": 12,
   "id": "7e78882c",
   "metadata": {},
   "outputs": [
    {
     "data": {
      "text/html": [
       "<div class='gpresult'><h2>Messages</h2><div id='messages' data-messages='[\"Start Time: Wednesday, August 13, 2025 12:04:53 AM\",\"Succeeded at Wednesday, August 13, 2025 12:04:54 AM (Elapsed Time: 0.21 seconds)\"]' data-show='true'><div id = 'default' /></div></div>"
      ],
      "text/plain": [
       "<Result 'C:\\\\Users\\\\Thepr\\\\Documents\\\\Consulting\\\\Market Readiness\\\\Market Readiness.gdb\\\\ArlingtonMarketReadiness'>"
      ]
     },
     "execution_count": 12,
     "metadata": {},
     "output_type": "execute_result"
    }
   ],
   "source": [
    "fieldmapping = arcpy.FieldMappings()\n",
    "fieldmapping.addTable(\"ArlingtonComNearby\")\n",
    "fieldmapping.addTable(\"NewConstruction\")\n",
    "\n",
    "analysisfields = [\"ImportDate\",\"FOLDERYEAR\",\"STATUSDESC\",\"ISSUEDATE\",\"FINALDATE\",\"SUBDESC\",\n",
    "                  \"FOLDERNAME\", \"Constructi\",\"MainUse\",\"LandUseDes\",\"Structure\",\"Census\",\"NameofBusi\",\n",
    "                  \"SignConstr\",\"ServiceGri\",\"FOLDERCOND\"]\n",
    "\n",
    "for field in fieldmapping.fields:\n",
    "    if field.name in analysisfields:\n",
    "        fieldmapping.removeFieldMap(fieldmapping.findFieldMapIndex(field.name))\n",
    "        \n",
    "\n",
    "arcpy.analysis.SpatialJoin(\"ArlingtonComNearby\",\n",
    "                           \"NewConstruction\",\"ArlingtonMarketReadiness\",\n",
    "                           \"JOIN_ONE_TO_ONE\",\n",
    "                           \"KEEP_ALL\",fieldmapping,\n",
    "                           \"WITHIN_A_DISTANCE\",\n",
    "                           \"1 Miles\",\n",
    "                           \"\",\n",
    "                           None)\n",
    "\n",
    "arcpy.management.AlterField(\"ArlingtonMarketReadiness\",\"Join_Count\",\"NewConstructionActivity\",\"NewConstructionActivity\")"
   ]
  },
  {
   "cell_type": "markdown",
   "id": "5cdc646c",
   "metadata": {},
   "source": [
    "### Proximity to Highway"
   ]
  },
  {
   "cell_type": "code",
   "execution_count": null,
   "id": "79748855",
   "metadata": {},
   "outputs": [],
   "source": []
  }
 ],
 "metadata": {
  "kernelspec": {
   "display_name": "Python 3 (ipykernel)",
   "language": "python",
   "name": "python3"
  },
  "language_info": {
   "codemirror_mode": {
    "name": "ipython",
    "version": 3
   },
   "file_extension": ".py",
   "mimetype": "text/x-python",
   "name": "python",
   "nbconvert_exporter": "python",
   "pygments_lexer": "ipython3",
   "version": "3.9.18"
  }
 },
 "nbformat": 4,
 "nbformat_minor": 5
}
